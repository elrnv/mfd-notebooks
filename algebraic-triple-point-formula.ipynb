{
 "cells": [
  {
   "cell_type": "code",
   "execution_count": 29,
   "metadata": {
    "collapsed": true
   },
   "outputs": [],
   "source": [
    "using SymPy"
   ]
  },
  {
   "cell_type": "code",
   "execution_count": 30,
   "metadata": {
    "collapsed": false
   },
   "outputs": [],
   "source": [
    "x = sympy.Symbol(\"x\", real=true);\n",
    "y = sympy.Symbol(\"y\", real=true);\n",
    "\n",
    "#x1 = sympy.Symbol(\"x_1\", real=true);\n",
    "#x2 = sympy.Symbol(\"x_2\", real=true);\n",
    "#y1 = sympy.Symbol(\"y_1\", real=true);\n",
    "#y2 = sympy.Symbol(\"y_2\", real=true);\n",
    "x1 = 0;\n",
    "x2 = 1;\n",
    "y1 = 0;\n",
    "y2 = 1;\n",
    "a1 = sympy.Symbol(\"a_1\", real=true);\n",
    "b1 = sympy.Symbol(\"b_1\", real=true);\n",
    "c1 = sympy.Symbol(\"c_1\", real=true);\n",
    "d1 = sympy.Symbol(\"d_1\", real=true);\n",
    "a2 = sympy.Symbol(\"a_2\", real=true);\n",
    "b2 = sympy.Symbol(\"b_2\", real=true);\n",
    "c2 = sympy.Symbol(\"c_2\", real=true);\n",
    "d2 = sympy.Symbol(\"d_2\", real=true);"
   ]
  },
  {
   "cell_type": "code",
   "execution_count": 31,
   "metadata": {
    "collapsed": false
   },
   "outputs": [],
   "source": [
    "h1(x_,y_) = (a1*(x2-x_)*(y2-y_) + b1*(x_-x1)*(y2-y_) + c1*(x_-x1)*(y_-y1) + d1*(x2-x_)*(y_-y1))/((x2-x1)*(y2-y1));"
   ]
  },
  {
   "cell_type": "code",
   "execution_count": 32,
   "metadata": {
    "collapsed": false
   },
   "outputs": [
    {
     "data": {
      "text/latex": [
       "$$\\frac{- a_{1} y + a_{1} + d_{1} y}{- a_{1} y + a_{1} + b_{1} y - b_{1} - c_{1} y + d_{1} y}$$"
      ],
      "text/plain": [
       "           -a_1*y + a_1 + d_1*y           \n",
       "------------------------------------------\n",
       "-a_1*y + a_1 + b_1*y - b_1 - c_1*y + d_1*y"
      ]
     },
     "execution_count": 32,
     "metadata": {},
     "output_type": "execute_result"
    }
   ],
   "source": [
    "x_sol = simplify(solve(h1(x,y), x)[1])"
   ]
  },
  {
   "cell_type": "code",
   "execution_count": 33,
   "metadata": {
    "collapsed": false
   },
   "outputs": [],
   "source": [
    "h2(x_,y_) = (a2*(x2-x_)*(y2-y_) + b2*(x_-x1)*(y2-y_) + c2*(x_-x1)*(y_-y1) + d2*(x2 - x_)*(y_-y1))/((x2-x1)*(y2-y1));"
   ]
  },
  {
   "cell_type": "code",
   "execution_count": 34,
   "metadata": {
    "collapsed": false
   },
   "outputs": [
    {
     "data": {
      "text/plain": [
       "sqrt_disc (generic function with 1 method)"
      ]
     },
     "execution_count": 34,
     "metadata": {},
     "output_type": "execute_result"
    }
   ],
   "source": [
    "sqrt_disc(a1,b1,c1,d1,a2,b2,c2,d2) = sqrt((a1^2*c2^2) - 2*a2*(a1*c1*c2 + b1*c1*d2 - 2*b1*c2*d1 + b2*c1*d1) - 2*a1*(b1*c2*d2 - 2*b2*c1*d2 + b2*c2*d1) + a2^2*c1^2 + (b2*d1 - b1*d2)^2)"
   ]
  },
  {
   "cell_type": "code",
   "execution_count": 43,
   "metadata": {
    "collapsed": true
   },
   "outputs": [],
   "source": [
    "xp_right(a1,b1,c1,d1,a2,b2,c2,d2) = -a1*c2 + 2*a1*d2 + a2*c1 - 2*a2*d1-b1*d2 + b2*d1;"
   ]
  },
  {
   "cell_type": "code",
   "execution_count": 42,
   "metadata": {
    "collapsed": true
   },
   "outputs": [],
   "source": [
    "xm_right(a1,b1,c1,d1,a2,b2,c2,d2) = a1*c2 - 2*a1*d2 - a2*c1 + 2*a2*d1 + b1*d2 - b2*d1;"
   ]
  },
  {
   "cell_type": "code",
   "execution_count": 36,
   "metadata": {
    "collapsed": true
   },
   "outputs": [],
   "source": [
    "x_denom(a1,b1,c1,d1,a2,b2,c2,d2) = 2*(-(a1-b1)*(c2-d2)+a2*(c1-d1) + b2*(d1-c1));"
   ]
  },
  {
   "cell_type": "code",
   "execution_count": 37,
   "metadata": {
    "collapsed": false
   },
   "outputs": [
    {
     "data": {
      "text/plain": [
       "xp (generic function with 1 method)"
      ]
     },
     "execution_count": 37,
     "metadata": {},
     "output_type": "execute_result"
    }
   ],
   "source": [
    "xp(a1,b1,c1,d1,a2,b2,c2,d2) = (sqrt_disc(a1,b1,c1,d1,a2,b2,c2,d2) - a1*c2 + 2*a1*d2 + a2*c1 - 2*a2*d1 - b1*d2 + b2*d1)/(2*(-(a1-b1)*(c2-d2)+a2*(c1-d1) + b2*(d1-c1)))"
   ]
  },
  {
   "cell_type": "code",
   "execution_count": 38,
   "metadata": {
    "collapsed": false
   },
   "outputs": [
    {
     "data": {
      "text/plain": [
       "yp (generic function with 1 method)"
      ]
     },
     "execution_count": 38,
     "metadata": {},
     "output_type": "execute_result"
    }
   ],
   "source": [
    "yp(a1,b1,c1,d1,a2,b2,c2,d2) = (sqrt_disc(a1,b1,c1,d1,a2,b2,c2,d2) - 2*a1*b2 +a1*c2 + 2*a2*b1 - a2*c1 - b1*d2 + b2*d1)/(2*(a1*(c2-b2)+a2*(b1-c1)-b1*d2+b2*d1+c1*d2-c2*d1))"
   ]
  },
  {
   "cell_type": "code",
   "execution_count": 39,
   "metadata": {
    "collapsed": false
   },
   "outputs": [
    {
     "data": {
      "text/plain": [
       "xm (generic function with 1 method)"
      ]
     },
     "execution_count": 39,
     "metadata": {},
     "output_type": "execute_result"
    }
   ],
   "source": [
    "xm(a1,b1,c1,d1,a2,b2,c2,d2) = -((sqrt_disc(a1,b1,c1,d1,a2,b2,c2,d2) + a1*c2 - 2*a1*d2 - a2*c1 + 2*a2*d1 + b1*d2 - b2*d1)/(2*(-(a1-b1)*(c2-d2)+a2*(c1-d1) + b2*(d1-c1))))"
   ]
  },
  {
   "cell_type": "code",
   "execution_count": 40,
   "metadata": {
    "collapsed": false
   },
   "outputs": [
    {
     "data": {
      "text/plain": [
       "ym (generic function with 1 method)"
      ]
     },
     "execution_count": 40,
     "metadata": {},
     "output_type": "execute_result"
    }
   ],
   "source": [
    "ym(a1,b1,c1,d1,a2,b2,c2,d2) = -((sqrt_disc(a1,b1,c1,d1,a2,b2,c2,d2) + 2*a1*b2 - a1*c2 - 2*a2*b1 + a2*c1 + b1*d2 - b2*d1)/(2*(a1*(c2-b2)+a2*(b1-c1)-b1*d2+b2*d1+c1*d2-c2*d1)))"
   ]
  },
  {
   "cell_type": "code",
   "execution_count": 41,
   "metadata": {
    "collapsed": false,
    "scrolled": true
   },
   "outputs": [
    {
     "data": {
      "text/latex": [
       "$$\\frac{1}{- 2 a_{2} \\left(c_{1} - d_{1}\\right) + 2 b_{2} \\left(c_{1} - d_{1}\\right) + 2 \\left(a_{1} - b_{1}\\right) \\left(c_{2} - d_{2}\\right)} \\left(a_{1} c_{2} - 2 a_{1} d_{2} - a_{2} c_{1} + 2 a_{2} d_{1} + b_{1} d_{2} - b_{2} d_{1} - \\sqrt{a_{1}^{2} c_{2}^{2} - 2 a_{1} \\left(b_{1} c_{2} d_{2} - 2 b_{2} c_{1} d_{2} + b_{2} c_{2} d_{1}\\right) + a_{2}^{2} c_{1}^{2} - 2 a_{2} \\left(a_{1} c_{1} c_{2} + b_{1} c_{1} d_{2} - 2 b_{1} c_{2} d_{1} + b_{2} c_{1} d_{1}\\right) + \\left(b_{1} d_{2} - b_{2} d_{1}\\right)^{2}}\\right)$$"
      ],
      "text/plain": [
       "                                                                   ___________\n",
       "                                                                  /    2    2 \n",
       "a_1*c_2 - 2*a_1*d_2 - a_2*c_1 + 2*a_2*d_1 + b_1*d_2 - b_2*d_1 - \\/  a_1 *c_2  \n",
       "------------------------------------------------------------------------------\n",
       "                                                                              \n",
       "\n",
       "______________________________________________________________________________\n",
       "                                                         2    2               \n",
       "- 2*a_1*(b_1*c_2*d_2 - 2*b_2*c_1*d_2 + b_2*c_2*d_1) + a_2 *c_1  - 2*a_2*(a_1*c\n",
       "------------------------------------------------------------------------------\n",
       "      2*(-a_2*(c_1 - d_1) + b_2*(c_1 - d_1) + (a_1 - b_1)*(c_2 - d_2))        \n",
       "\n",
       "___________________________________________________________________________\n",
       "                                                                         2 \n",
       "_1*c_2 + b_1*c_1*d_2 - 2*b_1*c_2*d_1 + b_2*c_1*d_1) + (b_1*d_2 - b_2*d_1)  \n",
       "---------------------------------------------------------------------------\n",
       "                                                                           "
      ]
     },
     "execution_count": 41,
     "metadata": {},
     "output_type": "execute_result"
    }
   ],
   "source": [
    "simplify(xp(a1,b1,c1,d1,a2,b2,c2,d2))"
   ]
  },
  {
   "cell_type": "code",
   "execution_count": 45,
   "metadata": {
    "collapsed": false
   },
   "outputs": [
    {
     "data": {
      "text/plain": [
       "4.0"
      ]
     },
     "execution_count": 45,
     "metadata": {},
     "output_type": "execute_result"
    }
   ],
   "source": [
    "sqrt_disc(1,1,-1,-1, 1,-1,-1,1)"
   ]
  },
  {
   "cell_type": "code",
   "execution_count": 46,
   "metadata": {
    "collapsed": false
   },
   "outputs": [
    {
     "data": {
      "text/plain": [
       "4"
      ]
     },
     "execution_count": 46,
     "metadata": {},
     "output_type": "execute_result"
    }
   ],
   "source": [
    "xp_right(1,1,-1,-1, 1,-1,-1,1)"
   ]
  },
  {
   "cell_type": "code",
   "execution_count": 47,
   "metadata": {
    "collapsed": false
   },
   "outputs": [
    {
     "data": {
      "text/plain": [
       "-4"
      ]
     },
     "execution_count": 47,
     "metadata": {},
     "output_type": "execute_result"
    }
   ],
   "source": [
    "xm_right(1,1,-1,-1, 1,-1,-1,1)"
   ]
  },
  {
   "cell_type": "code",
   "execution_count": 26,
   "metadata": {
    "collapsed": false
   },
   "outputs": [
    {
     "data": {
      "text/plain": [
       "0"
      ]
     },
     "execution_count": 26,
     "metadata": {},
     "output_type": "execute_result"
    }
   ],
   "source": [
    "x_denom(1,1,-1,-1, 1,-1,-1,1)"
   ]
  },
  {
   "cell_type": "code",
   "execution_count": 21,
   "metadata": {
    "collapsed": false
   },
   "outputs": [
    {
     "data": {
      "text/plain": [
       "NaN"
      ]
     },
     "execution_count": 21,
     "metadata": {},
     "output_type": "execute_result"
    }
   ],
   "source": [
    "ym(1,1,-1,-1, 1,-1,-1,1)"
   ]
  },
  {
   "cell_type": "code",
   "execution_count": null,
   "metadata": {
    "collapsed": true
   },
   "outputs": [],
   "source": []
  }
 ],
 "metadata": {
  "kernelspec": {
   "display_name": "Julia 0.3.9",
   "language": "julia",
   "name": "julia-0.3"
  },
  "language_info": {
   "name": "julia",
   "version": "0.3.9"
  }
 },
 "nbformat": 4,
 "nbformat_minor": 0
}
