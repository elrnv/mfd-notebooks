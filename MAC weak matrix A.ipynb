{
 "cells": [
  {
   "cell_type": "code",
   "execution_count": 63,
   "metadata": {
    "collapsed": false,
    "slideshow": {
     "slide_type": "-"
    }
   },
   "outputs": [],
   "source": [
    "using SymPy\n",
    "dx = sympy.Symbol(\"dx\", real=true);\n",
    "dt = sympy.Symbol(\"dt\", real=true);"
   ]
  },
  {
   "cell_type": "code",
   "execution_count": 64,
   "metadata": {
    "collapsed": false
   },
   "outputs": [
    {
     "data": {
      "text/latex": [
       "\\begin{bmatrix}1&0&0\\\\1&dx&0\\\\1&dx&dx\\\\1&0&dx\\end{bmatrix}"
      ],
      "text/plain": [
       "4x3 Array{Sym,2}\n",
       "[1  0   0 ]\n",
       "[         ]\n",
       "[1  dx  0 ]\n",
       "[         ]\n",
       "[1  dx  dx]\n",
       "[         ]\n",
       "[1  0   dx]"
      ]
     },
     "execution_count": 64,
     "metadata": {},
     "output_type": "execute_result"
    }
   ],
   "source": [
    "# bottom left -> bottom right -> top right -> top left\n",
    "#N = [ 1 -dx/2 -dx/2; 1 dx/2 -dx/2; 1 dx/2 dx/2; 1 -dx/2 dx/2 ]\n",
    "N = [ 1 0 0; 1 dx 0; 1 dx dx; 1 0 dx ]"
   ]
  },
  {
   "cell_type": "code",
   "execution_count": 75,
   "metadata": {
    "collapsed": false,
    "scrolled": true
   },
   "outputs": [
    {
     "data": {
      "text/latex": [
       "\\begin{bmatrix}0&- \\frac{dt dx}{2}&- \\frac{dt dx}{2}\\\\0&\\frac{dt dx}{2}&- \\frac{dt dx}{2}\\\\0&\\frac{dt dx}{2}&\\frac{dt dx}{2}\\\\0&- \\frac{dt dx}{2}&\\frac{dt dx}{2}\\end{bmatrix}"
      ],
      "text/plain": [
       "4x3 Array{Sym,2}\n",
       "[   -dt*dx   -dt*dx ]\n",
       "[0  -------  -------]\n",
       "[      2        2   ]\n",
       "[                   ]\n",
       "[    dt*dx   -dt*dx ]\n",
       "[0   -----   -------]\n",
       "[      2        2   ]\n",
       "[                   ]\n",
       "[    dt*dx    dt*dx ]\n",
       "[0   -----    ----- ]\n",
       "[      2        2   ]\n",
       "[                   ]\n",
       "[   -dt*dx    dt*dx ]\n",
       "[0  -------   ----- ]\n",
       "[      2        2   ]"
      ]
     },
     "execution_count": 75,
     "metadata": {},
     "output_type": "execute_result"
    }
   ],
   "source": [
    "R = (dx*dt/2)*[0 -1 -1; 0 1 -1; 0 1 1; 0 -1 1]"
   ]
  },
  {
   "cell_type": "code",
   "execution_count": 76,
   "metadata": {
    "collapsed": false
   },
   "outputs": [
    {
     "data": {
      "text/latex": [
       "\\begin{bmatrix}0&0&0\\\\0&dt dx^{2}&0\\\\0&0&dt dx^{2}\\end{bmatrix}"
      ],
      "text/plain": [
       "3x3 Array{Sym,2}\n",
       "[0    0       0   ]\n",
       "[                 ]\n",
       "[        2        ]\n",
       "[0  dt*dx     0   ]\n",
       "[                 ]\n",
       "[                2]\n",
       "[0    0     dt*dx ]"
      ]
     },
     "execution_count": 76,
     "metadata": {},
     "output_type": "execute_result"
    }
   ],
   "source": [
    "R'*N"
   ]
  },
  {
   "cell_type": "code",
   "execution_count": 66,
   "metadata": {
    "collapsed": false
   },
   "outputs": [
    {
     "data": {
      "text/latex": [
       "\\begin{bmatrix}0&0&0\\\\0&\\frac{1}{dt dx^{2}}&0\\\\0&0&\\frac{1}{dt dx^{2}}\\end{bmatrix}"
      ],
      "text/plain": [
       "3x3 Array{Sym,2}\n",
       "[0    0       0   ]\n",
       "[                 ]\n",
       "[     1           ]\n",
       "[0  ------    0   ]\n",
       "[        2        ]\n",
       "[   dt*dx         ]\n",
       "[                 ]\n",
       "[             1   ]\n",
       "[0    0     ------]\n",
       "[                2]\n",
       "[           dt*dx ]"
      ]
     },
     "execution_count": 66,
     "metadata": {},
     "output_type": "execute_result"
    }
   ],
   "source": [
    "invRtN = (1/(dx*dx*dt))*[0 0 0; 0 1 0; 0 0 1]"
   ]
  },
  {
   "cell_type": "code",
   "execution_count": 67,
   "metadata": {
    "collapsed": false,
    "scrolled": true
   },
   "outputs": [
    {
     "data": {
      "text/latex": [
       "\\begin{bmatrix}\\frac{dt}{2}&0&- \\frac{dt}{2}&0\\\\0&\\frac{dt}{2}&0&- \\frac{dt}{2}\\\\- \\frac{dt}{2}&0&\\frac{dt}{2}&0\\\\0&- \\frac{dt}{2}&0&\\frac{dt}{2}\\end{bmatrix}"
      ],
      "text/plain": [
       "4x4 Array{Sym,2}\n",
       "[ dt         -dt       ]\n",
       "[ --    0    ----   0  ]\n",
       "[ 2           2        ]\n",
       "[                      ]\n",
       "[       dt         -dt ]\n",
       "[ 0     --    0    ----]\n",
       "[       2           2  ]\n",
       "[                      ]\n",
       "[-dt          dt       ]\n",
       "[----   0     --    0  ]\n",
       "[ 2           2        ]\n",
       "[                      ]\n",
       "[      -dt          dt ]\n",
       "[ 0    ----   0     -- ]\n",
       "[       2           2  ]"
      ]
     },
     "execution_count": 67,
     "metadata": {},
     "output_type": "execute_result"
    }
   ],
   "source": [
    "M0 = R*invRtN*R'"
   ]
  },
  {
   "cell_type": "code",
   "execution_count": 68,
   "metadata": {
    "collapsed": false
   },
   "outputs": [
    {
     "data": {
      "text/latex": [
       "\\begin{bmatrix}4&2 dx&2 dx\\\\2 dx&2 dx^{2}&dx^{2}\\\\2 dx&dx^{2}&2 dx^{2}\\end{bmatrix}"
      ],
      "text/plain": [
       "3x3 Array{Sym,2}\n",
       "[ 4    2*dx   2*dx ]\n",
       "[                  ]\n",
       "[          2     2 ]\n",
       "[2*dx  2*dx    dx  ]\n",
       "[                  ]\n",
       "[         2       2]\n",
       "[2*dx   dx    2*dx ]"
      ]
     },
     "execution_count": 68,
     "metadata": {},
     "output_type": "execute_result"
    }
   ],
   "source": [
    "NtN = N'*N"
   ]
  },
  {
   "cell_type": "code",
   "execution_count": 69,
   "metadata": {
    "collapsed": false,
    "scrolled": true
   },
   "outputs": [
    {
     "data": {
      "text/latex": [
       "\\begin{bmatrix}\\frac{3}{4}&- \\frac{1}{2 dx}&- \\frac{1}{2 dx}\\\\- \\frac{1}{2 dx}&\\frac{1}{dx^{2}}&0\\\\- \\frac{1}{2 dx}&0&\\frac{1}{dx^{2}}\\end{bmatrix}"
      ],
      "text/plain": [
       "3x3 Array{Sym,2}\n",
       "[      -1    -1  ]\n",
       "[3/4   ----  ----]\n",
       "[      2*dx  2*dx]\n",
       "[                ]\n",
       "[-1     1        ]\n",
       "[----  ---    0  ]\n",
       "[2*dx    2       ]\n",
       "[      dx        ]\n",
       "[                ]\n",
       "[-1           1  ]\n",
       "[----   0    --- ]\n",
       "[2*dx          2 ]\n",
       "[            dx  ]"
      ]
     },
     "execution_count": 69,
     "metadata": {},
     "output_type": "execute_result"
    }
   ],
   "source": [
    "invNtN = inv(NtN);\n",
    "Sym[simplify(invNtN[i,j]) for i=1:3, j=1:3]"
   ]
  },
  {
   "cell_type": "code",
   "execution_count": 70,
   "metadata": {
    "collapsed": false
   },
   "outputs": [
    {
     "data": {
      "text/latex": [
       "\\begin{bmatrix}\\frac{3}{4}&\\frac{1}{4}&- \\frac{1}{4}&\\frac{1}{4}\\\\\\frac{1}{4}&\\frac{3}{4}&\\frac{1}{4}&- \\frac{1}{4}\\\\- \\frac{1}{4}&\\frac{1}{4}&\\frac{3}{4}&\\frac{1}{4}\\\\\\frac{1}{4}&- \\frac{1}{4}&\\frac{1}{4}&\\frac{3}{4}\\end{bmatrix}"
      ],
      "text/plain": [
       "4x4 Array{Sym,2}\n",
       "[3/4   1/4   -1/4  1/4 ]\n",
       "[                      ]\n",
       "[1/4   3/4   1/4   -1/4]\n",
       "[                      ]\n",
       "[-1/4  1/4   3/4   1/4 ]\n",
       "[                      ]\n",
       "[1/4   -1/4  1/4   3/4 ]"
      ]
     },
     "execution_count": 70,
     "metadata": {},
     "output_type": "execute_result"
    }
   ],
   "source": [
    "NinvNtNNt = N*invNtN*N'"
   ]
  },
  {
   "cell_type": "code",
   "execution_count": 84,
   "metadata": {
    "collapsed": false
   },
   "outputs": [
    {
     "data": {
      "text/latex": [
       "$$2 dt$$"
      ],
      "text/plain": [
       "2*dt"
      ]
     },
     "execution_count": 84,
     "metadata": {},
     "output_type": "execute_result"
    }
   ],
   "source": [
    "lambda = trace(M0)"
   ]
  },
  {
   "cell_type": "code",
   "execution_count": 85,
   "metadata": {
    "collapsed": false
   },
   "outputs": [
    {
     "data": {
      "text/latex": [
       "\\begin{bmatrix}0.5 dt&- 0.5 dt&0.5 dt&- 0.5 dt\\\\- 0.5 dt&0.5 dt&- 0.5 dt&0.5 dt\\\\0.5 dt&- 0.5 dt&0.5 dt&- 0.5 dt\\\\- 0.5 dt&0.5 dt&- 0.5 dt&0.5 dt\\end{bmatrix}"
      ],
      "text/plain": [
       "4x4 Array{Sym,2}\n",
       "[0.5*dt   -0.5*dt  0.5*dt   -0.5*dt]\n",
       "[                                  ]\n",
       "[-0.5*dt  0.5*dt   -0.5*dt  0.5*dt ]\n",
       "[                                  ]\n",
       "[0.5*dt   -0.5*dt  0.5*dt   -0.5*dt]\n",
       "[                                  ]\n",
       "[-0.5*dt  0.5*dt   -0.5*dt  0.5*dt ]"
      ]
     },
     "execution_count": 85,
     "metadata": {},
     "output_type": "execute_result"
    }
   ],
   "source": [
    "M1 = lambda*(eye(4) - NinvNtNNt)"
   ]
  },
  {
   "cell_type": "code",
   "execution_count": 86,
   "metadata": {
    "collapsed": false
   },
   "outputs": [
    {
     "data": {
      "text/latex": [
       "\\begin{bmatrix}1.0 dt&- 0.5 dt&0&- 0.5 dt\\\\- 0.5 dt&1.0 dt&- 0.5 dt&0\\\\0&- 0.5 dt&1.0 dt&- 0.5 dt\\\\- 0.5 dt&0&- 0.5 dt&1.0 dt\\end{bmatrix}"
      ],
      "text/plain": [
       "4x4 Array{Sym,2}\n",
       "[1.0*dt   -0.5*dt     0     -0.5*dt]\n",
       "[                                  ]\n",
       "[-0.5*dt  1.0*dt   -0.5*dt     0   ]\n",
       "[                                  ]\n",
       "[   0     -0.5*dt  1.0*dt   -0.5*dt]\n",
       "[                                  ]\n",
       "[-0.5*dt     0     -0.5*dt  1.0*dt ]"
      ]
     },
     "execution_count": 86,
     "metadata": {},
     "output_type": "execute_result"
    }
   ],
   "source": [
    "M = M0 + M1"
   ]
  },
  {
   "cell_type": "code",
   "execution_count": null,
   "metadata": {
    "collapsed": true
   },
   "outputs": [],
   "source": []
  }
 ],
 "metadata": {
  "celltoolbar": "Raw Cell Format",
  "kernelspec": {
   "display_name": "Julia 0.3.9",
   "language": "julia",
   "name": "julia-0.3"
  },
  "language_info": {
   "name": "julia",
   "version": "0.3.9"
  }
 },
 "nbformat": 4,
 "nbformat_minor": 0
}
