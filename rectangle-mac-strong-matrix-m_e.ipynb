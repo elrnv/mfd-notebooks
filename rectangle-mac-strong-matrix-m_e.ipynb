{
 "cells": [
  {
   "cell_type": "code",
   "execution_count": 42,
   "metadata": {
    "collapsed": false,
    "slideshow": {
     "slide_type": "-"
    }
   },
   "outputs": [],
   "source": [
    "using SymPy\n",
    "dx = sympy.Symbol(\"dx\", real=true);\n",
    "dy = sympy.Symbol(\"dy\", real=true);\n",
    "dt = sympy.Symbol(\"dt\", real=true);"
   ]
  },
  {
   "cell_type": "code",
   "execution_count": 43,
   "metadata": {
    "collapsed": false
   },
   "outputs": [
    {
     "data": {
      "text/latex": [
       "\\begin{bmatrix}0&1\\\\0&-1\\\\1&0\\\\-1&0\\end{bmatrix}"
      ],
      "text/plain": [
       "4x2 Array{Sym,2}\n",
       "[0   1 ]\n",
       "[      ]\n",
       "[0   -1]\n",
       "[      ]\n",
       "[1   0 ]\n",
       "[      ]\n",
       "[-1  0 ]"
      ]
     },
     "execution_count": 43,
     "metadata": {},
     "output_type": "execute_result"
    }
   ],
   "source": [
    "# left -> bottom -> right -> top\n",
    "N = Sym[ 0 1; 0 -1; 1 0; -1 0]"
   ]
  },
  {
   "cell_type": "code",
   "execution_count": 44,
   "metadata": {
    "collapsed": false
   },
   "outputs": [
    {
     "data": {
      "text/latex": [
       "\\begin{bmatrix}0&- \\frac{dt dx}{2} dy\\\\0&\\frac{dt dx}{2} dy\\\\- \\frac{dt dx}{2} dy&0\\\\\\frac{dt dx}{2} dy&0\\end{bmatrix}"
      ],
      "text/plain": [
       "4x2 Array{Sym,2}\n",
       "[            -dt*dx*dy ]\n",
       "[    0       ----------]\n",
       "[                2     ]\n",
       "[                      ]\n",
       "[             dt*dx*dy ]\n",
       "[    0        -------- ]\n",
       "[                2     ]\n",
       "[                      ]\n",
       "[-dt*dx*dy             ]\n",
       "[----------      0     ]\n",
       "[    2                 ]\n",
       "[                      ]\n",
       "[ dt*dx*dy             ]\n",
       "[ --------       0     ]\n",
       "[    2                 ]"
      ]
     },
     "execution_count": 44,
     "metadata": {},
     "output_type": "execute_result"
    }
   ],
   "source": [
    "R = -(dx*dy*dt/2)*N"
   ]
  },
  {
   "cell_type": "code",
   "execution_count": 45,
   "metadata": {
    "collapsed": false
   },
   "outputs": [
    {
     "data": {
      "text/latex": [
       "\\begin{bmatrix}- dt dx dy&0\\\\0&- dt dx dy\\end{bmatrix}"
      ],
      "text/plain": [
       "2x2 Array{Sym,2}\n",
       "[-dt*dx*dy      0    ]\n",
       "[                    ]\n",
       "[    0      -dt*dx*dy]"
      ]
     },
     "execution_count": 45,
     "metadata": {},
     "output_type": "execute_result"
    }
   ],
   "source": [
    "R'*N"
   ]
  },
  {
   "cell_type": "code",
   "execution_count": 46,
   "metadata": {
    "collapsed": false
   },
   "outputs": [
    {
     "data": {
      "text/latex": [
       "\\begin{bmatrix}- \\frac{1}{dt dx dy}&0\\\\0&- \\frac{1}{dt dx dy}\\end{bmatrix}"
      ],
      "text/plain": [
       "2x2 Array{Sym,2}\n",
       "[  -1              ]\n",
       "[--------     0    ]\n",
       "[dt*dx*dy          ]\n",
       "[                  ]\n",
       "[            -1    ]\n",
       "[   0      --------]\n",
       "[          dt*dx*dy]"
      ]
     },
     "execution_count": 46,
     "metadata": {},
     "output_type": "execute_result"
    }
   ],
   "source": [
    "invRtN = inv(R'*N)"
   ]
  },
  {
   "cell_type": "code",
   "execution_count": 47,
   "metadata": {
    "collapsed": false
   },
   "outputs": [
    {
     "data": {
      "text/latex": [
       "\\begin{bmatrix}- \\frac{dt dx}{4} dy&\\frac{dt dx}{4} dy&0&0\\\\\\frac{dt dx}{4} dy&- \\frac{dt dx}{4} dy&0&0\\\\0&0&- \\frac{dt dx}{4} dy&\\frac{dt dx}{4} dy\\\\0&0&\\frac{dt dx}{4} dy&- \\frac{dt dx}{4} dy\\end{bmatrix}"
      ],
      "text/plain": [
       "4x4 Array{Sym,2}\n",
       "[-dt*dx*dy    dt*dx*dy                         ]\n",
       "[----------   --------       0           0     ]\n",
       "[    4           4                             ]\n",
       "[                                              ]\n",
       "[ dt*dx*dy   -dt*dx*dy                         ]\n",
       "[ --------   ----------      0           0     ]\n",
       "[    4           4                             ]\n",
       "[                                              ]\n",
       "[                        -dt*dx*dy    dt*dx*dy ]\n",
       "[    0           0       ----------   -------- ]\n",
       "[                            4           4     ]\n",
       "[                                              ]\n",
       "[                         dt*dx*dy   -dt*dx*dy ]\n",
       "[    0           0        --------   ----------]\n",
       "[                            4           4     ]"
      ]
     },
     "execution_count": 47,
     "metadata": {},
     "output_type": "execute_result"
    }
   ],
   "source": [
    "M0 = R*invRtN*R'"
   ]
  },
  {
   "cell_type": "code",
   "execution_count": 48,
   "metadata": {
    "collapsed": false
   },
   "outputs": [
    {
     "data": {
      "text/latex": [
       "\\begin{bmatrix}2&0\\\\0&2\\end{bmatrix}"
      ],
      "text/plain": [
       "2x2 Array{Sym,2}\n",
       "[2  0]\n",
       "[    ]\n",
       "[0  2]"
      ]
     },
     "execution_count": 48,
     "metadata": {},
     "output_type": "execute_result"
    }
   ],
   "source": [
    "NtN = N'*N"
   ]
  },
  {
   "cell_type": "code",
   "execution_count": 49,
   "metadata": {
    "collapsed": false
   },
   "outputs": [
    {
     "data": {
      "text/latex": [
       "\\begin{bmatrix}\\frac{1}{2}&0\\\\0&\\frac{1}{2}\\end{bmatrix}"
      ],
      "text/plain": [
       "2x2 Array{Sym,2}\n",
       "[1/2   0 ]\n",
       "[        ]\n",
       "[ 0   1/2]"
      ]
     },
     "execution_count": 49,
     "metadata": {},
     "output_type": "execute_result"
    }
   ],
   "source": [
    "invNtN = inv(NtN);\n",
    "Sym[simplify(invNtN[i,j]) for i=1:2, j=1:2]"
   ]
  },
  {
   "cell_type": "code",
   "execution_count": 50,
   "metadata": {
    "collapsed": false
   },
   "outputs": [
    {
     "data": {
      "text/latex": [
       "\\begin{bmatrix}\\frac{1}{2}&- \\frac{1}{2}&0&0\\\\- \\frac{1}{2}&\\frac{1}{2}&0&0\\\\0&0&\\frac{1}{2}&- \\frac{1}{2}\\\\0&0&- \\frac{1}{2}&\\frac{1}{2}\\end{bmatrix}"
      ],
      "text/plain": [
       "4x4 Array{Sym,2}\n",
       "[1/2   -1/2   0     0  ]\n",
       "[                      ]\n",
       "[-1/2  1/2    0     0  ]\n",
       "[                      ]\n",
       "[ 0     0    1/2   -1/2]\n",
       "[                      ]\n",
       "[ 0     0    -1/2  1/2 ]"
      ]
     },
     "execution_count": 50,
     "metadata": {},
     "output_type": "execute_result"
    }
   ],
   "source": [
    "NinvNtNNt = N*invNtN*N'"
   ]
  },
  {
   "cell_type": "code",
   "execution_count": 51,
   "metadata": {
    "collapsed": false
   },
   "outputs": [
    {
     "data": {
      "text/plain": [
       "eigval (generic function with 1 method)"
      ]
     },
     "execution_count": 51,
     "metadata": {},
     "output_type": "execute_result"
    }
   ],
   "source": [
    "# function to compute eigenvalues of A\n",
    "function eigval(A)\n",
    "    assert(size(A)[2] == size(A)[1]);\n",
    "    x = sympy.Symbol(\"\\lambda\", real=true);\n",
    "    solve(det(A - x*eye(size(A)[1])), x)\n",
    "end"
   ]
  },
  {
   "cell_type": "code",
   "execution_count": 52,
   "metadata": {
    "collapsed": false
   },
   "outputs": [
    {
     "data": {
      "text/latex": [
       "\\begin{bmatrix}0.0\\\\- 0.5 dt dx dy\\end{bmatrix}"
      ],
      "text/plain": [
       "2-element Array{Sym,1}\n",
       "[     0.0     ]\n",
       "[             ]\n",
       "[-0.5*dt*dx*dy]"
      ]
     },
     "execution_count": 52,
     "metadata": {},
     "output_type": "execute_result"
    }
   ],
   "source": [
    "eigvals = eigval(M0)"
   ]
  },
  {
   "cell_type": "code",
   "execution_count": 53,
   "metadata": {
    "collapsed": false
   },
   "outputs": [
    {
     "data": {
      "text/latex": [
       "$$- \\frac{dt dx}{2} dy$$"
      ],
      "text/plain": [
       "-dt*dx*dy \n",
       "----------\n",
       "    2     "
      ]
     },
     "execution_count": 53,
     "metadata": {},
     "output_type": "execute_result"
    }
   ],
   "source": [
    "lambda = trace(M0)/2"
   ]
  },
  {
   "cell_type": "code",
   "execution_count": 54,
   "metadata": {
    "collapsed": false
   },
   "outputs": [
    {
     "data": {
      "text/latex": [
       "\\begin{bmatrix}- 0.25 dt dx dy&- 0.25 dt dx dy&0&0\\\\- 0.25 dt dx dy&- 0.25 dt dx dy&0&0\\\\0&0&- 0.25 dt dx dy&- 0.25 dt dx dy\\\\0&0&- 0.25 dt dx dy&- 0.25 dt dx dy\\end{bmatrix}"
      ],
      "text/plain": [
       "4x4 Array{Sym,2}\n",
       "[-0.25*dt*dx*dy  -0.25*dt*dx*dy        0               0       ]\n",
       "[                                                              ]\n",
       "[-0.25*dt*dx*dy  -0.25*dt*dx*dy        0               0       ]\n",
       "[                                                              ]\n",
       "[      0               0         -0.25*dt*dx*dy  -0.25*dt*dx*dy]\n",
       "[                                                              ]\n",
       "[      0               0         -0.25*dt*dx*dy  -0.25*dt*dx*dy]"
      ]
     },
     "execution_count": 54,
     "metadata": {},
     "output_type": "execute_result"
    }
   ],
   "source": [
    "M1 = lambda*(eye(4) - NinvNtNNt)"
   ]
  },
  {
   "cell_type": "code",
   "execution_count": 55,
   "metadata": {
    "collapsed": false
   },
   "outputs": [
    {
     "data": {
      "text/latex": [
       "\\begin{bmatrix}- 0.5 dt dx dy&0&0&0\\\\0&- 0.5 dt dx dy&0&0\\\\0&0&- 0.5 dt dx dy&0\\\\0&0&0&- 0.5 dt dx dy\\end{bmatrix}"
      ],
      "text/plain": [
       "4x4 Array{Sym,2}\n",
       "[-0.5*dt*dx*dy        0              0              0      ]\n",
       "[                                                          ]\n",
       "[      0        -0.5*dt*dx*dy        0              0      ]\n",
       "[                                                          ]\n",
       "[      0              0        -0.5*dt*dx*dy        0      ]\n",
       "[                                                          ]\n",
       "[      0              0              0        -0.5*dt*dx*dy]"
      ]
     },
     "execution_count": 55,
     "metadata": {},
     "output_type": "execute_result"
    }
   ],
   "source": [
    "M = M0 + M1"
   ]
  }
 ],
 "metadata": {
  "celltoolbar": "Raw Cell Format",
  "kernelspec": {
   "display_name": "Julia 0.3.9",
   "language": "julia",
   "name": "julia-0.3"
  },
  "language_info": {
   "name": "julia",
   "version": "0.3.9"
  }
 },
 "nbformat": 4,
 "nbformat_minor": 0
}
