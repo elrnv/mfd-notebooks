{
 "cells": [
  {
   "cell_type": "code",
   "execution_count": 83,
   "metadata": {
    "collapsed": false,
    "slideshow": {
     "slide_type": "-"
    }
   },
   "outputs": [],
   "source": [
    "using SymPy\n",
    "dx = sympy.Symbol(\"dx\", real=true);\n",
    "dt = sympy.Symbol(\"dt\", real=true);"
   ]
  },
  {
   "cell_type": "code",
   "execution_count": 84,
   "metadata": {
    "collapsed": false
   },
   "outputs": [
    {
     "data": {
      "text/latex": [
       "\\begin{bmatrix}1&0\\\\0&1\\\\1&0\\\\0&1\\end{bmatrix}"
      ],
      "text/plain": [
       "4x2 Array{Sym,2}\n",
       "[1  0]\n",
       "[    ]\n",
       "[0  1]\n",
       "[    ]\n",
       "[1  0]\n",
       "[    ]\n",
       "[0  1]"
      ]
     },
     "execution_count": 84,
     "metadata": {},
     "output_type": "execute_result"
    }
   ],
   "source": [
    "# left -> bottom -> right -> top\n",
    "N = Sym[ 1 0; 0 1; 1 0; 0 1]"
   ]
  },
  {
   "cell_type": "code",
   "execution_count": 85,
   "metadata": {
    "collapsed": false
   },
   "outputs": [
    {
     "data": {
      "text/latex": [
       "\\begin{bmatrix}\\frac{dt dx^{2}}{2}&0\\\\0&\\frac{dt dx^{2}}{2}\\\\\\frac{dt dx^{2}}{2}&0\\\\0&\\frac{dt dx^{2}}{2}\\end{bmatrix}"
      ],
      "text/plain": [
       "4x2 Array{Sym,2}\n",
       "[     2        ]\n",
       "[dt*dx         ]\n",
       "[------    0   ]\n",
       "[  2           ]\n",
       "[              ]\n",
       "[             2]\n",
       "[        dt*dx ]\n",
       "[  0     ------]\n",
       "[          2   ]\n",
       "[              ]\n",
       "[     2        ]\n",
       "[dt*dx         ]\n",
       "[------    0   ]\n",
       "[  2           ]\n",
       "[              ]\n",
       "[             2]\n",
       "[        dt*dx ]\n",
       "[  0     ------]\n",
       "[          2   ]"
      ]
     },
     "execution_count": 85,
     "metadata": {},
     "output_type": "execute_result"
    }
   ],
   "source": [
    "R = (dx*dx*dt/2)*[1 0; 0 1; 1 0; 0 1]"
   ]
  },
  {
   "cell_type": "code",
   "execution_count": 86,
   "metadata": {
    "collapsed": false
   },
   "outputs": [
    {
     "data": {
      "text/latex": [
       "\\begin{bmatrix}\\frac{1}{dt dx^{2}}&0\\\\0&\\frac{1}{dt dx^{2}}\\end{bmatrix}"
      ],
      "text/plain": [
       "2x2 Array{Sym,2}\n",
       "[  1           ]\n",
       "[------    0   ]\n",
       "[     2        ]\n",
       "[dt*dx         ]\n",
       "[              ]\n",
       "[          1   ]\n",
       "[  0     ------]\n",
       "[             2]\n",
       "[        dt*dx ]"
      ]
     },
     "execution_count": 86,
     "metadata": {},
     "output_type": "execute_result"
    }
   ],
   "source": [
    "invRtN = inv(R'*N)"
   ]
  },
  {
   "cell_type": "code",
   "execution_count": 87,
   "metadata": {
    "collapsed": false
   },
   "outputs": [
    {
     "data": {
      "text/latex": [
       "\\begin{bmatrix}\\frac{dt dx^{2}}{4}&0&\\frac{dt dx^{2}}{4}&0\\\\0&\\frac{dt dx^{2}}{4}&0&\\frac{dt dx^{2}}{4}\\\\\\frac{dt dx^{2}}{4}&0&\\frac{dt dx^{2}}{4}&0\\\\0&\\frac{dt dx^{2}}{4}&0&\\frac{dt dx^{2}}{4}\\end{bmatrix}"
      ],
      "text/plain": [
       "4x4 Array{Sym,2}\n",
       "[     2               2        ]\n",
       "[dt*dx           dt*dx         ]\n",
       "[------    0     ------    0   ]\n",
       "[  4               4           ]\n",
       "[                              ]\n",
       "[             2               2]\n",
       "[        dt*dx           dt*dx ]\n",
       "[  0     ------    0     ------]\n",
       "[          4               4   ]\n",
       "[                              ]\n",
       "[     2               2        ]\n",
       "[dt*dx           dt*dx         ]\n",
       "[------    0     ------    0   ]\n",
       "[  4               4           ]\n",
       "[                              ]\n",
       "[             2               2]\n",
       "[        dt*dx           dt*dx ]\n",
       "[  0     ------    0     ------]\n",
       "[          4               4   ]"
      ]
     },
     "execution_count": 87,
     "metadata": {},
     "output_type": "execute_result"
    }
   ],
   "source": [
    "M0 = R*invRtN*R'"
   ]
  },
  {
   "cell_type": "code",
   "execution_count": 88,
   "metadata": {
    "collapsed": false
   },
   "outputs": [
    {
     "data": {
      "text/latex": [
       "\\begin{bmatrix}2&0\\\\0&2\\end{bmatrix}"
      ],
      "text/plain": [
       "2x2 Array{Sym,2}\n",
       "[2  0]\n",
       "[    ]\n",
       "[0  2]"
      ]
     },
     "execution_count": 88,
     "metadata": {},
     "output_type": "execute_result"
    }
   ],
   "source": [
    "NtN = N'*N"
   ]
  },
  {
   "cell_type": "code",
   "execution_count": 89,
   "metadata": {
    "collapsed": false
   },
   "outputs": [
    {
     "data": {
      "text/latex": [
       "\\begin{bmatrix}\\frac{1}{2}&0\\\\0&\\frac{1}{2}\\end{bmatrix}"
      ],
      "text/plain": [
       "2x2 Array{Sym,2}\n",
       "[1/2   0 ]\n",
       "[        ]\n",
       "[ 0   1/2]"
      ]
     },
     "execution_count": 89,
     "metadata": {},
     "output_type": "execute_result"
    }
   ],
   "source": [
    "invNtN = inv(NtN);\n",
    "Sym[simplify(invNtN[i,j]) for i=1:2, j=1:2]"
   ]
  },
  {
   "cell_type": "code",
   "execution_count": 90,
   "metadata": {
    "collapsed": false
   },
   "outputs": [
    {
     "data": {
      "text/latex": [
       "\\begin{bmatrix}\\frac{1}{2}&0&\\frac{1}{2}&0\\\\0&\\frac{1}{2}&0&\\frac{1}{2}\\\\\\frac{1}{2}&0&\\frac{1}{2}&0\\\\0&\\frac{1}{2}&0&\\frac{1}{2}\\end{bmatrix}"
      ],
      "text/plain": [
       "4x4 Array{Sym,2}\n",
       "[1/2   0   1/2   0 ]\n",
       "[                  ]\n",
       "[ 0   1/2   0   1/2]\n",
       "[                  ]\n",
       "[1/2   0   1/2   0 ]\n",
       "[                  ]\n",
       "[ 0   1/2   0   1/2]"
      ]
     },
     "execution_count": 90,
     "metadata": {},
     "output_type": "execute_result"
    }
   ],
   "source": [
    "NinvNtNNt = N*invNtN*N'"
   ]
  },
  {
   "cell_type": "code",
   "execution_count": 91,
   "metadata": {
    "collapsed": false
   },
   "outputs": [
    {
     "data": {
      "text/latex": [
       "$$\\frac{dt dx^{2}}{2}$$"
      ],
      "text/plain": [
       "     2\n",
       "dt*dx \n",
       "------\n",
       "  2   "
      ]
     },
     "execution_count": 91,
     "metadata": {},
     "output_type": "execute_result"
    }
   ],
   "source": [
    "lambda = trace(M0)/2"
   ]
  },
  {
   "cell_type": "code",
   "execution_count": 92,
   "metadata": {
    "collapsed": false
   },
   "outputs": [
    {
     "data": {
      "text/latex": [
       "\\begin{bmatrix}0.25 dt dx^{2}&0&- 0.25 dt dx^{2}&0\\\\0&0.25 dt dx^{2}&0&- 0.25 dt dx^{2}\\\\- 0.25 dt dx^{2}&0&0.25 dt dx^{2}&0\\\\0&- 0.25 dt dx^{2}&0&0.25 dt dx^{2}\\end{bmatrix}"
      ],
      "text/plain": [
       "4x4 Array{Sym,2}\n",
       "[          2                            2              ]\n",
       "[0.25*dt*dx         0        -0.25*dt*dx        0      ]\n",
       "[                                                      ]\n",
       "[                        2                            2]\n",
       "[     0        0.25*dt*dx         0        -0.25*dt*dx ]\n",
       "[                                                      ]\n",
       "[           2                          2               ]\n",
       "[-0.25*dt*dx        0        0.25*dt*dx         0      ]\n",
       "[                                                      ]\n",
       "[                         2                          2 ]\n",
       "[     0        -0.25*dt*dx        0        0.25*dt*dx  ]"
      ]
     },
     "execution_count": 92,
     "metadata": {},
     "output_type": "execute_result"
    }
   ],
   "source": [
    "M1 = lambda*(eye(4) - NinvNtNNt)"
   ]
  },
  {
   "cell_type": "code",
   "execution_count": 93,
   "metadata": {
    "collapsed": false
   },
   "outputs": [
    {
     "data": {
      "text/latex": [
       "\\begin{bmatrix}0.5 dt dx^{2}&0&0&0\\\\0&0.5 dt dx^{2}&0&0\\\\0&0&0.5 dt dx^{2}&0\\\\0&0&0&0.5 dt dx^{2}\\end{bmatrix}"
      ],
      "text/plain": [
       "4x4 Array{Sym,2}\n",
       "[         2                                    ]\n",
       "[0.5*dt*dx       0           0           0     ]\n",
       "[                                              ]\n",
       "[                     2                        ]\n",
       "[    0       0.5*dt*dx       0           0     ]\n",
       "[                                              ]\n",
       "[                                 2            ]\n",
       "[    0           0       0.5*dt*dx       0     ]\n",
       "[                                              ]\n",
       "[                                             2]\n",
       "[    0           0           0       0.5*dt*dx ]"
      ]
     },
     "execution_count": 93,
     "metadata": {},
     "output_type": "execute_result"
    }
   ],
   "source": [
    "M = M0 + M1"
   ]
  }
 ],
 "metadata": {
  "celltoolbar": "Raw Cell Format",
  "kernelspec": {
   "display_name": "Julia 0.3.9",
   "language": "julia",
   "name": "julia-0.3"
  },
  "language_info": {
   "name": "julia",
   "version": "0.3.9"
  }
 },
 "nbformat": 4,
 "nbformat_minor": 0
}
