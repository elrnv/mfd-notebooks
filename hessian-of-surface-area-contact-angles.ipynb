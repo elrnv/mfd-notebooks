{
 "cells": [
  {
   "cell_type": "code",
   "execution_count": 21,
   "metadata": {
    "collapsed": false,
    "scrolled": true
   },
   "outputs": [
    {
     "data": {
      "text/latex": [
       "$$\\frac{1}{\\left(\\left(x_{i} - x_{{i+1}}\\right)^{2} + \\left(y_{i} - y_{{i+1}}\\right)^{2}\\right)^{2} \\sqrt{\\left(x_{i} - x_{{i-1}}\\right)^{2} + \\left(y_{i} - y_{{i-1}}\\right)^{2}}} \\left(- \\gamma_{{la}} \\left(y_{i} - y_{{i+1}}\\right) \\left(\\left(y_{i} - y_{{i+1}}\\right) \\left(\\left(x_{i} - x_{{i+1}}\\right) \\left(x_{i} - x_{{i-1}}\\right) + \\left(y_{i} - y_{{i+1}}\\right) \\left(y_{i} - y_{{i-1}}\\right)\\right) - \\left(y_{i} - y_{{i-1}}\\right) \\left(\\left(x_{i} - x_{{i+1}}\\right)^{2} + \\left(y_{i} - y_{{i+1}}\\right)^{2}\\right)\\right) - \\left(y_{i} - y_{{i+1}}\\right)^{2} \\left(\\gamma_{{la}} \\left(\\left(x_{i} - x_{{i+1}}\\right) \\left(x_{i} - x_{{i-1}}\\right) + \\left(y_{i} - y_{{i+1}}\\right) \\left(y_{i} - y_{{i-1}}\\right)\\right) + \\gamma_{{lsa}} \\sqrt{\\left(x_{i} - x_{{i+1}}\\right)^{2} + \\left(y_{i} - y_{{i+1}}\\right)^{2}} \\sqrt{\\left(x_{i} - x_{{i-1}}\\right)^{2} + \\left(y_{i} - y_{{i-1}}\\right)^{2}}\\right) + \\left(\\gamma_{{la}} \\left(\\left(x_{i} - x_{{i+1}}\\right) \\left(x_{i} - x_{{i-1}}\\right) + \\left(y_{i} - y_{{i+1}}\\right) \\left(y_{i} - y_{{i-1}}\\right)\\right) + \\gamma_{{lsa}} \\sqrt{\\left(x_{i} - x_{{i+1}}\\right)^{2} + \\left(y_{i} - y_{{i+1}}\\right)^{2}} \\sqrt{\\left(x_{i} - x_{{i-1}}\\right)^{2} + \\left(y_{i} - y_{{i-1}}\\right)^{2}}\\right) \\left(\\left(x_{i} - x_{{i+1}}\\right)^{2} + \\left(y_{i} - y_{{i+1}}\\right)^{2}\\right)\\right)$$"
      ],
      "text/plain": [
       "                                                                              \n",
       "                             /                                                \n",
       "- gamma_{la}*(y_i - y_{i+1})*\\(y_i - y_{i+1})*((x_i - x_{i+1})*(x_i - x_{i-1})\n",
       "------------------------------------------------------------------------------\n",
       "                                                                              \n",
       "                                                                              \n",
       "                                                                              \n",
       "\n",
       "                                                                              \n",
       "                                                      /               2       \n",
       " + (y_i - y_{i+1})*(y_i - y_{i-1})) - (y_i - y_{i-1})*\\(x_i - x_{i+1})  + (y_i\n",
       "------------------------------------------------------------------------------\n",
       "                                                                              \n",
       "                                                                              \n",
       "                                                                              \n",
       "\n",
       "                                  /                                           \n",
       "           2\\\\                  2 |                                           \n",
       " - y_{i+1}) // - (y_i - y_{i+1}) *\\gamma_{la}*((x_i - x_{i+1})*(x_i - x_{i-1})\n",
       "------------------------------------------------------------------------------\n",
       "                                                                              \n",
       "                                                                              \n",
       "                                                                              \n",
       "\n",
       "                                                     _________________________\n",
       "                                                    /                2        \n",
       " + (y_i - y_{i+1})*(y_i - y_{i-1})) + gamma_{lsa}*\\/  (x_i - x_{i+1})  + (y_i \n",
       "------------------------------------------------------------------------------\n",
       "                                                       2    __________________\n",
       "                  /               2                  2\\    /                2 \n",
       "                  \\(x_i - x_{i+1})  + (y_i - y_{i+1}) / *\\/  (x_i - x_{i-1})  \n",
       "\n",
       "____________    _____________________________________\\   /                    \n",
       "          2    /                2                  2 |   |                    \n",
       "- y_{i+1})  *\\/  (x_i - x_{i-1})  + (y_i - y_{i-1})  / + \\gamma_{la}*((x_i - x\n",
       "------------------------------------------------------------------------------\n",
       "___________________                                                           \n",
       "                 2                                                            \n",
       "+ (y_i - y_{i-1})                                                             \n",
       "\n",
       "                                                                            __\n",
       "                                                                           /  \n",
       "_{i+1})*(x_i - x_{i-1}) + (y_i - y_{i+1})*(y_i - y_{i-1})) + gamma_{lsa}*\\/  (\n",
       "------------------------------------------------------------------------------\n",
       "                                                                              \n",
       "                                                                              \n",
       "                                                                              \n",
       "\n",
       "___________________________________    _____________________________________\\ \n",
       "              2                  2    /                2                  2 | \n",
       "x_i - x_{i+1})  + (y_i - y_{i+1})  *\\/  (x_i - x_{i-1})  + (y_i - y_{i-1})  /*\n",
       "------------------------------------------------------------------------------\n",
       "                                                                              \n",
       "                                                                              \n",
       "                                                                              \n",
       "\n",
       "                                     \n",
       "/               2                  2\\\n",
       "\\(x_i - x_{i+1})  + (y_i - y_{i+1}) /\n",
       "-------------------------------------\n",
       "                                     \n",
       "                                     \n",
       "                                     "
      ]
     },
     "execution_count": 21,
     "metadata": {},
     "output_type": "execute_result"
    }
   ],
   "source": [
    "using SymPy\n",
    "xi = symbols(\"x_i\", real=true)\n",
    "yi = symbols(\"y_i\", real=true)\n",
    "xip1 = symbols(\"x_{i+1}\", real=true)\n",
    "yip1 = symbols(\"y_{i+1}\", real=true)\n",
    "xim1 = symbols(\"x_{i-1}\", real=true)\n",
    "yim1 = symbols(\"y_{i-1}\", real=true)\n",
    "gla = symbols(\"\\gamma_{la}\", positive = true)\n",
    "#gsa = symbols(\"\\gamma_{sa}\", positive = true)\n",
    "glsa = symbols(\"\\gamma_{lsa}\", positive = true)\n",
    "\n",
    "# Definition of surface area gradient (computed by hand) at node i\n",
    "lp = sqrt((xi-xip1)^2+(yi-yip1)^2) # length of next edge\n",
    "lm = sqrt((xi-xim1)^2+(yi-yim1)^2) # length of previous edge\n",
    "# Assume f_{i+1} is on the solid, and f_{i-1} is on air boundaries \n",
    "#fix = glsa*(xip1-xi)/lp - gla*(xi-xim1)/lm # force x component \n",
    "#fiy = glsa*(yip1-yi)/lp - gla*(yi-yim1)/lm # force y component\n",
    "fix = ((xip1-xi)/lp)*(glsa - gla*((xi-xim1)*(xip1-xi) + (yi-yim1)*(yip1-yi))/(lm*lp)) # force x component \n",
    "fiy = ((yip1-yi)/lp)*(glsa - gla*((xi-xim1)*(xip1-xi) + (yi-yim1)*(yip1-yi))/(lm*lp)) # force y component\n",
    "\n",
    "# Assume f_{i-1} is on the solid, and f_{i+1} is on air boundaries \n",
    "fix = ((xi-xim1)/lm)*(gla*((xi-xim1)*(xip1-xi) + (yi-yim1)*(yip1-yi))/(lm*lp) - glsa) # force x component \n",
    "fiy = ((yi-yim1)/lm)*(gla*((xi-xim1)*(xip1-xi) + (yi-yim1)*(yip1-yi))/(lm*lp) - glsa) # force y component\n",
    "\n",
    "# Compute Hessian Stencil\n",
    "Dixx = simplify(diff(fix,xi))\n",
    "Dixy = simplify(diff(fiy,xi))\n",
    "\n",
    "Diyx = simplify(diff(fix,yi)) # expect to be the same as Dixy\n",
    "Diyy = simplify(diff(fiy,yi))\n",
    "\n",
    "Dip1xx = simplify(diff(fix,xip1))\n",
    "Dip1xy = simplify(diff(fiy,xip1))\n",
    "\n",
    "Dip1yx = simplify(diff(fix,yip1)) # expect to be the same as Dip1xy\n",
    "Dip1yy = simplify(diff(fiy,yip1))\n",
    "\n",
    "#assert(Diyx == Dixy)\n",
    "#assert(Dip1xy == Dip1yx)"
   ]
  },
  {
   "cell_type": "code",
   "execution_count": 22,
   "metadata": {
    "collapsed": false
   },
   "outputs": [
    {
     "data": {
      "text/latex": [
       "$ \\frac{\\partial f_{i}^x}{\\partial x_{i}} =  \\frac{1}{\\left(\\left(x_{i} - x_{{i+1}}\\right)^{2} + \\left(y_{i} - y_{{i+1}}\\right)^{2}\\right)^{2} \\left(\\left(x_{i} - x_{{i-1}}\\right)^{2} + \\left(y_{i} - y_{{i-1}}\\right)^{2}\\right)^{\\frac{3}{2}}} \\left(\\gamma_{{la}} \\left(x_{i} - x_{{i+1}}\\right) \\left(\\left(x_{i} - x_{{i+1}}\\right) \\left(\\left(x_{i} - x_{{i+1}}\\right) \\left(x_{i} - x_{{i-1}}\\right) + \\left(y_{i} - y_{{i+1}}\\right) \\left(y_{i} - y_{{i-1}}\\right)\\right) \\left(\\left(x_{i} - x_{{i-1}}\\right)^{2} + \\left(y_{i} - y_{{i-1}}\\right)^{2}\\right) + \\left(x_{i} - x_{{i-1}}\\right) \\left(\\left(x_{i} - x_{{i+1}}\\right) \\left(x_{i} - x_{{i-1}}\\right) + \\left(y_{i} - y_{{i+1}}\\right) \\left(y_{i} - y_{{i-1}}\\right)\\right) \\left(\\left(x_{i} - x_{{i+1}}\\right)^{2} + \\left(y_{i} - y_{{i+1}}\\right)^{2}\\right) + \\left(\\left(x_{i} - x_{{i+1}}\\right)^{2} + \\left(y_{i} - y_{{i+1}}\\right)^{2}\\right) \\left(\\left(x_{i} - x_{{i-1}}\\right)^{2} + \\left(y_{i} - y_{{i-1}}\\right)^{2}\\right) \\left(- 2 x_{i} + x_{{i+1}} + x_{{i-1}}\\right)\\right) + \\left(x_{i} - x_{{i+1}}\\right)^{2} \\left(\\gamma_{{la}} \\left(\\left(x_{i} - x_{{i+1}}\\right) \\left(x_{i} - x_{{i-1}}\\right) + \\left(y_{i} - y_{{i+1}}\\right) \\left(y_{i} - y_{{i-1}}\\right)\\right) + \\gamma_{{lsa}} \\sqrt{\\left(x_{i} - x_{{i+1}}\\right)^{2} + \\left(y_{i} - y_{{i+1}}\\right)^{2}} \\sqrt{\\left(x_{i} - x_{{i-1}}\\right)^{2} + \\left(y_{i} - y_{{i-1}}\\right)^{2}}\\right) \\left(\\left(x_{i} - x_{{i-1}}\\right)^{2} + \\left(y_{i} - y_{{i-1}}\\right)^{2}\\right) - \\left(\\gamma_{{la}} \\left(\\left(x_{i} - x_{{i+1}}\\right) \\left(x_{i} - x_{{i-1}}\\right) + \\left(y_{i} - y_{{i+1}}\\right) \\left(y_{i} - y_{{i-1}}\\right)\\right) + \\gamma_{{lsa}} \\sqrt{\\left(x_{i} - x_{{i+1}}\\right)^{2} + \\left(y_{i} - y_{{i+1}}\\right)^{2}} \\sqrt{\\left(x_{i} - x_{{i-1}}\\right)^{2} + \\left(y_{i} - y_{{i-1}}\\right)^{2}}\\right) \\left(\\left(x_{i} - x_{{i+1}}\\right)^{2} + \\left(y_{i} - y_{{i+1}}\\right)^{2}\\right) \\left(\\left(x_{i} - x_{{i-1}}\\right)^{2} + \\left(y_{i} - y_{{i-1}}\\right)^{2}\\right)\\right)$"
      ],
      "text/plain": [
       "L\"$ \\frac{\\partial f_{i}^x}{\\partial x_{i}} =  \\frac{1}{\\left(\\left(x_{i} - x_{{i+1}}\\right)^{2} + \\left(y_{i} - y_{{i+1}}\\right)^{2}\\right)^{2} \\left(\\left(x_{i} - x_{{i-1}}\\right)^{2} + \\left(y_{i} - y_{{i-1}}\\right)^{2}\\right)^{\\frac{3}{2}}} \\left(\\gamma_{{la}} \\left(x_{i} - x_{{i+1}}\\right) \\left(\\left(x_{i} - x_{{i+1}}\\right) \\left(\\left(x_{i} - x_{{i+1}}\\right) \\left(x_{i} - x_{{i-1}}\\right) + \\left(y_{i} - y_{{i+1}}\\right) \\left(y_{i} - y_{{i-1}}\\right)\\right) \\left(\\left(x_{i} - x_{{i-1}}\\right)^{2} + \\left(y_{i} - y_{{i-1}}\\right)^{2}\\right) + \\left(x_{i} - x_{{i-1}}\\right) \\left(\\left(x_{i} - x_{{i+1}}\\right) \\left(x_{i} - x_{{i-1}}\\right) + \\left(y_{i} - y_{{i+1}}\\right) \\left(y_{i} - y_{{i-1}}\\right)\\right) \\left(\\left(x_{i} - x_{{i+1}}\\right)^{2} + \\left(y_{i} - y_{{i+1}}\\right)^{2}\\right) + \\left(\\left(x_{i} - x_{{i+1}}\\right)^{2} + \\left(y_{i} - y_{{i+1}}\\right)^{2}\\right) \\left(\\left(x_{i} - x_{{i-1}}\\right)^{2} + \\left(y_{i} - y_{{i-1}}\\right)^{2}\\right) \\left(- 2 x_{i} + x_{{i+1}} + x_{{i-1}}\\right)\\right) + \\left(x_{i} - x_{{i+1}}\\right)^{2} \\left(\\gamma_{{la}} \\left(\\left(x_{i} - x_{{i+1}}\\right) \\left(x_{i} - x_{{i-1}}\\right) + \\left(y_{i} - y_{{i+1}}\\right) \\left(y_{i} - y_{{i-1}}\\right)\\right) + \\gamma_{{lsa}} \\sqrt{\\left(x_{i} - x_{{i+1}}\\right)^{2} + \\left(y_{i} - y_{{i+1}}\\right)^{2}} \\sqrt{\\left(x_{i} - x_{{i-1}}\\right)^{2} + \\left(y_{i} - y_{{i-1}}\\right)^{2}}\\right) \\left(\\left(x_{i} - x_{{i-1}}\\right)^{2} + \\left(y_{i} - y_{{i-1}}\\right)^{2}\\right) - \\left(\\gamma_{{la}} \\left(\\left(x_{i} - x_{{i+1}}\\right) \\left(x_{i} - x_{{i-1}}\\right) + \\left(y_{i} - y_{{i+1}}\\right) \\left(y_{i} - y_{{i-1}}\\right)\\right) + \\gamma_{{lsa}} \\sqrt{\\left(x_{i} - x_{{i+1}}\\right)^{2} + \\left(y_{i} - y_{{i+1}}\\right)^{2}} \\sqrt{\\left(x_{i} - x_{{i-1}}\\right)^{2} + \\left(y_{i} - y_{{i-1}}\\right)^{2}}\\right) \\left(\\left(x_{i} - x_{{i+1}}\\right)^{2} + \\left(y_{i} - y_{{i+1}}\\right)^{2}\\right) \\left(\\left(x_{i} - x_{{i-1}}\\right)^{2} + \\left(y_{i} - y_{{i-1}}\\right)^{2}\\right)\\right)$\""
      ]
     },
     "metadata": {},
     "output_type": "display_data"
    },
    {
     "data": {
      "text/latex": [
       "$ \\frac{\\partial f_{i}^x}{\\partial y_{i}} =  \\frac{1}{\\left(\\left(x_{i} - x_{{i+1}}\\right)^{2} + \\left(y_{i} - y_{{i+1}}\\right)^{2}\\right)^{2} \\left(\\left(x_{i} - x_{{i-1}}\\right)^{2} + \\left(y_{i} - y_{{i-1}}\\right)^{2}\\right)^{\\frac{3}{2}}} \\left(y_{i} - y_{{i+1}}\\right) \\left(\\gamma_{{la}} \\left(\\left(x_{i} - x_{{i+1}}\\right) \\left(\\left(x_{i} - x_{{i+1}}\\right) \\left(x_{i} - x_{{i-1}}\\right) + \\left(y_{i} - y_{{i+1}}\\right) \\left(y_{i} - y_{{i-1}}\\right)\\right) \\left(\\left(x_{i} - x_{{i-1}}\\right)^{2} + \\left(y_{i} - y_{{i-1}}\\right)^{2}\\right) + \\left(x_{i} - x_{{i-1}}\\right) \\left(\\left(x_{i} - x_{{i+1}}\\right) \\left(x_{i} - x_{{i-1}}\\right) + \\left(y_{i} - y_{{i+1}}\\right) \\left(y_{i} - y_{{i-1}}\\right)\\right) \\left(\\left(x_{i} - x_{{i+1}}\\right)^{2} + \\left(y_{i} - y_{{i+1}}\\right)^{2}\\right) + \\left(\\left(x_{i} - x_{{i+1}}\\right)^{2} + \\left(y_{i} - y_{{i+1}}\\right)^{2}\\right) \\left(\\left(x_{i} - x_{{i-1}}\\right)^{2} + \\left(y_{i} - y_{{i-1}}\\right)^{2}\\right) \\left(- 2 x_{i} + x_{{i+1}} + x_{{i-1}}\\right)\\right) + \\left(x_{i} - x_{{i+1}}\\right) \\left(\\gamma_{{la}} \\left(\\left(x_{i} - x_{{i+1}}\\right) \\left(x_{i} - x_{{i-1}}\\right) + \\left(y_{i} - y_{{i+1}}\\right) \\left(y_{i} - y_{{i-1}}\\right)\\right) + \\gamma_{{lsa}} \\sqrt{\\left(x_{i} - x_{{i+1}}\\right)^{2} + \\left(y_{i} - y_{{i+1}}\\right)^{2}} \\sqrt{\\left(x_{i} - x_{{i-1}}\\right)^{2} + \\left(y_{i} - y_{{i-1}}\\right)^{2}}\\right) \\left(\\left(x_{i} - x_{{i-1}}\\right)^{2} + \\left(y_{i} - y_{{i-1}}\\right)^{2}\\right)\\right)$"
      ],
      "text/plain": [
       "L\"$ \\frac{\\partial f_{i}^x}{\\partial y_{i}} =  \\frac{1}{\\left(\\left(x_{i} - x_{{i+1}}\\right)^{2} + \\left(y_{i} - y_{{i+1}}\\right)^{2}\\right)^{2} \\left(\\left(x_{i} - x_{{i-1}}\\right)^{2} + \\left(y_{i} - y_{{i-1}}\\right)^{2}\\right)^{\\frac{3}{2}}} \\left(y_{i} - y_{{i+1}}\\right) \\left(\\gamma_{{la}} \\left(\\left(x_{i} - x_{{i+1}}\\right) \\left(\\left(x_{i} - x_{{i+1}}\\right) \\left(x_{i} - x_{{i-1}}\\right) + \\left(y_{i} - y_{{i+1}}\\right) \\left(y_{i} - y_{{i-1}}\\right)\\right) \\left(\\left(x_{i} - x_{{i-1}}\\right)^{2} + \\left(y_{i} - y_{{i-1}}\\right)^{2}\\right) + \\left(x_{i} - x_{{i-1}}\\right) \\left(\\left(x_{i} - x_{{i+1}}\\right) \\left(x_{i} - x_{{i-1}}\\right) + \\left(y_{i} - y_{{i+1}}\\right) \\left(y_{i} - y_{{i-1}}\\right)\\right) \\left(\\left(x_{i} - x_{{i+1}}\\right)^{2} + \\left(y_{i} - y_{{i+1}}\\right)^{2}\\right) + \\left(\\left(x_{i} - x_{{i+1}}\\right)^{2} + \\left(y_{i} - y_{{i+1}}\\right)^{2}\\right) \\left(\\left(x_{i} - x_{{i-1}}\\right)^{2} + \\left(y_{i} - y_{{i-1}}\\right)^{2}\\right) \\left(- 2 x_{i} + x_{{i+1}} + x_{{i-1}}\\right)\\right) + \\left(x_{i} - x_{{i+1}}\\right) \\left(\\gamma_{{la}} \\left(\\left(x_{i} - x_{{i+1}}\\right) \\left(x_{i} - x_{{i-1}}\\right) + \\left(y_{i} - y_{{i+1}}\\right) \\left(y_{i} - y_{{i-1}}\\right)\\right) + \\gamma_{{lsa}} \\sqrt{\\left(x_{i} - x_{{i+1}}\\right)^{2} + \\left(y_{i} - y_{{i+1}}\\right)^{2}} \\sqrt{\\left(x_{i} - x_{{i-1}}\\right)^{2} + \\left(y_{i} - y_{{i-1}}\\right)^{2}}\\right) \\left(\\left(x_{i} - x_{{i-1}}\\right)^{2} + \\left(y_{i} - y_{{i-1}}\\right)^{2}\\right)\\right)$\""
      ]
     },
     "metadata": {},
     "output_type": "display_data"
    },
    {
     "data": {
      "text/latex": [
       "$ \\frac{\\partial f_{i}^y}{\\partial x_{i}} =  \\frac{1}{\\left(\\left(x_{i} - x_{{i+1}}\\right)^{2} + \\left(y_{i} - y_{{i+1}}\\right)^{2}\\right)^{2} \\left(\\left(x_{i} - x_{{i-1}}\\right)^{2} + \\left(y_{i} - y_{{i-1}}\\right)^{2}\\right)^{\\frac{3}{2}}} \\left(x_{i} - x_{{i+1}}\\right) \\left(\\gamma_{{la}} \\left(\\left(y_{i} - y_{{i+1}}\\right) \\left(\\left(x_{i} - x_{{i+1}}\\right) \\left(x_{i} - x_{{i-1}}\\right) + \\left(y_{i} - y_{{i+1}}\\right) \\left(y_{i} - y_{{i-1}}\\right)\\right) \\left(\\left(x_{i} - x_{{i-1}}\\right)^{2} + \\left(y_{i} - y_{{i-1}}\\right)^{2}\\right) + \\left(y_{i} - y_{{i-1}}\\right) \\left(\\left(x_{i} - x_{{i+1}}\\right) \\left(x_{i} - x_{{i-1}}\\right) + \\left(y_{i} - y_{{i+1}}\\right) \\left(y_{i} - y_{{i-1}}\\right)\\right) \\left(\\left(x_{i} - x_{{i+1}}\\right)^{2} + \\left(y_{i} - y_{{i+1}}\\right)^{2}\\right) + \\left(\\left(x_{i} - x_{{i+1}}\\right)^{2} + \\left(y_{i} - y_{{i+1}}\\right)^{2}\\right) \\left(\\left(x_{i} - x_{{i-1}}\\right)^{2} + \\left(y_{i} - y_{{i-1}}\\right)^{2}\\right) \\left(- 2 y_{i} + y_{{i+1}} + y_{{i-1}}\\right)\\right) + \\left(y_{i} - y_{{i+1}}\\right) \\left(\\gamma_{{la}} \\left(\\left(x_{i} - x_{{i+1}}\\right) \\left(x_{i} - x_{{i-1}}\\right) + \\left(y_{i} - y_{{i+1}}\\right) \\left(y_{i} - y_{{i-1}}\\right)\\right) + \\gamma_{{lsa}} \\sqrt{\\left(x_{i} - x_{{i+1}}\\right)^{2} + \\left(y_{i} - y_{{i+1}}\\right)^{2}} \\sqrt{\\left(x_{i} - x_{{i-1}}\\right)^{2} + \\left(y_{i} - y_{{i-1}}\\right)^{2}}\\right) \\left(\\left(x_{i} - x_{{i-1}}\\right)^{2} + \\left(y_{i} - y_{{i-1}}\\right)^{2}\\right)\\right)$"
      ],
      "text/plain": [
       "L\"$ \\frac{\\partial f_{i}^y}{\\partial x_{i}} =  \\frac{1}{\\left(\\left(x_{i} - x_{{i+1}}\\right)^{2} + \\left(y_{i} - y_{{i+1}}\\right)^{2}\\right)^{2} \\left(\\left(x_{i} - x_{{i-1}}\\right)^{2} + \\left(y_{i} - y_{{i-1}}\\right)^{2}\\right)^{\\frac{3}{2}}} \\left(x_{i} - x_{{i+1}}\\right) \\left(\\gamma_{{la}} \\left(\\left(y_{i} - y_{{i+1}}\\right) \\left(\\left(x_{i} - x_{{i+1}}\\right) \\left(x_{i} - x_{{i-1}}\\right) + \\left(y_{i} - y_{{i+1}}\\right) \\left(y_{i} - y_{{i-1}}\\right)\\right) \\left(\\left(x_{i} - x_{{i-1}}\\right)^{2} + \\left(y_{i} - y_{{i-1}}\\right)^{2}\\right) + \\left(y_{i} - y_{{i-1}}\\right) \\left(\\left(x_{i} - x_{{i+1}}\\right) \\left(x_{i} - x_{{i-1}}\\right) + \\left(y_{i} - y_{{i+1}}\\right) \\left(y_{i} - y_{{i-1}}\\right)\\right) \\left(\\left(x_{i} - x_{{i+1}}\\right)^{2} + \\left(y_{i} - y_{{i+1}}\\right)^{2}\\right) + \\left(\\left(x_{i} - x_{{i+1}}\\right)^{2} + \\left(y_{i} - y_{{i+1}}\\right)^{2}\\right) \\left(\\left(x_{i} - x_{{i-1}}\\right)^{2} + \\left(y_{i} - y_{{i-1}}\\right)^{2}\\right) \\left(- 2 y_{i} + y_{{i+1}} + y_{{i-1}}\\right)\\right) + \\left(y_{i} - y_{{i+1}}\\right) \\left(\\gamma_{{la}} \\left(\\left(x_{i} - x_{{i+1}}\\right) \\left(x_{i} - x_{{i-1}}\\right) + \\left(y_{i} - y_{{i+1}}\\right) \\left(y_{i} - y_{{i-1}}\\right)\\right) + \\gamma_{{lsa}} \\sqrt{\\left(x_{i} - x_{{i+1}}\\right)^{2} + \\left(y_{i} - y_{{i+1}}\\right)^{2}} \\sqrt{\\left(x_{i} - x_{{i-1}}\\right)^{2} + \\left(y_{i} - y_{{i-1}}\\right)^{2}}\\right) \\left(\\left(x_{i} - x_{{i-1}}\\right)^{2} + \\left(y_{i} - y_{{i-1}}\\right)^{2}\\right)\\right)$\""
      ]
     },
     "metadata": {},
     "output_type": "display_data"
    },
    {
     "data": {
      "text/latex": [
       "$ \\frac{\\partial f_{i}^y}{\\partial y_{i}} =  \\frac{1}{\\left(\\left(x_{i} - x_{{i+1}}\\right)^{2} + \\left(y_{i} - y_{{i+1}}\\right)^{2}\\right)^{2} \\left(\\left(x_{i} - x_{{i-1}}\\right)^{2} + \\left(y_{i} - y_{{i-1}}\\right)^{2}\\right)^{\\frac{3}{2}}} \\left(\\gamma_{{la}} \\left(y_{i} - y_{{i+1}}\\right) \\left(\\left(y_{i} - y_{{i+1}}\\right) \\left(\\left(x_{i} - x_{{i+1}}\\right) \\left(x_{i} - x_{{i-1}}\\right) + \\left(y_{i} - y_{{i+1}}\\right) \\left(y_{i} - y_{{i-1}}\\right)\\right) \\left(\\left(x_{i} - x_{{i-1}}\\right)^{2} + \\left(y_{i} - y_{{i-1}}\\right)^{2}\\right) + \\left(y_{i} - y_{{i-1}}\\right) \\left(\\left(x_{i} - x_{{i+1}}\\right) \\left(x_{i} - x_{{i-1}}\\right) + \\left(y_{i} - y_{{i+1}}\\right) \\left(y_{i} - y_{{i-1}}\\right)\\right) \\left(\\left(x_{i} - x_{{i+1}}\\right)^{2} + \\left(y_{i} - y_{{i+1}}\\right)^{2}\\right) + \\left(\\left(x_{i} - x_{{i+1}}\\right)^{2} + \\left(y_{i} - y_{{i+1}}\\right)^{2}\\right) \\left(\\left(x_{i} - x_{{i-1}}\\right)^{2} + \\left(y_{i} - y_{{i-1}}\\right)^{2}\\right) \\left(- 2 y_{i} + y_{{i+1}} + y_{{i-1}}\\right)\\right) + \\left(y_{i} - y_{{i+1}}\\right)^{2} \\left(\\gamma_{{la}} \\left(\\left(x_{i} - x_{{i+1}}\\right) \\left(x_{i} - x_{{i-1}}\\right) + \\left(y_{i} - y_{{i+1}}\\right) \\left(y_{i} - y_{{i-1}}\\right)\\right) + \\gamma_{{lsa}} \\sqrt{\\left(x_{i} - x_{{i+1}}\\right)^{2} + \\left(y_{i} - y_{{i+1}}\\right)^{2}} \\sqrt{\\left(x_{i} - x_{{i-1}}\\right)^{2} + \\left(y_{i} - y_{{i-1}}\\right)^{2}}\\right) \\left(\\left(x_{i} - x_{{i-1}}\\right)^{2} + \\left(y_{i} - y_{{i-1}}\\right)^{2}\\right) - \\left(\\gamma_{{la}} \\left(\\left(x_{i} - x_{{i+1}}\\right) \\left(x_{i} - x_{{i-1}}\\right) + \\left(y_{i} - y_{{i+1}}\\right) \\left(y_{i} - y_{{i-1}}\\right)\\right) + \\gamma_{{lsa}} \\sqrt{\\left(x_{i} - x_{{i+1}}\\right)^{2} + \\left(y_{i} - y_{{i+1}}\\right)^{2}} \\sqrt{\\left(x_{i} - x_{{i-1}}\\right)^{2} + \\left(y_{i} - y_{{i-1}}\\right)^{2}}\\right) \\left(\\left(x_{i} - x_{{i+1}}\\right)^{2} + \\left(y_{i} - y_{{i+1}}\\right)^{2}\\right) \\left(\\left(x_{i} - x_{{i-1}}\\right)^{2} + \\left(y_{i} - y_{{i-1}}\\right)^{2}\\right)\\right)$"
      ],
      "text/plain": [
       "L\"$ \\frac{\\partial f_{i}^y}{\\partial y_{i}} =  \\frac{1}{\\left(\\left(x_{i} - x_{{i+1}}\\right)^{2} + \\left(y_{i} - y_{{i+1}}\\right)^{2}\\right)^{2} \\left(\\left(x_{i} - x_{{i-1}}\\right)^{2} + \\left(y_{i} - y_{{i-1}}\\right)^{2}\\right)^{\\frac{3}{2}}} \\left(\\gamma_{{la}} \\left(y_{i} - y_{{i+1}}\\right) \\left(\\left(y_{i} - y_{{i+1}}\\right) \\left(\\left(x_{i} - x_{{i+1}}\\right) \\left(x_{i} - x_{{i-1}}\\right) + \\left(y_{i} - y_{{i+1}}\\right) \\left(y_{i} - y_{{i-1}}\\right)\\right) \\left(\\left(x_{i} - x_{{i-1}}\\right)^{2} + \\left(y_{i} - y_{{i-1}}\\right)^{2}\\right) + \\left(y_{i} - y_{{i-1}}\\right) \\left(\\left(x_{i} - x_{{i+1}}\\right) \\left(x_{i} - x_{{i-1}}\\right) + \\left(y_{i} - y_{{i+1}}\\right) \\left(y_{i} - y_{{i-1}}\\right)\\right) \\left(\\left(x_{i} - x_{{i+1}}\\right)^{2} + \\left(y_{i} - y_{{i+1}}\\right)^{2}\\right) + \\left(\\left(x_{i} - x_{{i+1}}\\right)^{2} + \\left(y_{i} - y_{{i+1}}\\right)^{2}\\right) \\left(\\left(x_{i} - x_{{i-1}}\\right)^{2} + \\left(y_{i} - y_{{i-1}}\\right)^{2}\\right) \\left(- 2 y_{i} + y_{{i+1}} + y_{{i-1}}\\right)\\right) + \\left(y_{i} - y_{{i+1}}\\right)^{2} \\left(\\gamma_{{la}} \\left(\\left(x_{i} - x_{{i+1}}\\right) \\left(x_{i} - x_{{i-1}}\\right) + \\left(y_{i} - y_{{i+1}}\\right) \\left(y_{i} - y_{{i-1}}\\right)\\right) + \\gamma_{{lsa}} \\sqrt{\\left(x_{i} - x_{{i+1}}\\right)^{2} + \\left(y_{i} - y_{{i+1}}\\right)^{2}} \\sqrt{\\left(x_{i} - x_{{i-1}}\\right)^{2} + \\left(y_{i} - y_{{i-1}}\\right)^{2}}\\right) \\left(\\left(x_{i} - x_{{i-1}}\\right)^{2} + \\left(y_{i} - y_{{i-1}}\\right)^{2}\\right) - \\left(\\gamma_{{la}} \\left(\\left(x_{i} - x_{{i+1}}\\right) \\left(x_{i} - x_{{i-1}}\\right) + \\left(y_{i} - y_{{i+1}}\\right) \\left(y_{i} - y_{{i-1}}\\right)\\right) + \\gamma_{{lsa}} \\sqrt{\\left(x_{i} - x_{{i+1}}\\right)^{2} + \\left(y_{i} - y_{{i+1}}\\right)^{2}} \\sqrt{\\left(x_{i} - x_{{i-1}}\\right)^{2} + \\left(y_{i} - y_{{i-1}}\\right)^{2}}\\right) \\left(\\left(x_{i} - x_{{i+1}}\\right)^{2} + \\left(y_{i} - y_{{i+1}}\\right)^{2}\\right) \\left(\\left(x_{i} - x_{{i-1}}\\right)^{2} + \\left(y_{i} - y_{{i-1}}\\right)^{2}\\right)\\right)$\""
      ]
     },
     "metadata": {},
     "output_type": "display_data"
    },
    {
     "data": {
      "text/latex": [
       "$ \\frac{\\partial f_{i+1}^x}{\\partial x_{i+1}} =  \\frac{1}{\\left(\\left(x_{i} - x_{{i+1}}\\right)^{2} + \\left(y_{i} - y_{{i+1}}\\right)^{2}\\right)^{2} \\sqrt{\\left(x_{i} - x_{{i-1}}\\right)^{2} + \\left(y_{i} - y_{{i-1}}\\right)^{2}}} \\left(- \\gamma_{{la}} \\left(x_{i} - x_{{i+1}}\\right) \\left(\\left(x_{i} - x_{{i+1}}\\right) \\left(\\left(x_{i} - x_{{i+1}}\\right) \\left(x_{i} - x_{{i-1}}\\right) + \\left(y_{i} - y_{{i+1}}\\right) \\left(y_{i} - y_{{i-1}}\\right)\\right) - \\left(x_{i} - x_{{i-1}}\\right) \\left(\\left(x_{i} - x_{{i+1}}\\right)^{2} + \\left(y_{i} - y_{{i+1}}\\right)^{2}\\right)\\right) - \\left(x_{i} - x_{{i+1}}\\right)^{2} \\left(\\gamma_{{la}} \\left(\\left(x_{i} - x_{{i+1}}\\right) \\left(x_{i} - x_{{i-1}}\\right) + \\left(y_{i} - y_{{i+1}}\\right) \\left(y_{i} - y_{{i-1}}\\right)\\right) + \\gamma_{{lsa}} \\sqrt{\\left(x_{i} - x_{{i+1}}\\right)^{2} + \\left(y_{i} - y_{{i+1}}\\right)^{2}} \\sqrt{\\left(x_{i} - x_{{i-1}}\\right)^{2} + \\left(y_{i} - y_{{i-1}}\\right)^{2}}\\right) + \\left(\\gamma_{{la}} \\left(\\left(x_{i} - x_{{i+1}}\\right) \\left(x_{i} - x_{{i-1}}\\right) + \\left(y_{i} - y_{{i+1}}\\right) \\left(y_{i} - y_{{i-1}}\\right)\\right) + \\gamma_{{lsa}} \\sqrt{\\left(x_{i} - x_{{i+1}}\\right)^{2} + \\left(y_{i} - y_{{i+1}}\\right)^{2}} \\sqrt{\\left(x_{i} - x_{{i-1}}\\right)^{2} + \\left(y_{i} - y_{{i-1}}\\right)^{2}}\\right) \\left(\\left(x_{i} - x_{{i+1}}\\right)^{2} + \\left(y_{i} - y_{{i+1}}\\right)^{2}\\right)\\right)$"
      ],
      "text/plain": [
       "L\"$ \\frac{\\partial f_{i+1}^x}{\\partial x_{i+1}} =  \\frac{1}{\\left(\\left(x_{i} - x_{{i+1}}\\right)^{2} + \\left(y_{i} - y_{{i+1}}\\right)^{2}\\right)^{2} \\sqrt{\\left(x_{i} - x_{{i-1}}\\right)^{2} + \\left(y_{i} - y_{{i-1}}\\right)^{2}}} \\left(- \\gamma_{{la}} \\left(x_{i} - x_{{i+1}}\\right) \\left(\\left(x_{i} - x_{{i+1}}\\right) \\left(\\left(x_{i} - x_{{i+1}}\\right) \\left(x_{i} - x_{{i-1}}\\right) + \\left(y_{i} - y_{{i+1}}\\right) \\left(y_{i} - y_{{i-1}}\\right)\\right) - \\left(x_{i} - x_{{i-1}}\\right) \\left(\\left(x_{i} - x_{{i+1}}\\right)^{2} + \\left(y_{i} - y_{{i+1}}\\right)^{2}\\right)\\right) - \\left(x_{i} - x_{{i+1}}\\right)^{2} \\left(\\gamma_{{la}} \\left(\\left(x_{i} - x_{{i+1}}\\right) \\left(x_{i} - x_{{i-1}}\\right) + \\left(y_{i} - y_{{i+1}}\\right) \\left(y_{i} - y_{{i-1}}\\right)\\right) + \\gamma_{{lsa}} \\sqrt{\\left(x_{i} - x_{{i+1}}\\right)^{2} + \\left(y_{i} - y_{{i+1}}\\right)^{2}} \\sqrt{\\left(x_{i} - x_{{i-1}}\\right)^{2} + \\left(y_{i} - y_{{i-1}}\\right)^{2}}\\right) + \\left(\\gamma_{{la}} \\left(\\left(x_{i} - x_{{i+1}}\\right) \\left(x_{i} - x_{{i-1}}\\right) + \\left(y_{i} - y_{{i+1}}\\right) \\left(y_{i} - y_{{i-1}}\\right)\\right) + \\gamma_{{lsa}} \\sqrt{\\left(x_{i} - x_{{i+1}}\\right)^{2} + \\left(y_{i} - y_{{i+1}}\\right)^{2}} \\sqrt{\\left(x_{i} - x_{{i-1}}\\right)^{2} + \\left(y_{i} - y_{{i-1}}\\right)^{2}}\\right) \\left(\\left(x_{i} - x_{{i+1}}\\right)^{2} + \\left(y_{i} - y_{{i+1}}\\right)^{2}\\right)\\right)$\""
      ]
     },
     "metadata": {},
     "output_type": "display_data"
    },
    {
     "data": {
      "text/latex": [
       "$ \\frac{\\partial f_{i+1}^x}{\\partial y_{i+1}} =  - \\frac{1}{\\left(\\left(x_{i} - x_{{i+1}}\\right)^{2} + \\left(y_{i} - y_{{i+1}}\\right)^{2}\\right)^{2} \\sqrt{\\left(x_{i} - x_{{i-1}}\\right)^{2} + \\left(y_{i} - y_{{i-1}}\\right)^{2}}} \\left(y_{i} - y_{{i+1}}\\right) \\left(\\gamma_{{la}} \\left(\\left(x_{i} - x_{{i+1}}\\right) \\left(\\left(x_{i} - x_{{i+1}}\\right) \\left(x_{i} - x_{{i-1}}\\right) + \\left(y_{i} - y_{{i+1}}\\right) \\left(y_{i} - y_{{i-1}}\\right)\\right) - \\left(x_{i} - x_{{i-1}}\\right) \\left(\\left(x_{i} - x_{{i+1}}\\right)^{2} + \\left(y_{i} - y_{{i+1}}\\right)^{2}\\right)\\right) + \\left(x_{i} - x_{{i+1}}\\right) \\left(\\gamma_{{la}} \\left(\\left(x_{i} - x_{{i+1}}\\right) \\left(x_{i} - x_{{i-1}}\\right) + \\left(y_{i} - y_{{i+1}}\\right) \\left(y_{i} - y_{{i-1}}\\right)\\right) + \\gamma_{{lsa}} \\sqrt{\\left(x_{i} - x_{{i+1}}\\right)^{2} + \\left(y_{i} - y_{{i+1}}\\right)^{2}} \\sqrt{\\left(x_{i} - x_{{i-1}}\\right)^{2} + \\left(y_{i} - y_{{i-1}}\\right)^{2}}\\right)\\right)$"
      ],
      "text/plain": [
       "L\"$ \\frac{\\partial f_{i+1}^x}{\\partial y_{i+1}} =  - \\frac{1}{\\left(\\left(x_{i} - x_{{i+1}}\\right)^{2} + \\left(y_{i} - y_{{i+1}}\\right)^{2}\\right)^{2} \\sqrt{\\left(x_{i} - x_{{i-1}}\\right)^{2} + \\left(y_{i} - y_{{i-1}}\\right)^{2}}} \\left(y_{i} - y_{{i+1}}\\right) \\left(\\gamma_{{la}} \\left(\\left(x_{i} - x_{{i+1}}\\right) \\left(\\left(x_{i} - x_{{i+1}}\\right) \\left(x_{i} - x_{{i-1}}\\right) + \\left(y_{i} - y_{{i+1}}\\right) \\left(y_{i} - y_{{i-1}}\\right)\\right) - \\left(x_{i} - x_{{i-1}}\\right) \\left(\\left(x_{i} - x_{{i+1}}\\right)^{2} + \\left(y_{i} - y_{{i+1}}\\right)^{2}\\right)\\right) + \\left(x_{i} - x_{{i+1}}\\right) \\left(\\gamma_{{la}} \\left(\\left(x_{i} - x_{{i+1}}\\right) \\left(x_{i} - x_{{i-1}}\\right) + \\left(y_{i} - y_{{i+1}}\\right) \\left(y_{i} - y_{{i-1}}\\right)\\right) + \\gamma_{{lsa}} \\sqrt{\\left(x_{i} - x_{{i+1}}\\right)^{2} + \\left(y_{i} - y_{{i+1}}\\right)^{2}} \\sqrt{\\left(x_{i} - x_{{i-1}}\\right)^{2} + \\left(y_{i} - y_{{i-1}}\\right)^{2}}\\right)\\right)$\""
      ]
     },
     "metadata": {},
     "output_type": "display_data"
    },
    {
     "data": {
      "text/latex": [
       "$ \\frac{\\partial f_{i+1}^y}{\\partial x_{i+1}} =  - \\frac{1}{\\left(\\left(x_{i} - x_{{i+1}}\\right)^{2} + \\left(y_{i} - y_{{i+1}}\\right)^{2}\\right)^{2} \\sqrt{\\left(x_{i} - x_{{i-1}}\\right)^{2} + \\left(y_{i} - y_{{i-1}}\\right)^{2}}} \\left(x_{i} - x_{{i+1}}\\right) \\left(\\gamma_{{la}} \\left(\\left(y_{i} - y_{{i+1}}\\right) \\left(\\left(x_{i} - x_{{i+1}}\\right) \\left(x_{i} - x_{{i-1}}\\right) + \\left(y_{i} - y_{{i+1}}\\right) \\left(y_{i} - y_{{i-1}}\\right)\\right) - \\left(y_{i} - y_{{i-1}}\\right) \\left(\\left(x_{i} - x_{{i+1}}\\right)^{2} + \\left(y_{i} - y_{{i+1}}\\right)^{2}\\right)\\right) + \\left(y_{i} - y_{{i+1}}\\right) \\left(\\gamma_{{la}} \\left(\\left(x_{i} - x_{{i+1}}\\right) \\left(x_{i} - x_{{i-1}}\\right) + \\left(y_{i} - y_{{i+1}}\\right) \\left(y_{i} - y_{{i-1}}\\right)\\right) + \\gamma_{{lsa}} \\sqrt{\\left(x_{i} - x_{{i+1}}\\right)^{2} + \\left(y_{i} - y_{{i+1}}\\right)^{2}} \\sqrt{\\left(x_{i} - x_{{i-1}}\\right)^{2} + \\left(y_{i} - y_{{i-1}}\\right)^{2}}\\right)\\right)$"
      ],
      "text/plain": [
       "L\"$ \\frac{\\partial f_{i+1}^y}{\\partial x_{i+1}} =  - \\frac{1}{\\left(\\left(x_{i} - x_{{i+1}}\\right)^{2} + \\left(y_{i} - y_{{i+1}}\\right)^{2}\\right)^{2} \\sqrt{\\left(x_{i} - x_{{i-1}}\\right)^{2} + \\left(y_{i} - y_{{i-1}}\\right)^{2}}} \\left(x_{i} - x_{{i+1}}\\right) \\left(\\gamma_{{la}} \\left(\\left(y_{i} - y_{{i+1}}\\right) \\left(\\left(x_{i} - x_{{i+1}}\\right) \\left(x_{i} - x_{{i-1}}\\right) + \\left(y_{i} - y_{{i+1}}\\right) \\left(y_{i} - y_{{i-1}}\\right)\\right) - \\left(y_{i} - y_{{i-1}}\\right) \\left(\\left(x_{i} - x_{{i+1}}\\right)^{2} + \\left(y_{i} - y_{{i+1}}\\right)^{2}\\right)\\right) + \\left(y_{i} - y_{{i+1}}\\right) \\left(\\gamma_{{la}} \\left(\\left(x_{i} - x_{{i+1}}\\right) \\left(x_{i} - x_{{i-1}}\\right) + \\left(y_{i} - y_{{i+1}}\\right) \\left(y_{i} - y_{{i-1}}\\right)\\right) + \\gamma_{{lsa}} \\sqrt{\\left(x_{i} - x_{{i+1}}\\right)^{2} + \\left(y_{i} - y_{{i+1}}\\right)^{2}} \\sqrt{\\left(x_{i} - x_{{i-1}}\\right)^{2} + \\left(y_{i} - y_{{i-1}}\\right)^{2}}\\right)\\right)$\""
      ]
     },
     "metadata": {},
     "output_type": "display_data"
    },
    {
     "data": {
      "text/latex": [
       "$ \\frac{\\partial f_{i+1}^y}{\\partial y_{i+1}} =  \\frac{1}{\\left(\\left(x_{i} - x_{{i+1}}\\right)^{2} + \\left(y_{i} - y_{{i+1}}\\right)^{2}\\right)^{2} \\sqrt{\\left(x_{i} - x_{{i-1}}\\right)^{2} + \\left(y_{i} - y_{{i-1}}\\right)^{2}}} \\left(- \\gamma_{{la}} \\left(y_{i} - y_{{i+1}}\\right) \\left(\\left(y_{i} - y_{{i+1}}\\right) \\left(\\left(x_{i} - x_{{i+1}}\\right) \\left(x_{i} - x_{{i-1}}\\right) + \\left(y_{i} - y_{{i+1}}\\right) \\left(y_{i} - y_{{i-1}}\\right)\\right) - \\left(y_{i} - y_{{i-1}}\\right) \\left(\\left(x_{i} - x_{{i+1}}\\right)^{2} + \\left(y_{i} - y_{{i+1}}\\right)^{2}\\right)\\right) - \\left(y_{i} - y_{{i+1}}\\right)^{2} \\left(\\gamma_{{la}} \\left(\\left(x_{i} - x_{{i+1}}\\right) \\left(x_{i} - x_{{i-1}}\\right) + \\left(y_{i} - y_{{i+1}}\\right) \\left(y_{i} - y_{{i-1}}\\right)\\right) + \\gamma_{{lsa}} \\sqrt{\\left(x_{i} - x_{{i+1}}\\right)^{2} + \\left(y_{i} - y_{{i+1}}\\right)^{2}} \\sqrt{\\left(x_{i} - x_{{i-1}}\\right)^{2} + \\left(y_{i} - y_{{i-1}}\\right)^{2}}\\right) + \\left(\\gamma_{{la}} \\left(\\left(x_{i} - x_{{i+1}}\\right) \\left(x_{i} - x_{{i-1}}\\right) + \\left(y_{i} - y_{{i+1}}\\right) \\left(y_{i} - y_{{i-1}}\\right)\\right) + \\gamma_{{lsa}} \\sqrt{\\left(x_{i} - x_{{i+1}}\\right)^{2} + \\left(y_{i} - y_{{i+1}}\\right)^{2}} \\sqrt{\\left(x_{i} - x_{{i-1}}\\right)^{2} + \\left(y_{i} - y_{{i-1}}\\right)^{2}}\\right) \\left(\\left(x_{i} - x_{{i+1}}\\right)^{2} + \\left(y_{i} - y_{{i+1}}\\right)^{2}\\right)\\right)$"
      ],
      "text/plain": [
       "L\"$ \\frac{\\partial f_{i+1}^y}{\\partial y_{i+1}} =  \\frac{1}{\\left(\\left(x_{i} - x_{{i+1}}\\right)^{2} + \\left(y_{i} - y_{{i+1}}\\right)^{2}\\right)^{2} \\sqrt{\\left(x_{i} - x_{{i-1}}\\right)^{2} + \\left(y_{i} - y_{{i-1}}\\right)^{2}}} \\left(- \\gamma_{{la}} \\left(y_{i} - y_{{i+1}}\\right) \\left(\\left(y_{i} - y_{{i+1}}\\right) \\left(\\left(x_{i} - x_{{i+1}}\\right) \\left(x_{i} - x_{{i-1}}\\right) + \\left(y_{i} - y_{{i+1}}\\right) \\left(y_{i} - y_{{i-1}}\\right)\\right) - \\left(y_{i} - y_{{i-1}}\\right) \\left(\\left(x_{i} - x_{{i+1}}\\right)^{2} + \\left(y_{i} - y_{{i+1}}\\right)^{2}\\right)\\right) - \\left(y_{i} - y_{{i+1}}\\right)^{2} \\left(\\gamma_{{la}} \\left(\\left(x_{i} - x_{{i+1}}\\right) \\left(x_{i} - x_{{i-1}}\\right) + \\left(y_{i} - y_{{i+1}}\\right) \\left(y_{i} - y_{{i-1}}\\right)\\right) + \\gamma_{{lsa}} \\sqrt{\\left(x_{i} - x_{{i+1}}\\right)^{2} + \\left(y_{i} - y_{{i+1}}\\right)^{2}} \\sqrt{\\left(x_{i} - x_{{i-1}}\\right)^{2} + \\left(y_{i} - y_{{i-1}}\\right)^{2}}\\right) + \\left(\\gamma_{{la}} \\left(\\left(x_{i} - x_{{i+1}}\\right) \\left(x_{i} - x_{{i-1}}\\right) + \\left(y_{i} - y_{{i+1}}\\right) \\left(y_{i} - y_{{i-1}}\\right)\\right) + \\gamma_{{lsa}} \\sqrt{\\left(x_{i} - x_{{i+1}}\\right)^{2} + \\left(y_{i} - y_{{i+1}}\\right)^{2}} \\sqrt{\\left(x_{i} - x_{{i-1}}\\right)^{2} + \\left(y_{i} - y_{{i-1}}\\right)^{2}}\\right) \\left(\\left(x_{i} - x_{{i+1}}\\right)^{2} + \\left(y_{i} - y_{{i+1}}\\right)^{2}\\right)\\right)$\""
      ]
     },
     "metadata": {},
     "output_type": "display_data"
    }
   ],
   "source": [
    "using LaTeXStrings\n",
    "# prepare results for display\n",
    "D(i,x,y) = \"\\\\frac{\\\\partial f_{$(i)}^$(x)}{\\\\partial $(y)_{$(i)}}\"\n",
    "res = [\n",
    "    \"\\$ $(D(\"i\",\"x\",\"x\")) =  $(SymPy.latex(Dixx))\\$\",\n",
    "    \"\\$ $(D(\"i\",\"x\",\"y\")) =  $(SymPy.latex(Dixy))\\$\",\n",
    "    \"\\$ $(D(\"i\",\"y\",\"x\")) =  $(SymPy.latex(Diyx))\\$\",\n",
    "    \"\\$ $(D(\"i\",\"y\",\"y\")) =  $(SymPy.latex(Diyy))\\$\",\n",
    "    \"\\$ $(D(\"i+1\",\"x\",\"x\")) =  $(SymPy.latex(Dip1xx))\\$\",\n",
    "    \"\\$ $(D(\"i+1\",\"x\",\"y\")) =  $(SymPy.latex(Dip1xy))\\$\",\n",
    "    \"\\$ $(D(\"i+1\",\"y\",\"x\")) =  $(SymPy.latex(Dip1yx))\\$\",\n",
    "    \"\\$ $(D(\"i+1\",\"y\",\"y\")) =  $(SymPy.latex(Dip1yy))\\$\",\n",
    "]\n",
    "\n",
    "# display results\n",
    "for str in res\n",
    "    display(LaTeXString(str)) \n",
    "end"
   ]
  },
  {
   "cell_type": "code",
   "execution_count": 49,
   "metadata": {
    "collapsed": false
   },
   "outputs": [
    {
     "data": {
      "text/latex": [
       "$ \\frac{\\partial f_{i}^x}{\\partial x_{i}} =  - \\frac{\\gamma_{{la}} {e^{x}_{i}}^{2}}{{\\|{e_{{i-1}}\\|}} {\\|{e_{{i}}\\|}}^{2}} + \\frac{\\gamma_{{la}} {e^{x}_{i}} {e^{x}_{{i-1}}}}{{\\|{e_{{i-1}}\\|}} {\\|{e_{{i}}\\|}}^{2}} + \\frac{\\gamma_{{la}} {e_{{ii-1}}}}{{\\|{e_{{i-1}}\\|}} {\\|{e_{{i}}\\|}}^{2}} - \\frac{2 \\gamma_{{la}} {e^{x}_{i}}^{2} {e_{{ii-1}}}}{{\\|{e_{{i-1}}\\|}} {\\|{e_{{i}}\\|}}^{4}} + \\frac{\\gamma_{{la}} {e^{x}_{i}} {e^{x}_{{i-1}}} {e_{{ii-1}}}}{{\\|{e_{{i-1}}\\|}}^{3} {\\|{e_{{i}}\\|}}^{2}} - \\frac{\\gamma_{{lsa}}}{{\\|{e_{{i}}\\|}}} + \\frac{\\gamma_{{lsa}} {e^{x}_{i}}^{2}}{{\\|{e_{{i}}\\|}}^{3}}$"
      ],
      "text/plain": [
       "L\"$ \\frac{\\partial f_{i}^x}{\\partial x_{i}} =  - \\frac{\\gamma_{{la}} {e^{x}_{i}}^{2}}{{\\|{e_{{i-1}}\\|}} {\\|{e_{{i}}\\|}}^{2}} + \\frac{\\gamma_{{la}} {e^{x}_{i}} {e^{x}_{{i-1}}}}{{\\|{e_{{i-1}}\\|}} {\\|{e_{{i}}\\|}}^{2}} + \\frac{\\gamma_{{la}} {e_{{ii-1}}}}{{\\|{e_{{i-1}}\\|}} {\\|{e_{{i}}\\|}}^{2}} - \\frac{2 \\gamma_{{la}} {e^{x}_{i}}^{2} {e_{{ii-1}}}}{{\\|{e_{{i-1}}\\|}} {\\|{e_{{i}}\\|}}^{4}} + \\frac{\\gamma_{{la}} {e^{x}_{i}} {e^{x}_{{i-1}}} {e_{{ii-1}}}}{{\\|{e_{{i-1}}\\|}}^{3} {\\|{e_{{i}}\\|}}^{2}} - \\frac{\\gamma_{{lsa}}}{{\\|{e_{{i}}\\|}}} + \\frac{\\gamma_{{lsa}} {e^{x}_{i}}^{2}}{{\\|{e_{{i}}\\|}}^{3}}$\""
      ]
     },
     "metadata": {},
     "output_type": "display_data"
    },
    {
     "data": {
      "text/latex": [
       "$ \\frac{\\partial f_{i}^x}{\\partial y_{i}} =  - \\frac{\\gamma_{{la}} {e^{x}_{i}} {e^{y}_{i}}}{{\\|{e_{{i-1}}\\|}} {\\|{e_{{i}}\\|}}^{2}} + \\frac{\\gamma_{{la}} {e^{x}_{{i-1}}} {e^{y}_{i}}}{{\\|{e_{{i-1}}\\|}} {\\|{e_{{i}}\\|}}^{2}} - \\frac{2 \\gamma_{{la}} {e^{x}_{i}} {e^{y}_{i}}}{{\\|{e_{{i-1}}\\|}} {\\|{e_{{i}}\\|}}^{4}} {e_{{ii-1}}} + \\frac{\\gamma_{{la}} {e^{x}_{{i-1}}} {e^{y}_{i}} {e_{{ii-1}}}}{{\\|{e_{{i-1}}\\|}}^{3} {\\|{e_{{i}}\\|}}^{2}} + \\frac{{e^{x}_{i}} {e^{y}_{i}}}{{\\|{e_{{i}}\\|}}^{3}} \\gamma_{{lsa}}$"
      ],
      "text/plain": [
       "L\"$ \\frac{\\partial f_{i}^x}{\\partial y_{i}} =  - \\frac{\\gamma_{{la}} {e^{x}_{i}} {e^{y}_{i}}}{{\\|{e_{{i-1}}\\|}} {\\|{e_{{i}}\\|}}^{2}} + \\frac{\\gamma_{{la}} {e^{x}_{{i-1}}} {e^{y}_{i}}}{{\\|{e_{{i-1}}\\|}} {\\|{e_{{i}}\\|}}^{2}} - \\frac{2 \\gamma_{{la}} {e^{x}_{i}} {e^{y}_{i}}}{{\\|{e_{{i-1}}\\|}} {\\|{e_{{i}}\\|}}^{4}} {e_{{ii-1}}} + \\frac{\\gamma_{{la}} {e^{x}_{{i-1}}} {e^{y}_{i}} {e_{{ii-1}}}}{{\\|{e_{{i-1}}\\|}}^{3} {\\|{e_{{i}}\\|}}^{2}} + \\frac{{e^{x}_{i}} {e^{y}_{i}}}{{\\|{e_{{i}}\\|}}^{3}} \\gamma_{{lsa}}$\""
      ]
     },
     "metadata": {},
     "output_type": "display_data"
    },
    {
     "data": {
      "text/latex": [
       "$ \\frac{\\partial f_{i}^y}{\\partial x_{i}} =  - \\frac{\\gamma_{{la}} {e^{x}_{i}} {e^{y}_{i}}}{{\\|{e_{{i-1}}\\|}} {\\|{e_{{i}}\\|}}^{2}} + \\frac{\\gamma_{{la}} {e^{x}_{i}} {e^{y}_{{i-1}}}}{{\\|{e_{{i-1}}\\|}} {\\|{e_{{i}}\\|}}^{2}} - \\frac{2 \\gamma_{{la}} {e^{x}_{i}} {e^{y}_{i}}}{{\\|{e_{{i-1}}\\|}} {\\|{e_{{i}}\\|}}^{4}} {e_{{ii-1}}} + \\frac{\\gamma_{{la}} {e^{x}_{i}} {e^{y}_{{i-1}}} {e_{{ii-1}}}}{{\\|{e_{{i-1}}\\|}}^{3} {\\|{e_{{i}}\\|}}^{2}} + \\frac{{e^{x}_{i}} {e^{y}_{i}}}{{\\|{e_{{i}}\\|}}^{3}} \\gamma_{{lsa}}$"
      ],
      "text/plain": [
       "L\"$ \\frac{\\partial f_{i}^y}{\\partial x_{i}} =  - \\frac{\\gamma_{{la}} {e^{x}_{i}} {e^{y}_{i}}}{{\\|{e_{{i-1}}\\|}} {\\|{e_{{i}}\\|}}^{2}} + \\frac{\\gamma_{{la}} {e^{x}_{i}} {e^{y}_{{i-1}}}}{{\\|{e_{{i-1}}\\|}} {\\|{e_{{i}}\\|}}^{2}} - \\frac{2 \\gamma_{{la}} {e^{x}_{i}} {e^{y}_{i}}}{{\\|{e_{{i-1}}\\|}} {\\|{e_{{i}}\\|}}^{4}} {e_{{ii-1}}} + \\frac{\\gamma_{{la}} {e^{x}_{i}} {e^{y}_{{i-1}}} {e_{{ii-1}}}}{{\\|{e_{{i-1}}\\|}}^{3} {\\|{e_{{i}}\\|}}^{2}} + \\frac{{e^{x}_{i}} {e^{y}_{i}}}{{\\|{e_{{i}}\\|}}^{3}} \\gamma_{{lsa}}$\""
      ]
     },
     "metadata": {},
     "output_type": "display_data"
    },
    {
     "data": {
      "text/latex": [
       "$ \\frac{\\partial f_{i}^y}{\\partial y_{i}} =  - \\frac{\\gamma_{{la}} {e^{y}_{i}}^{2}}{{\\|{e_{{i-1}}\\|}} {\\|{e_{{i}}\\|}}^{2}} + \\frac{\\gamma_{{la}} {e^{y}_{i}} {e^{y}_{{i-1}}}}{{\\|{e_{{i-1}}\\|}} {\\|{e_{{i}}\\|}}^{2}} + \\frac{\\gamma_{{la}} {e_{{ii-1}}}}{{\\|{e_{{i-1}}\\|}} {\\|{e_{{i}}\\|}}^{2}} - \\frac{2 \\gamma_{{la}} {e^{y}_{i}}^{2} {e_{{ii-1}}}}{{\\|{e_{{i-1}}\\|}} {\\|{e_{{i}}\\|}}^{4}} + \\frac{\\gamma_{{la}} {e^{y}_{i}} {e^{y}_{{i-1}}} {e_{{ii-1}}}}{{\\|{e_{{i-1}}\\|}}^{3} {\\|{e_{{i}}\\|}}^{2}} - \\frac{\\gamma_{{lsa}}}{{\\|{e_{{i}}\\|}}} + \\frac{\\gamma_{{lsa}} {e^{y}_{i}}^{2}}{{\\|{e_{{i}}\\|}}^{3}}$"
      ],
      "text/plain": [
       "L\"$ \\frac{\\partial f_{i}^y}{\\partial y_{i}} =  - \\frac{\\gamma_{{la}} {e^{y}_{i}}^{2}}{{\\|{e_{{i-1}}\\|}} {\\|{e_{{i}}\\|}}^{2}} + \\frac{\\gamma_{{la}} {e^{y}_{i}} {e^{y}_{{i-1}}}}{{\\|{e_{{i-1}}\\|}} {\\|{e_{{i}}\\|}}^{2}} + \\frac{\\gamma_{{la}} {e_{{ii-1}}}}{{\\|{e_{{i-1}}\\|}} {\\|{e_{{i}}\\|}}^{2}} - \\frac{2 \\gamma_{{la}} {e^{y}_{i}}^{2} {e_{{ii-1}}}}{{\\|{e_{{i-1}}\\|}} {\\|{e_{{i}}\\|}}^{4}} + \\frac{\\gamma_{{la}} {e^{y}_{i}} {e^{y}_{{i-1}}} {e_{{ii-1}}}}{{\\|{e_{{i-1}}\\|}}^{3} {\\|{e_{{i}}\\|}}^{2}} - \\frac{\\gamma_{{lsa}}}{{\\|{e_{{i}}\\|}}} + \\frac{\\gamma_{{lsa}} {e^{y}_{i}}^{2}}{{\\|{e_{{i}}\\|}}^{3}}$\""
      ]
     },
     "metadata": {},
     "output_type": "display_data"
    },
    {
     "data": {
      "text/latex": [
       "$ \\frac{\\partial f_{i+1}^x}{\\partial x_{i+1}} =  - \\frac{\\gamma_{{la}} {e^{x}_{i}} {e^{x}_{{i-1}}}}{{\\|{e_{{i-1}}\\|}} {\\|{e_{{i}}\\|}}^{2}} - \\frac{\\gamma_{{la}} {e_{{ii-1}}}}{{\\|{e_{{i-1}}\\|}} {\\|{e_{{i}}\\|}}^{2}} + \\frac{2 \\gamma_{{la}} {e^{x}_{i}}^{2} {e_{{ii-1}}}}{{\\|{e_{{i-1}}\\|}} {\\|{e_{{i}}\\|}}^{4}} + \\frac{\\gamma_{{lsa}}}{{\\|{e_{{i}}\\|}}} - \\frac{\\gamma_{{lsa}} {e^{x}_{i}}^{2}}{{\\|{e_{{i}}\\|}}^{3}}$"
      ],
      "text/plain": [
       "L\"$ \\frac{\\partial f_{i+1}^x}{\\partial x_{i+1}} =  - \\frac{\\gamma_{{la}} {e^{x}_{i}} {e^{x}_{{i-1}}}}{{\\|{e_{{i-1}}\\|}} {\\|{e_{{i}}\\|}}^{2}} - \\frac{\\gamma_{{la}} {e_{{ii-1}}}}{{\\|{e_{{i-1}}\\|}} {\\|{e_{{i}}\\|}}^{2}} + \\frac{2 \\gamma_{{la}} {e^{x}_{i}}^{2} {e_{{ii-1}}}}{{\\|{e_{{i-1}}\\|}} {\\|{e_{{i}}\\|}}^{4}} + \\frac{\\gamma_{{lsa}}}{{\\|{e_{{i}}\\|}}} - \\frac{\\gamma_{{lsa}} {e^{x}_{i}}^{2}}{{\\|{e_{{i}}\\|}}^{3}}$\""
      ]
     },
     "metadata": {},
     "output_type": "display_data"
    },
    {
     "data": {
      "text/latex": [
       "$ \\frac{\\partial f_{i+1}^x}{\\partial y_{i+1}} =  - \\frac{\\gamma_{{la}} {e^{x}_{{i-1}}} {e^{y}_{i}}}{{\\|{e_{{i-1}}\\|}} {\\|{e_{{i}}\\|}}^{2}} + \\frac{2 \\gamma_{{la}} {e^{x}_{i}} {e^{y}_{i}}}{{\\|{e_{{i-1}}\\|}} {\\|{e_{{i}}\\|}}^{4}} {e_{{ii-1}}} - \\frac{{e^{x}_{i}} {e^{y}_{i}}}{{\\|{e_{{i}}\\|}}^{3}} \\gamma_{{lsa}}$"
      ],
      "text/plain": [
       "L\"$ \\frac{\\partial f_{i+1}^x}{\\partial y_{i+1}} =  - \\frac{\\gamma_{{la}} {e^{x}_{{i-1}}} {e^{y}_{i}}}{{\\|{e_{{i-1}}\\|}} {\\|{e_{{i}}\\|}}^{2}} + \\frac{2 \\gamma_{{la}} {e^{x}_{i}} {e^{y}_{i}}}{{\\|{e_{{i-1}}\\|}} {\\|{e_{{i}}\\|}}^{4}} {e_{{ii-1}}} - \\frac{{e^{x}_{i}} {e^{y}_{i}}}{{\\|{e_{{i}}\\|}}^{3}} \\gamma_{{lsa}}$\""
      ]
     },
     "metadata": {},
     "output_type": "display_data"
    },
    {
     "data": {
      "text/latex": [
       "$ \\frac{\\partial f_{i+1}^y}{\\partial x_{i+1}} =  - \\frac{\\gamma_{{la}} {e^{x}_{i}} {e^{y}_{{i-1}}}}{{\\|{e_{{i-1}}\\|}} {\\|{e_{{i}}\\|}}^{2}} + \\frac{2 \\gamma_{{la}} {e^{x}_{i}} {e^{y}_{i}}}{{\\|{e_{{i-1}}\\|}} {\\|{e_{{i}}\\|}}^{4}} {e_{{ii-1}}} - \\frac{{e^{x}_{i}} {e^{y}_{i}}}{{\\|{e_{{i}}\\|}}^{3}} \\gamma_{{lsa}}$"
      ],
      "text/plain": [
       "L\"$ \\frac{\\partial f_{i+1}^y}{\\partial x_{i+1}} =  - \\frac{\\gamma_{{la}} {e^{x}_{i}} {e^{y}_{{i-1}}}}{{\\|{e_{{i-1}}\\|}} {\\|{e_{{i}}\\|}}^{2}} + \\frac{2 \\gamma_{{la}} {e^{x}_{i}} {e^{y}_{i}}}{{\\|{e_{{i-1}}\\|}} {\\|{e_{{i}}\\|}}^{4}} {e_{{ii-1}}} - \\frac{{e^{x}_{i}} {e^{y}_{i}}}{{\\|{e_{{i}}\\|}}^{3}} \\gamma_{{lsa}}$\""
      ]
     },
     "metadata": {},
     "output_type": "display_data"
    },
    {
     "data": {
      "text/latex": [
       "$ \\frac{\\partial f_{i+1}^y}{\\partial y_{i+1}} =  - \\frac{\\gamma_{{la}} {e^{y}_{i}} {e^{y}_{{i-1}}}}{{\\|{e_{{i-1}}\\|}} {\\|{e_{{i}}\\|}}^{2}} - \\frac{\\gamma_{{la}} {e_{{ii-1}}}}{{\\|{e_{{i-1}}\\|}} {\\|{e_{{i}}\\|}}^{2}} + \\frac{2 \\gamma_{{la}} {e^{y}_{i}}^{2} {e_{{ii-1}}}}{{\\|{e_{{i-1}}\\|}} {\\|{e_{{i}}\\|}}^{4}} + \\frac{\\gamma_{{lsa}}}{{\\|{e_{{i}}\\|}}} - \\frac{\\gamma_{{lsa}} {e^{y}_{i}}^{2}}{{\\|{e_{{i}}\\|}}^{3}}$"
      ],
      "text/plain": [
       "L\"$ \\frac{\\partial f_{i+1}^y}{\\partial y_{i+1}} =  - \\frac{\\gamma_{{la}} {e^{y}_{i}} {e^{y}_{{i-1}}}}{{\\|{e_{{i-1}}\\|}} {\\|{e_{{i}}\\|}}^{2}} - \\frac{\\gamma_{{la}} {e_{{ii-1}}}}{{\\|{e_{{i-1}}\\|}} {\\|{e_{{i}}\\|}}^{2}} + \\frac{2 \\gamma_{{la}} {e^{y}_{i}}^{2} {e_{{ii-1}}}}{{\\|{e_{{i-1}}\\|}} {\\|{e_{{i}}\\|}}^{4}} + \\frac{\\gamma_{{lsa}}}{{\\|{e_{{i}}\\|}}} - \\frac{\\gamma_{{lsa}} {e^{y}_{i}}^{2}}{{\\|{e_{{i}}\\|}}^{3}}$\""
      ]
     },
     "metadata": {},
     "output_type": "display_data"
    }
   ],
   "source": [
    "# Express the above derivatives in terms of edge vector components\n",
    "eix = symbols(\"{e^x_i}\", real=true)\n",
    "eiy = symbols(\"{e^y_i}\", real=true)\n",
    "ein = symbols(\"{\\\\|{e_{i}}\\\\|}\", positive=true)\n",
    "eim1x = symbols(\"{e^x_{i-1}}\", real=true)\n",
    "eim1y = symbols(\"{e^y_{i-1}}\", real=true)\n",
    "eim1n = symbols(\"{\\\\|{e_{i-1}}\\\\|}\", positive=true)\n",
    "ee = symbols(\"{e_{ii-1}}\", positive=true)\n",
    "function sim(f) \n",
    "    f = subs(subs(subs(f,xip1-xi,eix),yip1-yi,eiy),eix^2+eiy^2,ein^2)\n",
    "    f = subs(subs(subs(f,xi-xim1,eim1x),yi-yim1,eim1y),eim1x^2+eim1y^2,eim1n^2)\n",
    "    f = subs(f,eix*eim1x + eiy*eim1y,ee)\n",
    "    f = subs(f,-2*xi + xip1 + xim1,eix - eim1x)\n",
    "    f = subs(f,-2*yi + yip1 + yim1,eiy - eim1y)\n",
    "    expand(f)\n",
    "end\n",
    "sDixx = sim(Dixx);\n",
    "sDixy = sim(Dixy);\n",
    "sDiyx = sim(Diyx);\n",
    "sDiyy = sim(Diyy);\n",
    "sDip1xx = sim(Dip1xx);\n",
    "sDip1xy = sim(Dip1xy);\n",
    "sDip1yx = sim(Dip1yx);\n",
    "sDip1yy = sim(Dip1yy);\n",
    "\n",
    "res = [\n",
    "    \"\\$ $(D(\"i\",\"x\",\"x\")) =  $(SymPy.latex(sim(Dixx)))\\$\",\n",
    "    \"\\$ $(D(\"i\",\"x\",\"y\")) =  $(SymPy.latex(sim(Dixy)))\\$\",\n",
    "    \"\\$ $(D(\"i\",\"y\",\"x\")) =  $(SymPy.latex(sim(Diyx)))\\$\",\n",
    "    \"\\$ $(D(\"i\",\"y\",\"y\")) =  $(SymPy.latex(sim(Diyy)))\\$\",\n",
    "    \"\\$ $(D(\"i+1\",\"x\",\"x\")) =  $(SymPy.latex(sim(Dip1xx)))\\$\",\n",
    "    \"\\$ $(D(\"i+1\",\"x\",\"y\")) =  $(SymPy.latex(sim(Dip1xy)))\\$\",\n",
    "    \"\\$ $(D(\"i+1\",\"y\",\"x\")) =  $(SymPy.latex(sim(Dip1yx)))\\$\",\n",
    "    \"\\$ $(D(\"i+1\",\"y\",\"y\")) =  $(SymPy.latex(sim(Dip1yy)))\\$\",\n",
    "]\n",
    "for str in res\n",
    "    display(LaTeXString(str)) \n",
    "end"
   ]
  },
  {
   "cell_type": "code",
   "execution_count": 46,
   "metadata": {
    "collapsed": false
   },
   "outputs": [
    {
     "data": {
      "text/latex": [
       "$$- \\frac{\\gamma_{{la}} {e^{x}_{i}} {e^{x}_{{i-1}}}}{{\\|{e_{{i-1}}\\|}} {\\|{e_{{i}}\\|}}^{2}} - \\frac{\\gamma_{{la}} {e_{{ii-1}}}}{{\\|{e_{{i-1}}\\|}} {\\|{e_{{i}}\\|}}^{2}} + \\frac{2 \\gamma_{{la}} {e^{x}_{i}}^{2} {e_{{ii-1}}}}{{\\|{e_{{i-1}}\\|}} {\\|{e_{{i}}\\|}}^{4}} + \\frac{\\gamma_{{lsa}}}{{\\|{e_{{i}}\\|}}} - \\frac{\\gamma_{{lsa}} {e^{x}_{i}}^{2}}{{\\|{e_{{i}}\\|}}^{3}}$$"
      ],
      "text/plain": [
       "                                                                              \n",
       "  gamma_{la}*{e^x_i}*{e^x_{i-1}}       gamma_{la}*{e_{ii-1}}        2*gamma_{l\n",
       "- ------------------------------ - ------------------------------ + ----------\n",
       "                               2                                2             \n",
       "  {\\|{e_{i-1}}\\|}*{\\|{e_{i}}\\|}    {\\|{e_{i-1}}\\|}*{\\|{e_{i}}\\|}     {\\|{e_{i-\n",
       "\n",
       "          2                                                 2\n",
       "a}*{e^x_i} *{e_{ii-1}}    gamma_{lsa}    gamma_{lsa}*{e^x_i} \n",
       "---------------------- + ------------- - --------------------\n",
       "                    4    {\\|{e_{i}}\\|}                   3   \n",
       "1}}\\|}*{\\|{e_{i}}\\|}                        {\\|{e_{i}}\\|}    "
      ]
     },
     "execution_count": 46,
     "metadata": {},
     "output_type": "execute_result"
    }
   ],
   "source": [
    "collect(sDip1xx)"
   ]
  },
  {
   "cell_type": "code",
   "execution_count": null,
   "metadata": {
    "collapsed": true
   },
   "outputs": [],
   "source": []
  }
 ],
 "metadata": {
  "kernelspec": {
   "display_name": "Julia 0.4.3",
   "language": "julia",
   "name": "julia-0.4"
  },
  "language_info": {
   "file_extension": ".jl",
   "mimetype": "application/julia",
   "name": "julia",
   "version": "0.4.3"
  }
 },
 "nbformat": 4,
 "nbformat_minor": 0
}
