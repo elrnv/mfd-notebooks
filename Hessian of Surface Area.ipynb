{
 "cells": [
  {
   "cell_type": "code",
   "execution_count": 8,
   "metadata": {
    "collapsed": false,
    "scrolled": true
   },
   "outputs": [
    {
     "data": {
      "text/latex": [
       "$$- \\frac{\\left(x_{i} - x_{{i+1}}\\right)^{2}}{\\left(\\left(x_{i} - x_{{i+1}}\\right)^{2} + \\left(y_{i} - y_{{i+1}}\\right)^{2}\\right)^{\\frac{3}{2}}}$$"
      ],
      "text/plain": [
       "                           2            \n",
       "           -(x_i - x_{i+1})             \n",
       "----------------------------------------\n",
       "                                     3/2\n",
       "/               2                  2\\   \n",
       "\\(x_i - x_{i+1})  + (y_i - y_{i+1}) /   "
      ]
     },
     "execution_count": 8,
     "metadata": {},
     "output_type": "execute_result"
    }
   ],
   "source": [
    "using SymPy\n",
    "xi = symbols(\"x_i\", real=true)\n",
    "yi = symbols(\"y_i\", real=true)\n",
    "xip1 = symbols(\"x_{i+1}\", real=true)\n",
    "yip1 = symbols(\"y_{i+1}\", real=true)\n",
    "xim1 = symbols(\"x_{i-1}\", real=true)\n",
    "yim1 = symbols(\"y_{i-1}\", real=true)\n",
    "\n",
    "# Definition of surface area gradient (computed by hand) at node i, x component\n",
    "lp = sqrt((xi-xip1)^2+(yi-yip1)^2)\n",
    "lm = sqrt((xi-xim1)^2+(yi-yim1)^2)\n",
    "saix = (xi-xip1)/lp + (xi-xim1)/lm\n",
    "saiy = (yi-yip1)/lp + (yi-yim1)/lm\n",
    "\n",
    "# Compute Hessian Stencil\n",
    "Dixx = simplify(diff(saix,xi))\n",
    "Dixy = simplify(diff(saiy,xi))\n",
    "\n",
    "Diyx = simplify(diff(saix,yi)) # expect to be the same as Dixy\n",
    "Diyy = simplify(diff(saiy,yi))\n",
    "\n",
    "Dip1xx = simplify(diff(saix,xip1))\n",
    "Dip1xy = simplify(diff(saiy,xip1))\n",
    "\n",
    "Dip1yx = simplify(diff(saix,yip1)) # expect to be the same as Dip1xy\n",
    "Dip1yy = simplify(diff(saiy,yip1))"
   ]
  },
  {
   "cell_type": "code",
   "execution_count": 16,
   "metadata": {
    "collapsed": false
   },
   "outputs": [
    {
     "ename": "LoadError",
     "evalue": "LoadError: ArgumentError: Some initial value specification is needed.\nSpecifying the function, as in `dsolve(ex, f(x))`, is deprecated.\nUse `sympy_meth(:dsolve, ex, f(x); kwargs...)` directly for that underlying interface.\n\nwhile loading In[16], in expression starting on line 4",
     "output_type": "error",
     "traceback": [
      "LoadError: ArgumentError: Some initial value specification is needed.\nSpecifying the function, as in `dsolve(ex, f(x))`, is deprecated.\nUse `sympy_meth(:dsolve, ex, f(x); kwargs...)` directly for that underlying interface.\n\nwhile loading In[16], in expression starting on line 4",
      "",
      " in dsolve at /Users/egor/.julia/v0.4/SymPy/src/dsolve.jl:133"
     ]
    }
   ],
   "source": [
    "using LaTeXStrings\n",
    "\n",
    "x = symbols(\"(D_{i-1}^x)_x\")\n",
    "dsolve(Dip1yy - x, x)\n"
   ]
  },
  {
   "cell_type": "code",
   "execution_count": null,
   "metadata": {
    "collapsed": true
   },
   "outputs": [],
   "source": []
  }
 ],
 "metadata": {
  "kernelspec": {
   "display_name": "Julia 0.4.3",
   "language": "julia",
   "name": "julia-0.4"
  },
  "language_info": {
   "file_extension": ".jl",
   "mimetype": "application/julia",
   "name": "julia",
   "version": "0.4.3"
  }
 },
 "nbformat": 4,
 "nbformat_minor": 0
}
