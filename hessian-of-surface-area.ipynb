{
 "cells": [
  {
   "cell_type": "code",
   "execution_count": 40,
   "metadata": {
    "collapsed": false,
    "scrolled": true
   },
   "outputs": [],
   "source": [
    "using SymPy\n",
    "xi = symbols(\"x_i\", real=true)\n",
    "yi = symbols(\"y_i\", real=true)\n",
    "xip1 = symbols(\"x_{i+1}\", real=true)\n",
    "yip1 = symbols(\"y_{i+1}\", real=true)\n",
    "xim1 = symbols(\"x_{i-1}\", real=true)\n",
    "yim1 = symbols(\"y_{i-1}\", real=true)\n",
    "\n",
    "# Definition of surface area gradient (computed by hand) at node i\n",
    "lp = sqrt((xi-xip1)^2+(yi-yip1)^2) # length of next edge\n",
    "lm = sqrt((xi-xim1)^2+(yi-yim1)^2) # length of previous edge\n",
    "fix = (xip1-xi)/lp - (xi-xim1)/lm # force x component \n",
    "fiy = (yip1-yi)/lp - (yi-yim1)/lm # force y component\n",
    "\n",
    "# Compute Hessian Stencil\n",
    "Dixx = simplify(diff(fix,xi))\n",
    "Dixy = simplify(diff(fiy,xi))\n",
    "\n",
    "Diyx = simplify(diff(fix,yi)) # expect to be the same as Dixy\n",
    "Diyy = simplify(diff(fiy,yi))\n",
    "\n",
    "Dip1xx = simplify(diff(fix,xip1))\n",
    "Dip1xy = simplify(diff(fiy,xip1))\n",
    "\n",
    "Dip1yx = simplify(diff(fix,yip1)) # expect to be the same as Dip1xy\n",
    "Dip1yy = simplify(diff(fiy,yip1))\n",
    "\n",
    "assert(Diyx == Dixy)\n",
    "assert(Dip1xy == Dip1yx)"
   ]
  },
  {
   "cell_type": "code",
   "execution_count": 88,
   "metadata": {
    "collapsed": false
   },
   "outputs": [
    {
     "data": {
      "text/latex": [
       "$ \\frac{\\partial f_{i}^x}{\\partial x_{i}} =  \\frac{\\left(x_{i} - x_{{i+1}}\\right)^{2}}{\\left(\\left(x_{i} - x_{{i+1}}\\right)^{2} + \\left(y_{i} - y_{{i+1}}\\right)^{2}\\right)^{\\frac{3}{2}}} + \\frac{\\left(x_{i} - x_{{i-1}}\\right)^{2}}{\\left(\\left(x_{i} - x_{{i-1}}\\right)^{2} + \\left(y_{i} - y_{{i-1}}\\right)^{2}\\right)^{\\frac{3}{2}}} - \\frac{1}{\\sqrt{\\left(x_{i} - x_{{i-1}}\\right)^{2} + \\left(y_{i} - y_{{i-1}}\\right)^{2}}} - \\frac{1}{\\sqrt{\\left(x_{i} - x_{{i+1}}\\right)^{2} + \\left(y_{i} - y_{{i+1}}\\right)^{2}}}$"
      ],
      "text/plain": [
       "L\"$ \\frac{\\partial f_{i}^x}{\\partial x_{i}} =  \\frac{\\left(x_{i} - x_{{i+1}}\\right)^{2}}{\\left(\\left(x_{i} - x_{{i+1}}\\right)^{2} + \\left(y_{i} - y_{{i+1}}\\right)^{2}\\right)^{\\frac{3}{2}}} + \\frac{\\left(x_{i} - x_{{i-1}}\\right)^{2}}{\\left(\\left(x_{i} - x_{{i-1}}\\right)^{2} + \\left(y_{i} - y_{{i-1}}\\right)^{2}\\right)^{\\frac{3}{2}}} - \\frac{1}{\\sqrt{\\left(x_{i} - x_{{i-1}}\\right)^{2} + \\left(y_{i} - y_{{i-1}}\\right)^{2}}} - \\frac{1}{\\sqrt{\\left(x_{i} - x_{{i+1}}\\right)^{2} + \\left(y_{i} - y_{{i+1}}\\right)^{2}}}$\""
      ]
     },
     "metadata": {},
     "output_type": "display_data"
    },
    {
     "data": {
      "text/latex": [
       "$ \\frac{\\partial f_{i}^x}{\\partial y_{i}} = \\frac{\\partial f_{i}^y}{\\partial x_{i}} =  \\frac{\\left(x_{i} - x_{{i+1}}\\right) \\left(y_{i} - y_{{i+1}}\\right) \\left(\\left(x_{i} - x_{{i-1}}\\right)^{2} + \\left(y_{i} - y_{{i-1}}\\right)^{2}\\right)^{\\frac{3}{2}} + \\left(x_{i} - x_{{i-1}}\\right) \\left(y_{i} - y_{{i-1}}\\right) \\left(\\left(x_{i} - x_{{i+1}}\\right)^{2} + \\left(y_{i} - y_{{i+1}}\\right)^{2}\\right)^{\\frac{3}{2}}}{\\left(\\left(x_{i} - x_{{i+1}}\\right)^{2} + \\left(y_{i} - y_{{i+1}}\\right)^{2}\\right)^{\\frac{3}{2}} \\left(\\left(x_{i} - x_{{i-1}}\\right)^{2} + \\left(y_{i} - y_{{i-1}}\\right)^{2}\\right)^{\\frac{3}{2}}}$"
      ],
      "text/plain": [
       "L\"$ \\frac{\\partial f_{i}^x}{\\partial y_{i}} = \\frac{\\partial f_{i}^y}{\\partial x_{i}} =  \\frac{\\left(x_{i} - x_{{i+1}}\\right) \\left(y_{i} - y_{{i+1}}\\right) \\left(\\left(x_{i} - x_{{i-1}}\\right)^{2} + \\left(y_{i} - y_{{i-1}}\\right)^{2}\\right)^{\\frac{3}{2}} + \\left(x_{i} - x_{{i-1}}\\right) \\left(y_{i} - y_{{i-1}}\\right) \\left(\\left(x_{i} - x_{{i+1}}\\right)^{2} + \\left(y_{i} - y_{{i+1}}\\right)^{2}\\right)^{\\frac{3}{2}}}{\\left(\\left(x_{i} - x_{{i+1}}\\right)^{2} + \\left(y_{i} - y_{{i+1}}\\right)^{2}\\right)^{\\frac{3}{2}} \\left(\\left(x_{i} - x_{{i-1}}\\right)^{2} + \\left(y_{i} - y_{{i-1}}\\right)^{2}\\right)^{\\frac{3}{2}}}$\""
      ]
     },
     "metadata": {},
     "output_type": "display_data"
    },
    {
     "data": {
      "text/latex": [
       "$ \\frac{\\partial f_{i}^y}{\\partial y_{i}} =  \\frac{\\left(y_{i} - y_{{i+1}}\\right)^{2}}{\\left(\\left(x_{i} - x_{{i+1}}\\right)^{2} + \\left(y_{i} - y_{{i+1}}\\right)^{2}\\right)^{\\frac{3}{2}}} + \\frac{\\left(y_{i} - y_{{i-1}}\\right)^{2}}{\\left(\\left(x_{i} - x_{{i-1}}\\right)^{2} + \\left(y_{i} - y_{{i-1}}\\right)^{2}\\right)^{\\frac{3}{2}}} - \\frac{1}{\\sqrt{\\left(x_{i} - x_{{i-1}}\\right)^{2} + \\left(y_{i} - y_{{i-1}}\\right)^{2}}} - \\frac{1}{\\sqrt{\\left(x_{i} - x_{{i+1}}\\right)^{2} + \\left(y_{i} - y_{{i+1}}\\right)^{2}}}$"
      ],
      "text/plain": [
       "L\"$ \\frac{\\partial f_{i}^y}{\\partial y_{i}} =  \\frac{\\left(y_{i} - y_{{i+1}}\\right)^{2}}{\\left(\\left(x_{i} - x_{{i+1}}\\right)^{2} + \\left(y_{i} - y_{{i+1}}\\right)^{2}\\right)^{\\frac{3}{2}}} + \\frac{\\left(y_{i} - y_{{i-1}}\\right)^{2}}{\\left(\\left(x_{i} - x_{{i-1}}\\right)^{2} + \\left(y_{i} - y_{{i-1}}\\right)^{2}\\right)^{\\frac{3}{2}}} - \\frac{1}{\\sqrt{\\left(x_{i} - x_{{i-1}}\\right)^{2} + \\left(y_{i} - y_{{i-1}}\\right)^{2}}} - \\frac{1}{\\sqrt{\\left(x_{i} - x_{{i+1}}\\right)^{2} + \\left(y_{i} - y_{{i+1}}\\right)^{2}}}$\""
      ]
     },
     "metadata": {},
     "output_type": "display_data"
    },
    {
     "data": {
      "text/latex": [
       "$ \\frac{\\partial f_{i+1}^x}{\\partial x_{i+1}} =  \\frac{\\left(y_{i} - y_{{i+1}}\\right)^{2}}{\\left(\\left(x_{i} - x_{{i+1}}\\right)^{2} + \\left(y_{i} - y_{{i+1}}\\right)^{2}\\right)^{\\frac{3}{2}}}$"
      ],
      "text/plain": [
       "L\"$ \\frac{\\partial f_{i+1}^x}{\\partial x_{i+1}} =  \\frac{\\left(y_{i} - y_{{i+1}}\\right)^{2}}{\\left(\\left(x_{i} - x_{{i+1}}\\right)^{2} + \\left(y_{i} - y_{{i+1}}\\right)^{2}\\right)^{\\frac{3}{2}}}$\""
      ]
     },
     "metadata": {},
     "output_type": "display_data"
    },
    {
     "data": {
      "text/latex": [
       "$ \\frac{\\partial f_{i+1}^x}{\\partial y_{i+1}} = \\frac{\\partial f_{i+1}^y}{\\partial x_{i+1}} =  - \\frac{\\left(x_{i} - x_{{i+1}}\\right) \\left(y_{i} - y_{{i+1}}\\right)}{\\left(\\left(x_{i} - x_{{i+1}}\\right)^{2} + \\left(y_{i} - y_{{i+1}}\\right)^{2}\\right)^{\\frac{3}{2}}}$"
      ],
      "text/plain": [
       "L\"$ \\frac{\\partial f_{i+1}^x}{\\partial y_{i+1}} = \\frac{\\partial f_{i+1}^y}{\\partial x_{i+1}} =  - \\frac{\\left(x_{i} - x_{{i+1}}\\right) \\left(y_{i} - y_{{i+1}}\\right)}{\\left(\\left(x_{i} - x_{{i+1}}\\right)^{2} + \\left(y_{i} - y_{{i+1}}\\right)^{2}\\right)^{\\frac{3}{2}}}$\""
      ]
     },
     "metadata": {},
     "output_type": "display_data"
    },
    {
     "data": {
      "text/latex": [
       "$ \\frac{\\partial f_{i+1}^y}{\\partial y_{i+1}} =  \\frac{\\left(x_{i} - x_{{i+1}}\\right)^{2}}{\\left(\\left(x_{i} - x_{{i+1}}\\right)^{2} + \\left(y_{i} - y_{{i+1}}\\right)^{2}\\right)^{\\frac{3}{2}}}$"
      ],
      "text/plain": [
       "L\"$ \\frac{\\partial f_{i+1}^y}{\\partial y_{i+1}} =  \\frac{\\left(x_{i} - x_{{i+1}}\\right)^{2}}{\\left(\\left(x_{i} - x_{{i+1}}\\right)^{2} + \\left(y_{i} - y_{{i+1}}\\right)^{2}\\right)^{\\frac{3}{2}}}$\""
      ]
     },
     "metadata": {},
     "output_type": "display_data"
    }
   ],
   "source": [
    "using LaTeXStrings\n",
    "# prepare results for display\n",
    "D(i,x,y) = \"\\\\frac{\\\\partial f_{$(i)}^$(x)}{\\\\partial $(y)_{$(i)}}\"\n",
    "res = [\n",
    "    \"\\$ $(D(\"i\",\"x\",\"x\")) =  $(SymPy.latex(Dixx))\\$\",\n",
    "    \"\\$ $(D(\"i\",\"x\",\"y\")) = $(D(\"i\",\"y\",\"x\")) =  $(SymPy.latex(Dixy))\\$\",\n",
    "    \"\\$ $(D(\"i\",\"y\",\"y\")) =  $(SymPy.latex(Diyy))\\$\",\n",
    "    \"\\$ $(D(\"i+1\",\"x\",\"x\")) =  $(SymPy.latex(Dip1xx))\\$\",\n",
    "    \"\\$ $(D(\"i+1\",\"x\",\"y\")) = $(D(\"i+1\",\"y\",\"x\")) =  $(SymPy.latex(Dip1xy))\\$\",\n",
    "    \"\\$ $(D(\"i+1\",\"y\",\"y\")) =  $(SymPy.latex(Dip1yy))\\$\",\n",
    "]\n",
    "\n",
    "# display results\n",
    "for str in res\n",
    "    display(LaTeXString(str)) \n",
    "end"
   ]
  },
  {
   "cell_type": "code",
   "execution_count": 90,
   "metadata": {
    "collapsed": false
   },
   "outputs": [
    {
     "data": {
      "text/latex": [
       "$ \\frac{\\partial f_{i}^x}{\\partial x_{i}} =  - \\frac{1}{{\\|{e_{{i}}\\|}}} + \\frac{{e^{x}_{i}}^{2}}{{\\|{e_{{i}}\\|}}^{3}} - \\frac{1}{{\\|{e_{{i-1}}\\|}}} + \\frac{{e^{x}_{{i-1}}}^{2}}{{\\|{e_{{i-1}}\\|}}^{3}}$"
      ],
      "text/plain": [
       "L\"$ \\frac{\\partial f_{i}^x}{\\partial x_{i}} =  - \\frac{1}{{\\|{e_{{i}}\\|}}} + \\frac{{e^{x}_{i}}^{2}}{{\\|{e_{{i}}\\|}}^{3}} - \\frac{1}{{\\|{e_{{i-1}}\\|}}} + \\frac{{e^{x}_{{i-1}}}^{2}}{{\\|{e_{{i-1}}\\|}}^{3}}$\""
      ]
     },
     "metadata": {},
     "output_type": "display_data"
    },
    {
     "data": {
      "text/latex": [
       "$ \\frac{\\partial f_{i}^x}{\\partial y_{i}} = \\frac{\\partial f_{i}^y}{\\partial x_{i}} =  \\frac{{e^{x}_{i}} {e^{y}_{i}}}{{\\|{e_{{i}}\\|}}^{3}} + \\frac{{e^{x}_{{i-1}}} {e^{y}_{{i-1}}}}{{\\|{e_{{i-1}}\\|}}^{3}}$"
      ],
      "text/plain": [
       "L\"$ \\frac{\\partial f_{i}^x}{\\partial y_{i}} = \\frac{\\partial f_{i}^y}{\\partial x_{i}} =  \\frac{{e^{x}_{i}} {e^{y}_{i}}}{{\\|{e_{{i}}\\|}}^{3}} + \\frac{{e^{x}_{{i-1}}} {e^{y}_{{i-1}}}}{{\\|{e_{{i-1}}\\|}}^{3}}$\""
      ]
     },
     "metadata": {},
     "output_type": "display_data"
    },
    {
     "data": {
      "text/latex": [
       "$ \\frac{\\partial f_{i}^y}{\\partial y_{i}} =  - \\frac{1}{{\\|{e_{{i}}\\|}}} + \\frac{{e^{y}_{i}}^{2}}{{\\|{e_{{i}}\\|}}^{3}} - \\frac{1}{{\\|{e_{{i-1}}\\|}}} + \\frac{{e^{y}_{{i-1}}}^{2}}{{\\|{e_{{i-1}}\\|}}^{3}}$"
      ],
      "text/plain": [
       "L\"$ \\frac{\\partial f_{i}^y}{\\partial y_{i}} =  - \\frac{1}{{\\|{e_{{i}}\\|}}} + \\frac{{e^{y}_{i}}^{2}}{{\\|{e_{{i}}\\|}}^{3}} - \\frac{1}{{\\|{e_{{i-1}}\\|}}} + \\frac{{e^{y}_{{i-1}}}^{2}}{{\\|{e_{{i-1}}\\|}}^{3}}$\""
      ]
     },
     "metadata": {},
     "output_type": "display_data"
    },
    {
     "data": {
      "text/latex": [
       "$ \\frac{\\partial f_{i+1}^x}{\\partial x_{i+1}} =  \\frac{{e^{y}_{i}}^{2}}{{\\|{e_{{i}}\\|}}^{3}}$"
      ],
      "text/plain": [
       "L\"$ \\frac{\\partial f_{i+1}^x}{\\partial x_{i+1}} =  \\frac{{e^{y}_{i}}^{2}}{{\\|{e_{{i}}\\|}}^{3}}$\""
      ]
     },
     "metadata": {},
     "output_type": "display_data"
    },
    {
     "data": {
      "text/latex": [
       "$ \\frac{\\partial f_{i+1}^x}{\\partial y_{i+1}} = \\frac{\\partial f_{i+1}^y}{\\partial x_{i+1}} =  - \\frac{{e^{x}_{i}} {e^{y}_{i}}}{{\\|{e_{{i}}\\|}}^{3}}$"
      ],
      "text/plain": [
       "L\"$ \\frac{\\partial f_{i+1}^x}{\\partial y_{i+1}} = \\frac{\\partial f_{i+1}^y}{\\partial x_{i+1}} =  - \\frac{{e^{x}_{i}} {e^{y}_{i}}}{{\\|{e_{{i}}\\|}}^{3}}$\""
      ]
     },
     "metadata": {},
     "output_type": "display_data"
    },
    {
     "data": {
      "text/latex": [
       "$ \\frac{\\partial f_{i+1}^y}{\\partial y_{i+1}} =  \\frac{{e^{x}_{i}}^{2}}{{\\|{e_{{i}}\\|}}^{3}}$"
      ],
      "text/plain": [
       "L\"$ \\frac{\\partial f_{i+1}^y}{\\partial y_{i+1}} =  \\frac{{e^{x}_{i}}^{2}}{{\\|{e_{{i}}\\|}}^{3}}$\""
      ]
     },
     "metadata": {},
     "output_type": "display_data"
    }
   ],
   "source": [
    "# Express the above derivatives in terms of edge vector components\n",
    "eix = symbols(\"{e^x_i}\", real=true)\n",
    "eiy = symbols(\"{e^y_i}\", real=true)\n",
    "ein = symbols(\"{\\\\|{e_{i}}\\\\|}\", positive=true)\n",
    "eim1x = symbols(\"{e^x_{i-1}}\", real=true)\n",
    "eim1y = symbols(\"{e^y_{i-1}}\", real=true)\n",
    "eim1n = symbols(\"{\\\\|{e_{i-1}}\\\\|}\", positive=true)\n",
    "function sim(f) \n",
    "    f = subs(subs(subs(f,xip1-xi,eix),yip1-yi,eiy),eix^2+eiy^2,ein^2)\n",
    "    f = subs(subs(subs(f,xi-xim1,eim1x),yi-yim1,eim1y),eim1x^2+eim1y^2,eim1n^2)\n",
    "    simplify(f)\n",
    "end\n",
    "res = [\n",
    "    \"\\$ $(D(\"i\",\"x\",\"x\")) =  $(SymPy.latex(sim(Dixx)))\\$\",\n",
    "    \"\\$ $(D(\"i\",\"x\",\"y\")) = $(D(\"i\",\"y\",\"x\")) =  $(SymPy.latex(sim(Dixy)))\\$\",\n",
    "    \"\\$ $(D(\"i\",\"y\",\"y\")) =  $(SymPy.latex(sim(Diyy)))\\$\",\n",
    "    \"\\$ $(D(\"i+1\",\"x\",\"x\")) =  $(SymPy.latex(sim(Dip1xx)))\\$\",\n",
    "    \"\\$ $(D(\"i+1\",\"x\",\"y\")) = $(D(\"i+1\",\"y\",\"x\")) =  $(SymPy.latex(sim(Dip1xy)))\\$\",\n",
    "    \"\\$ $(D(\"i+1\",\"y\",\"y\")) =  $(SymPy.latex(sim(Dip1yy)))\\$\",\n",
    "]\n",
    "for str in res\n",
    "    display(LaTeXString(str)) \n",
    "end"
   ]
  }
 ],
 "metadata": {
  "kernelspec": {
   "display_name": "Julia 0.4.3",
   "language": "julia",
   "name": "julia-0.4"
  },
  "language_info": {
   "file_extension": ".jl",
   "mimetype": "application/julia",
   "name": "julia",
   "version": "0.4.3"
  }
 },
 "nbformat": 4,
 "nbformat_minor": 0
}
