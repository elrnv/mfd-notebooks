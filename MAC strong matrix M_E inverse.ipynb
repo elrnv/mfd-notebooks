{
 "cells": [
  {
   "cell_type": "code",
   "execution_count": 1,
   "metadata": {
    "collapsed": false,
    "slideshow": {
     "slide_type": "-"
    }
   },
   "outputs": [],
   "source": [
    "using SymPy\n",
    "dx = sympy.Symbol(\"dx\", real=true);\n",
    "dt = sympy.Symbol(\"dt\", real=true);"
   ]
  },
  {
   "cell_type": "code",
   "execution_count": 2,
   "metadata": {
    "collapsed": false
   },
   "outputs": [
    {
     "data": {
      "text/latex": [
       "\\begin{bmatrix}0&1\\\\1&0\\\\0&1\\\\1&0\\end{bmatrix}"
      ],
      "text/plain": [
       "4x2 Array{Sym,2}\n",
       "[0  1]\n",
       "[    ]\n",
       "[1  0]\n",
       "[    ]\n",
       "[0  1]\n",
       "[    ]\n",
       "[1  0]"
      ]
     },
     "execution_count": 2,
     "metadata": {},
     "output_type": "execute_result"
    }
   ],
   "source": [
    "# left -> bottom -> right -> top\n",
    "N = Sym[ 0 1; 1 0; 0 1; 1 0]"
   ]
  },
  {
   "cell_type": "code",
   "execution_count": 3,
   "metadata": {
    "collapsed": false
   },
   "outputs": [
    {
     "data": {
      "text/latex": [
       "\\begin{bmatrix}0&\\frac{dt dx^{2}}{2}\\\\\\frac{dt dx^{2}}{2}&0\\\\0&\\frac{dt dx^{2}}{2}\\\\\\frac{dt dx^{2}}{2}&0\\end{bmatrix}"
      ],
      "text/plain": [
       "4x2 Array{Sym,2}\n",
       "[             2]\n",
       "[        dt*dx ]\n",
       "[  0     ------]\n",
       "[          2   ]\n",
       "[              ]\n",
       "[     2        ]\n",
       "[dt*dx         ]\n",
       "[------    0   ]\n",
       "[  2           ]\n",
       "[              ]\n",
       "[             2]\n",
       "[        dt*dx ]\n",
       "[  0     ------]\n",
       "[          2   ]\n",
       "[              ]\n",
       "[     2        ]\n",
       "[dt*dx         ]\n",
       "[------    0   ]\n",
       "[  2           ]"
      ]
     },
     "execution_count": 3,
     "metadata": {},
     "output_type": "execute_result"
    }
   ],
   "source": [
    "R = (dx*dx*dt/2)*[0 1; 1 0; 0 1; 1 0]"
   ]
  },
  {
   "cell_type": "code",
   "execution_count": 5,
   "metadata": {
    "collapsed": false
   },
   "outputs": [],
   "source": [
    "NtR = N'*R"
   ]
  },
  {
   "cell_type": "code",
   "execution_count": 6,
   "metadata": {
    "collapsed": false
   },
   "outputs": [
    {
     "data": {
      "text/latex": [
       "\\begin{bmatrix}\\frac{1}{dt dx^{2}}&0\\\\0&\\frac{1}{dt dx^{2}}\\end{bmatrix}"
      ],
      "text/plain": [
       "2x2 Array{Sym,2}\n",
       "[  1           ]\n",
       "[------    0   ]\n",
       "[     2        ]\n",
       "[dt*dx         ]\n",
       "[              ]\n",
       "[          1   ]\n",
       "[  0     ------]\n",
       "[             2]\n",
       "[        dt*dx ]"
      ]
     },
     "execution_count": 6,
     "metadata": {},
     "output_type": "execute_result"
    }
   ],
   "source": [
    "invNtR = inv(NtR)"
   ]
  },
  {
   "cell_type": "code",
   "execution_count": 7,
   "metadata": {
    "collapsed": false
   },
   "outputs": [
    {
     "data": {
      "text/latex": [
       "\\begin{bmatrix}\\frac{1}{dt dx^{2}}&0&\\frac{1}{dt dx^{2}}&0\\\\0&\\frac{1}{dt dx^{2}}&0&\\frac{1}{dt dx^{2}}\\\\\\frac{1}{dt dx^{2}}&0&\\frac{1}{dt dx^{2}}&0\\\\0&\\frac{1}{dt dx^{2}}&0&\\frac{1}{dt dx^{2}}\\end{bmatrix}"
      ],
      "text/plain": [
       "4x4 Array{Sym,2}\n",
       "[  1               1           ]\n",
       "[------    0     ------    0   ]\n",
       "[     2               2        ]\n",
       "[dt*dx           dt*dx         ]\n",
       "[                              ]\n",
       "[          1               1   ]\n",
       "[  0     ------    0     ------]\n",
       "[             2               2]\n",
       "[        dt*dx           dt*dx ]\n",
       "[                              ]\n",
       "[  1               1           ]\n",
       "[------    0     ------    0   ]\n",
       "[     2               2        ]\n",
       "[dt*dx           dt*dx         ]\n",
       "[                              ]\n",
       "[          1               1   ]\n",
       "[  0     ------    0     ------]\n",
       "[             2               2]\n",
       "[        dt*dx           dt*dx ]"
      ]
     },
     "execution_count": 7,
     "metadata": {},
     "output_type": "execute_result"
    }
   ],
   "source": [
    "M0 = N*invNtR*N'"
   ]
  },
  {
   "cell_type": "code",
   "execution_count": 8,
   "metadata": {
    "collapsed": false
   },
   "outputs": [
    {
     "data": {
      "text/latex": [
       "\\begin{bmatrix}\\frac{dt^{2} dx^{4}}{2}&0\\\\0&\\frac{dt^{2} dx^{4}}{2}\\end{bmatrix}"
      ],
      "text/plain": [
       "2x2 Array{Sym,2}\n",
       "[  2   4         ]\n",
       "[dt *dx          ]\n",
       "[-------     0   ]\n",
       "[   2            ]\n",
       "[                ]\n",
       "[           2   4]\n",
       "[         dt *dx ]\n",
       "[   0     -------]\n",
       "[            2   ]"
      ]
     },
     "execution_count": 8,
     "metadata": {},
     "output_type": "execute_result"
    }
   ],
   "source": [
    "RtR = R'*R"
   ]
  },
  {
   "cell_type": "code",
   "execution_count": 9,
   "metadata": {
    "collapsed": false
   },
   "outputs": [
    {
     "data": {
      "text/latex": [
       "\\begin{bmatrix}\\frac{2}{dt^{2} dx^{4}}&0\\\\0&\\frac{2}{dt^{2} dx^{4}}\\end{bmatrix}"
      ],
      "text/plain": [
       "2x2 Array{Sym,2}\n",
       "[   2            ]\n",
       "[-------     0   ]\n",
       "[  2   4         ]\n",
       "[dt *dx          ]\n",
       "[                ]\n",
       "[            2   ]\n",
       "[   0     -------]\n",
       "[           2   4]\n",
       "[         dt *dx ]"
      ]
     },
     "execution_count": 9,
     "metadata": {},
     "output_type": "execute_result"
    }
   ],
   "source": [
    "invRtR = inv(RtR);\n",
    "Sym[simplify(invRtR[i,j]) for i=1:2, j=1:2]"
   ]
  },
  {
   "cell_type": "code",
   "execution_count": 10,
   "metadata": {
    "collapsed": false
   },
   "outputs": [
    {
     "data": {
      "text/latex": [
       "\\begin{bmatrix}\\frac{1}{2}&0&\\frac{1}{2}&0\\\\0&\\frac{1}{2}&0&\\frac{1}{2}\\\\\\frac{1}{2}&0&\\frac{1}{2}&0\\\\0&\\frac{1}{2}&0&\\frac{1}{2}\\end{bmatrix}"
      ],
      "text/plain": [
       "4x4 Array{Sym,2}\n",
       "[1/2   0   1/2   0 ]\n",
       "[                  ]\n",
       "[ 0   1/2   0   1/2]\n",
       "[                  ]\n",
       "[1/2   0   1/2   0 ]\n",
       "[                  ]\n",
       "[ 0   1/2   0   1/2]"
      ]
     },
     "execution_count": 10,
     "metadata": {},
     "output_type": "execute_result"
    }
   ],
   "source": [
    "RinvRtRRt = R*invRtR*R'"
   ]
  },
  {
   "cell_type": "code",
   "execution_count": 11,
   "metadata": {
    "collapsed": false
   },
   "outputs": [
    {
     "data": {
      "text/plain": [
       "eigval (generic function with 1 method)"
      ]
     },
     "execution_count": 11,
     "metadata": {},
     "output_type": "execute_result"
    }
   ],
   "source": [
    "# function to compute eigenvalues of A\n",
    "function eigval(A)\n",
    "    assert(size(A)[2] == size(A)[1]);\n",
    "    x = sympy.Symbol(\"\\lambda\", real=true);\n",
    "    solve(det(A - x*eye(size(A)[1])), x)\n",
    "end"
   ]
  },
  {
   "cell_type": "code",
   "execution_count": 12,
   "metadata": {
    "collapsed": false
   },
   "outputs": [
    {
     "data": {
      "text/latex": [
       "\\begin{bmatrix}0.0\\\\\\frac{2.0}{dt dx^{2}}\\end{bmatrix}"
      ],
      "text/plain": [
       "2-element Array{Sym,1}\n",
       "[ 0.0  ]\n",
       "[      ]\n",
       "[ 2.0  ]\n",
       "[------]\n",
       "[     2]\n",
       "[dt*dx ]"
      ]
     },
     "execution_count": 12,
     "metadata": {},
     "output_type": "execute_result"
    }
   ],
   "source": [
    "eigvals = eigval(M0)"
   ]
  },
  {
   "cell_type": "code",
   "execution_count": 14,
   "metadata": {
    "collapsed": false
   },
   "outputs": [
    {
     "data": {
      "text/latex": [
       "$$\\frac{2}{dt dx^{2}}$$"
      ],
      "text/plain": [
       "  2   \n",
       "------\n",
       "     2\n",
       "dt*dx "
      ]
     },
     "execution_count": 14,
     "metadata": {},
     "output_type": "execute_result"
    }
   ],
   "source": [
    "lambda = trace(M0)/2"
   ]
  },
  {
   "cell_type": "code",
   "execution_count": 15,
   "metadata": {
    "collapsed": false
   },
   "outputs": [
    {
     "data": {
      "text/latex": [
       "\\begin{bmatrix}\\frac{1.0}{dt dx^{2}}&0&- \\frac{1.0}{dt dx^{2}}&0\\\\0&\\frac{1.0}{dt dx^{2}}&0&- \\frac{1.0}{dt dx^{2}}\\\\- \\frac{1.0}{dt dx^{2}}&0&\\frac{1.0}{dt dx^{2}}&0\\\\0&- \\frac{1.0}{dt dx^{2}}&0&\\frac{1.0}{dt dx^{2}}\\end{bmatrix}"
      ],
      "text/plain": [
       "4x4 Array{Sym,2}\n",
       "[ 1.0            -1.0          ]\n",
       "[------    0     ------    0   ]\n",
       "[     2               2        ]\n",
       "[dt*dx           dt*dx         ]\n",
       "[                              ]\n",
       "[         1.0            -1.0  ]\n",
       "[  0     ------    0     ------]\n",
       "[             2               2]\n",
       "[        dt*dx           dt*dx ]\n",
       "[                              ]\n",
       "[-1.0             1.0          ]\n",
       "[------    0     ------    0   ]\n",
       "[     2               2        ]\n",
       "[dt*dx           dt*dx         ]\n",
       "[                              ]\n",
       "[        -1.0             1.0  ]\n",
       "[  0     ------    0     ------]\n",
       "[             2               2]\n",
       "[        dt*dx           dt*dx ]"
      ]
     },
     "execution_count": 15,
     "metadata": {},
     "output_type": "execute_result"
    }
   ],
   "source": [
    "M1 = lambda*(eye(4) - RinvRtRRt)"
   ]
  },
  {
   "cell_type": "code",
   "execution_count": 16,
   "metadata": {
    "collapsed": false
   },
   "outputs": [
    {
     "data": {
      "text/latex": [
       "\\begin{bmatrix}\\frac{2.0}{dt dx^{2}}&0&0&0\\\\0&\\frac{2.0}{dt dx^{2}}&0&0\\\\0&0&\\frac{2.0}{dt dx^{2}}&0\\\\0&0&0&\\frac{2.0}{dt dx^{2}}\\end{bmatrix}"
      ],
      "text/plain": [
       "4x4 Array{Sym,2}\n",
       "[ 2.0                          ]\n",
       "[------    0       0       0   ]\n",
       "[     2                        ]\n",
       "[dt*dx                         ]\n",
       "[                              ]\n",
       "[         2.0                  ]\n",
       "[  0     ------    0       0   ]\n",
       "[             2                ]\n",
       "[        dt*dx                 ]\n",
       "[                              ]\n",
       "[                 2.0          ]\n",
       "[  0       0     ------    0   ]\n",
       "[                     2        ]\n",
       "[                dt*dx         ]\n",
       "[                              ]\n",
       "[                         2.0  ]\n",
       "[  0       0       0     ------]\n",
       "[                             2]\n",
       "[                        dt*dx ]"
      ]
     },
     "execution_count": 16,
     "metadata": {},
     "output_type": "execute_result"
    }
   ],
   "source": [
    "M = M0 + M1"
   ]
  },
  {
   "cell_type": "code",
   "execution_count": null,
   "metadata": {
    "collapsed": true
   },
   "outputs": [],
   "source": []
  }
 ],
 "metadata": {
  "celltoolbar": "Raw Cell Format",
  "kernelspec": {
   "display_name": "Julia 0.3.9",
   "language": "julia",
   "name": "julia-0.3"
  },
  "language_info": {
   "name": "julia",
   "version": "0.3.9"
  }
 },
 "nbformat": 4,
 "nbformat_minor": 0
}
