{
 "cells": [
  {
   "cell_type": "code",
   "execution_count": 1,
   "metadata": {
    "collapsed": true
   },
   "outputs": [],
   "source": [
    "using SymPy"
   ]
  },
  {
   "cell_type": "code",
   "execution_count": 2,
   "metadata": {
    "collapsed": false
   },
   "outputs": [],
   "source": [
    "t = sympy.Symbol(\"t_i\", real=true);\n",
    "tp1 = sympy.Symbol(\"t_{i+1}\", real=true);\n",
    "Px = sympy.Symbol(\"p_i^x\", real=true);\n",
    "Pxp1 = sympy.Symbol(\"p_{i+1}^x\", real=true);\n",
    "Pxp1k = sympy.Symbol(\"p_{i+1+k}^x\", real=true);\n",
    "Pxpk = sympy.Symbol(\"p_{i+k}^x\", real=true);\n",
    "Py = sympy.Symbol(\"p_i^y\", real=true);\n",
    "Pyp1 = sympy.Symbol(\"p_{i+1}^y\", real=true);\n",
    "Pyp1k = sympy.Symbol(\"p_{i+1+k}^y\", real=true);\n",
    "Pypk = sympy.Symbol(\"p_{i+k}^y\", real=true);"
   ]
  },
  {
   "cell_type": "code",
   "execution_count": 3,
   "metadata": {
    "collapsed": true
   },
   "outputs": [],
   "source": [
    "P = sympy.Symbol(\"p_i\", real=true);\n",
    "Pp1 = sympy.Symbol(\"p_{i+1}\", real=true);\n",
    "Pp1k = sympy.Symbol(\"p_{i+1+k}\", real=true);\n",
    "Ppk = sympy.Symbol(\"p_{i+k}\", real=true);"
   ]
  },
  {
   "cell_type": "code",
   "execution_count": 4,
   "metadata": {
    "collapsed": false
   },
   "outputs": [
    {
     "data": {
      "text/latex": [
       "$$\\left(p_{i} t_{i} - p_{{i+1+k}} \\left(- t_{{i+1}} + 1\\right) - p_{{i+1}} t_{{i+1}} + p_{{i+k}} \\left(- t_{i} + 1\\right)\\right)^{2}$$"
      ],
      "text/plain": [
       "                                                                           2\n",
       "(p_i*t_i - p_{i+1+k}*(-t_{i+1} + 1) - p_{i+1}*t_{i+1} + p_{i+k}*(-t_i + 1)) "
      ]
     },
     "execution_count": 4,
     "metadata": {},
     "output_type": "execute_result"
    }
   ],
   "source": [
    "expr = (t*P + (1-t)*Ppk - tp1*Pp1 - (1-tp1)*Pp1k)^2"
   ]
  },
  {
   "cell_type": "code",
   "execution_count": 16,
   "metadata": {
    "collapsed": false
   },
   "outputs": [
    {
     "data": {
      "text/latex": [
       "$$\\left(p^{x}_{i} t_{i} - p^{x}_{{i+1+k}} \\left(- t_{{i+1}} + 1\\right) - p^{x}_{{i+1}} t_{{i+1}} + p^{x}_{{i+k}} \\left(- t_{i} + 1\\right)\\right)^{2} + \\left(p^{y}_{i} t_{i} - p^{y}_{{i+1+k}} \\left(- t_{{i+1}} + 1\\right) - p^{y}_{{i+1}} t_{{i+1}} + p^{y}_{{i+k}} \\left(- t_{i} + 1\\right)\\right)^{2}$$"
      ],
      "text/plain": [
       "                                                                              \n",
       "(p_i^x*t_i - p_{i+1+k}^x*(-t_{i+1} + 1) - p_{i+1}^x*t_{i+1} + p_{i+k}^x*(-t_i \n",
       "\n",
       "     2                                                                        \n",
       "+ 1))  + (p_i^y*t_i - p_{i+1+k}^y*(-t_{i+1} + 1) - p_{i+1}^y*t_{i+1} + p_{i+k}\n",
       "\n",
       "              2\n",
       "^y*(-t_i + 1)) "
      ]
     },
     "execution_count": 16,
     "metadata": {},
     "output_type": "execute_result"
    }
   ],
   "source": [
    "expr = (t*Px + (1-t)*Pxpk - tp1*Pxp1 - (1-tp1)*Pxp1k)^2 + (t*Py + (1-t)*Pypk - tp1*Pyp1 - (1-tp1)*Pyp1k)^2"
   ]
  },
  {
   "cell_type": "code",
   "execution_count": 8,
   "metadata": {
    "collapsed": false,
    "scrolled": true
   },
   "outputs": [
    {
     "data": {
      "text/latex": [
       "$$p_{i}^{2} t_{i}^{2} + 2 p_{i} p_{{i+1+k}} t_{i} t_{{i+1}} - 2 p_{i} p_{{i+1+k}} t_{i} - 2 p_{i} p_{{i+1}} t_{i} t_{{i+1}} - 2 p_{i} p_{{i+k}} t_{i}^{2} + 2 p_{i} p_{{i+k}} t_{i} + p_{{i+1+k}}^{2} t_{{i+1}}^{2} - 2 p_{{i+1+k}}^{2} t_{{i+1}} + p_{{i+1+k}}^{2} - 2 p_{{i+1+k}} p_{{i+1}} t_{{i+1}}^{2} + 2 p_{{i+1+k}} p_{{i+1}} t_{{i+1}} - 2 p_{{i+1+k}} p_{{i+k}} t_{i} t_{{i+1}} + 2 p_{{i+1+k}} p_{{i+k}} t_{i} + 2 p_{{i+1+k}} p_{{i+k}} t_{{i+1}} - 2 p_{{i+1+k}} p_{{i+k}} + p_{{i+1}}^{2} t_{{i+1}}^{2} + 2 p_{{i+1}} p_{{i+k}} t_{i} t_{{i+1}} - 2 p_{{i+1}} p_{{i+k}} t_{{i+1}} + p_{{i+k}}^{2} t_{i}^{2} - 2 p_{{i+k}}^{2} t_{i} + p_{{i+k}}^{2}$$"
      ],
      "text/plain": [
       "   2    2                                                                     \n",
       "p_i *t_i  + 2*p_i*p_{i+1+k}*t_i*t_{i+1} - 2*p_i*p_{i+1+k}*t_i - 2*p_i*p_{i+1}*\n",
       "\n",
       "                               2                                2        2    \n",
       "t_i*t_{i+1} - 2*p_i*p_{i+k}*t_i  + 2*p_i*p_{i+k}*t_i + p_{i+1+k} *t_{i+1}  - 2\n",
       "\n",
       "          2                    2                              2               \n",
       "*p_{i+1+k} *t_{i+1} + p_{i+1+k}  - 2*p_{i+1+k}*p_{i+1}*t_{i+1}  + 2*p_{i+1+k}*\n",
       "\n",
       "                                                                              \n",
       "p_{i+1}*t_{i+1} - 2*p_{i+1+k}*p_{i+k}*t_i*t_{i+1} + 2*p_{i+1+k}*p_{i+k}*t_i + \n",
       "\n",
       "                                                           2        2         \n",
       "2*p_{i+1+k}*p_{i+k}*t_{i+1} - 2*p_{i+1+k}*p_{i+k} + p_{i+1} *t_{i+1}  + 2*p_{i\n",
       "\n",
       "                                                             2    2           \n",
       "+1}*p_{i+k}*t_i*t_{i+1} - 2*p_{i+1}*p_{i+k}*t_{i+1} + p_{i+k} *t_i  - 2*p_{i+k\n",
       "\n",
       " 2              2\n",
       "} *t_i + p_{i+k} "
      ]
     },
     "execution_count": 8,
     "metadata": {},
     "output_type": "execute_result"
    }
   ],
   "source": [
    "expr2 = expand(expr)"
   ]
  },
  {
   "cell_type": "code",
   "execution_count": 30,
   "metadata": {
    "collapsed": false
   },
   "outputs": [
    {
     "data": {
      "text/latex": [
       "$$2 \\left(p_{i} - p_{{i+k}}\\right) \\left(p_{{i+1+k}} - p_{{i+1}}\\right)$$"
      ],
      "text/plain": [
       "2*(p_i - p_{i+k})*(p_{i+1+k} - p_{i+1})"
      ]
     },
     "execution_count": 30,
     "metadata": {},
     "output_type": "execute_result"
    }
   ],
   "source": [
    "ttp1c = factor(coeff(collect(expr2, t*tp1), t*tp1))"
   ]
  },
  {
   "cell_type": "code",
   "execution_count": 31,
   "metadata": {
    "collapsed": false
   },
   "outputs": [
    {
     "data": {
      "text/latex": [
       "$$\\left(p_{i} - p_{{i+k}}\\right)^{2}$$"
      ],
      "text/plain": [
       "               2\n",
       "(p_i - p_{i+k}) "
      ]
     },
     "execution_count": 31,
     "metadata": {},
     "output_type": "execute_result"
    }
   ],
   "source": [
    "ttc = factor(coeff(collect(expr2, t*t), t*t))"
   ]
  },
  {
   "cell_type": "code",
   "execution_count": 33,
   "metadata": {
    "collapsed": false
   },
   "outputs": [
    {
     "data": {
      "text/latex": [
       "$$\\left(p_{{i+1+k}} - p_{{i+1}}\\right)^{2}$$"
      ],
      "text/plain": [
       "                     2\n",
       "(p_{i+1+k} - p_{i+1}) "
      ]
     },
     "execution_count": 33,
     "metadata": {},
     "output_type": "execute_result"
    }
   ],
   "source": [
    "tp1tp1c = factor(coeff(collect(expr2, tp1*tp1), tp1*tp1))"
   ]
  },
  {
   "cell_type": "code",
   "execution_count": 34,
   "metadata": {
    "collapsed": false
   },
   "outputs": [
    {
     "data": {
      "text/latex": [
       "$$- 2 p_{i} p_{{i+1+k}} t_{i} + 2 p_{i} p_{{i+k}} t_{i} - 2 p_{{i+1+k}}^{2} t_{{i+1}} + p_{{i+1+k}}^{2} + 2 p_{{i+1+k}} p_{{i+1}} t_{{i+1}} + 2 p_{{i+1+k}} p_{{i+k}} t_{i} + 2 p_{{i+1+k}} p_{{i+k}} t_{{i+1}} - 2 p_{{i+1+k}} p_{{i+k}} - 2 p_{{i+1}} p_{{i+k}} t_{{i+1}} - 2 p_{{i+k}}^{2} t_{i} + p_{{i+k}}^{2}$$"
      ],
      "text/plain": [
       "                                                      2                    2  \n",
       "-2*p_i*p_{i+1+k}*t_i + 2*p_i*p_{i+k}*t_i - 2*p_{i+1+k} *t_{i+1} + p_{i+1+k}  +\n",
       "\n",
       "                                                                              \n",
       " 2*p_{i+1+k}*p_{i+1}*t_{i+1} + 2*p_{i+1+k}*p_{i+k}*t_i + 2*p_{i+1+k}*p_{i+k}*t\n",
       "\n",
       "                                                                    2         \n",
       "_{i+1} - 2*p_{i+1+k}*p_{i+k} - 2*p_{i+1}*p_{i+k}*t_{i+1} - 2*p_{i+k} *t_i + p_\n",
       "\n",
       "     2\n",
       "{i+k} "
      ]
     },
     "execution_count": 34,
     "metadata": {},
     "output_type": "execute_result"
    }
   ],
   "source": [
    "r_expr = simplify(expr2 - t*tp1*ttp1c - t*t*ttc - tp1tp1c*tp1*tp1)"
   ]
  },
  {
   "cell_type": "code",
   "execution_count": 35,
   "metadata": {
    "collapsed": false
   },
   "outputs": [
    {
     "data": {
      "text/latex": [
       "$$- 2 \\left(p_{i} - p_{{i+k}}\\right) \\left(p_{{i+1+k}} - p_{{i+k}}\\right)$$"
      ],
      "text/plain": [
       "-2*(p_i - p_{i+k})*(p_{i+1+k} - p_{i+k})"
      ]
     },
     "execution_count": 35,
     "metadata": {},
     "output_type": "execute_result"
    }
   ],
   "source": [
    "tc = factor(coeff(collect(r_expr, t), t))"
   ]
  },
  {
   "cell_type": "code",
   "execution_count": 36,
   "metadata": {
    "collapsed": false
   },
   "outputs": [
    {
     "data": {
      "text/latex": [
       "$$- 2 \\left(p_{{i+1+k}} - p_{{i+1}}\\right) \\left(p_{{i+1+k}} - p_{{i+k}}\\right)$$"
      ],
      "text/plain": [
       "-2*(p_{i+1+k} - p_{i+1})*(p_{i+1+k} - p_{i+k})"
      ]
     },
     "execution_count": 36,
     "metadata": {},
     "output_type": "execute_result"
    }
   ],
   "source": [
    "tp1c = factor(coeff(collect(r_expr, tp1), tp1))"
   ]
  },
  {
   "cell_type": "code",
   "execution_count": 37,
   "metadata": {
    "collapsed": false
   },
   "outputs": [
    {
     "data": {
      "text/latex": [
       "$$\\left(p_{{i+1+k}} - p_{{i+k}}\\right)^{2}$$"
      ],
      "text/plain": [
       "                     2\n",
       "(p_{i+1+k} - p_{i+k}) "
      ]
     },
     "execution_count": 37,
     "metadata": {},
     "output_type": "execute_result"
    }
   ],
   "source": [
    "c = factor(subs(subs(r_expr, t, 0), tp1, 0))"
   ]
  },
  {
   "cell_type": "markdown",
   "metadata": {},
   "source": [
    "# interpolation"
   ]
  },
  {
   "cell_type": "code",
   "execution_count": 38,
   "metadata": {
    "collapsed": true
   },
   "outputs": [],
   "source": [
    "x = sympy.Symbol(\"x_i\", real=true);\n",
    "y = sympy.Symbol(\"x_{i+1}\", real=true);\n",
    "a = sympy.Symbol(\"a\", real=true);\n",
    "b = sympy.Symbol(\"b\", real=true);\n",
    "c = sympy.Symbol(\"c\", real=true);\n",
    "d = sympy.Symbol(\"d\", real=true);"
   ]
  },
  {
   "cell_type": "code",
   "execution_count": 51,
   "metadata": {
    "collapsed": false
   },
   "outputs": [
    {
     "data": {
      "text/latex": [
       "$$\\frac{b c x_{{i+1}} + d x_{i} \\left(a + b\\right)}{- a c + \\left(a + b\\right) \\left(c + d\\right)}$$"
      ],
      "text/plain": [
       "b*c*x_{i+1} + d*x_i*(a + b)\n",
       "---------------------------\n",
       "   -a*c + (a + b)*(c + d)  "
      ]
     },
     "execution_count": 51,
     "metadata": {},
     "output_type": "execute_result"
    }
   ],
   "source": [
    "(simplify(c*b*y/((c+d)*(a+b)) + d*x/(c+d)))/simplify(1-c*a/((c+d)*(a+b)))"
   ]
  }
 ],
 "metadata": {
  "kernelspec": {
   "display_name": "Julia 0.3.9",
   "language": "julia",
   "name": "julia-0.3"
  },
  "language_info": {
   "name": "julia",
   "version": "0.3.9"
  }
 },
 "nbformat": 4,
 "nbformat_minor": 0
}
