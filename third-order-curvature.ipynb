{
 "cells": [
  {
   "cell_type": "code",
   "execution_count": 5,
   "metadata": {
    "collapsed": true
   },
   "outputs": [],
   "source": [
    "using SymPy"
   ]
  },
  {
   "cell_type": "code",
   "execution_count": 6,
   "metadata": {
    "collapsed": true
   },
   "outputs": [],
   "source": [
    "dm2 = sympy.Symbol(\"\\Delta_{i-2}\", real=true);\n",
    "dm1 = sympy.Symbol(\"\\Delta_{i-1}\", real=true);\n",
    "d = sympy.Symbol(\"\\Delta_i\", real=true);\n",
    "dp1 = sympy.Symbol(\"\\Delta_{i+1}\", real=true);\n",
    "dp2 = sympy.Symbol(\"\\Delta_{i+2}\", real=true);"
   ]
  },
  {
   "cell_type": "code",
   "execution_count": 7,
   "metadata": {
    "collapsed": false
   },
   "outputs": [
    {
     "data": {
      "text/latex": [
       "\\begin{bmatrix}1&1&1&1&1\\\\- \\Delta_{{i-2}}&- \\Delta_{{i-1}}&0&\\Delta_{{i+1}}&\\Delta_{{i+2}}\\\\\\frac{\\Delta_{{i-2}}^{2}}{2}&\\frac{\\Delta_{{i-1}}^{2}}{2}&0&\\frac{\\Delta_{{i+1}}^{2}}{2}&\\frac{\\Delta_{{i+2}}^{2}}{2}\\\\- \\frac{\\Delta_{{i-2}}^{3}}{3}&- \\frac{\\Delta_{{i-1}}^{3}}{3}&0&\\frac{\\Delta_{{i+1}}^{3}}{3}&\\frac{\\Delta_{{i+2}}^{3}}{3}\\\\\\frac{\\Delta_{{i-2}}^{4}}{4}&\\frac{\\Delta_{{i-1}}^{4}}{4}&0&\\frac{\\Delta_{{i+1}}^{4}}{4}&\\frac{\\Delta_{{i+2}}^{4}}{4}\\end{bmatrix}"
      ],
      "text/plain": [
       "5x5 Array{Sym,2}\n",
       "[      1               1         1       1             1      ]\n",
       "[                                                             ]\n",
       "[ -Delta_{i-2}    -Delta_{i-1}   0  Delta_{i+1}   Delta_{i+2} ]\n",
       "[                                                             ]\n",
       "[            2               2                 2             2]\n",
       "[ Delta_{i-2}     Delta_{i-1}       Delta_{i+1}   Delta_{i+2} ]\n",
       "[ ------------    ------------   0  ------------  ------------]\n",
       "[      2               2                 2             2      ]\n",
       "[                                                             ]\n",
       "[            3               3                 3             3]\n",
       "[-Delta_{i-2}    -Delta_{i-1}       Delta_{i+1}   Delta_{i+2} ]\n",
       "[--------------  --------------  0  ------------  ------------]\n",
       "[      3               3                 3             3      ]\n",
       "[                                                             ]\n",
       "[            4               4                 4             4]\n",
       "[ Delta_{i-2}     Delta_{i-1}       Delta_{i+1}   Delta_{i+2} ]\n",
       "[ ------------    ------------   0  ------------  ------------]\n",
       "[      4               4                 4             4      ]"
      ]
     },
     "execution_count": 7,
     "metadata": {},
     "output_type": "execute_result"
    }
   ],
   "source": [
    "A = [1 1 1 1 1; -dm2 -dm1 0 dp1 dp2; dm2^2/2 dm1^2/2 0 dp1^2/2 dp2^2/2; -dm2^3/3 -dm1^3/3 0 dp1^3/3 dp2^3/3; dm2^4/4 dm1^4/4 0 dp1^4/4 dp2^4/4]"
   ]
  },
  {
   "cell_type": "code",
   "execution_count": 8,
   "metadata": {
    "collapsed": false,
    "scrolled": true
   },
   "outputs": [
    {
     "data": {
      "text/plain": [
       "5-element Array{Int64,1}:\n",
       " 0\n",
       " 0\n",
       " 1\n",
       " 0\n",
       " 0"
      ]
     },
     "execution_count": 8,
     "metadata": {},
     "output_type": "execute_result"
    }
   ],
   "source": [
    "b = [0, 0, 1, 0, 0]"
   ]
  },
  {
   "cell_type": "code",
   "execution_count": 9,
   "metadata": {
    "collapsed": false
   },
   "outputs": [],
   "source": [
    "temp = A\\b;"
   ]
  },
  {
   "cell_type": "code",
   "execution_count": 10,
   "metadata": {
    "collapsed": false
   },
   "outputs": [
    {
     "data": {
      "text/latex": [
       "\\begin{bmatrix}\\frac{- 2 \\Delta_{{i+1}} \\Delta_{{i+2}} + 2 \\Delta_{{i+1}} \\Delta_{{i-1}} + 2 \\Delta_{{i+2}} \\Delta_{{i-1}}}{\\Delta_{{i-2}} \\left(\\Delta_{{i+1}} \\Delta_{{i+2}} \\Delta_{{i-1}} - \\Delta_{{i+1}} \\Delta_{{i+2}} \\Delta_{{i-2}} + \\Delta_{{i+1}} \\Delta_{{i-1}} \\Delta_{{i-2}} - \\Delta_{{i+1}} \\Delta_{{i-2}}^{2} + \\Delta_{{i+2}} \\Delta_{{i-1}} \\Delta_{{i-2}} - \\Delta_{{i+2}} \\Delta_{{i-2}}^{2} + \\Delta_{{i-1}} \\Delta_{{i-2}}^{2} - \\Delta_{{i-2}}^{3}\\right)}\\\\\\frac{2 \\Delta_{{i+1}} \\Delta_{{i+2}} - 2 \\Delta_{{i+1}} \\Delta_{{i-2}} - 2 \\Delta_{{i+2}} \\Delta_{{i-2}}}{\\Delta_{{i-1}} \\left(\\Delta_{{i+1}} \\Delta_{{i+2}} \\Delta_{{i-1}} - \\Delta_{{i+1}} \\Delta_{{i+2}} \\Delta_{{i-2}} + \\Delta_{{i+1}} \\Delta_{{i-1}}^{2} - \\Delta_{{i+1}} \\Delta_{{i-1}} \\Delta_{{i-2}} + \\Delta_{{i+2}} \\Delta_{{i-1}}^{2} - \\Delta_{{i+2}} \\Delta_{{i-1}} \\Delta_{{i-2}} + \\Delta_{{i-1}}^{3} - \\Delta_{{i-1}}^{2} \\Delta_{{i-2}}\\right)}\\\\\\frac{2}{\\Delta_{{i-1}} \\Delta_{{i-2}}} - \\frac{2}{\\Delta_{{i+2}} \\Delta_{{i-2}}} - \\frac{2}{\\Delta_{{i+2}} \\Delta_{{i-1}}} - \\frac{2}{\\Delta_{{i+1}} \\Delta_{{i-2}}} - \\frac{2}{\\Delta_{{i+1}} \\Delta_{{i-1}}} + \\frac{2}{\\Delta_{{i+1}} \\Delta_{{i+2}}}\\\\\\frac{- 2 \\Delta_{{i+2}} \\Delta_{{i-1}} - 2 \\Delta_{{i+2}} \\Delta_{{i-2}} + 2 \\Delta_{{i-1}} \\Delta_{{i-2}}}{\\Delta_{{i+1}} \\left(\\Delta_{{i+1}}^{3} - \\Delta_{{i+1}}^{2} \\Delta_{{i+2}} + \\Delta_{{i+1}}^{2} \\Delta_{{i-1}} + \\Delta_{{i+1}}^{2} \\Delta_{{i-2}} - \\Delta_{{i+1}} \\Delta_{{i+2}} \\Delta_{{i-1}} - \\Delta_{{i+1}} \\Delta_{{i+2}} \\Delta_{{i-2}} + \\Delta_{{i+1}} \\Delta_{{i-1}} \\Delta_{{i-2}} - \\Delta_{{i+2}} \\Delta_{{i-1}} \\Delta_{{i-2}}\\right)}\\\\\\frac{2 \\Delta_{{i+1}} \\Delta_{{i-1}} + 2 \\Delta_{{i+1}} \\Delta_{{i-2}} - 2 \\Delta_{{i-1}} \\Delta_{{i-2}}}{\\Delta_{{i+2}} \\left(\\Delta_{{i+1}} \\Delta_{{i+2}}^{2} + \\Delta_{{i+1}} \\Delta_{{i+2}} \\Delta_{{i-1}} + \\Delta_{{i+1}} \\Delta_{{i+2}} \\Delta_{{i-2}} + \\Delta_{{i+1}} \\Delta_{{i-1}} \\Delta_{{i-2}} - \\Delta_{{i+2}}^{3} - \\Delta_{{i+2}}^{2} \\Delta_{{i-1}} - \\Delta_{{i+2}}^{2} \\Delta_{{i-2}} - \\Delta_{{i+2}} \\Delta_{{i-1}} \\Delta_{{i-2}}\\right)}\\end{bmatrix}"
      ],
      "text/plain": [
       "5-element Array{Sym,1}\n",
       "[                                                                             \n",
       "[-----------------------------------------------------------------------------\n",
       "[            /                                                                \n",
       "[Delta_{i-2}*\\Delta_{i+1}*Delta_{i+2}*Delta_{i-1} - Delta_{i+1}*Delta_{i+2}*De\n",
       "[                                                                             \n",
       "[                                                                             \n",
       "[-----------------------------------------------------------------------------\n",
       "[            /                                                                \n",
       "[Delta_{i-1}*\\Delta_{i+1}*Delta_{i+2}*Delta_{i-1} - Delta_{i+1}*Delta_{i+2}*De\n",
       "[                                                                             \n",
       "[                                                                2            \n",
       "[                                                     ----------------------- \n",
       "[                                                     Delta_{i-1}*Delta_{i-2} \n",
       "[                                                                             \n",
       "[                                                                             \n",
       "[-----------------------------------------------------------------------------\n",
       "[            /           3              2                          2          \n",
       "[Delta_{i+1}*\\Delta_{i+1}  - Delta_{i+1} *Delta_{i+2} + Delta_{i+1} *Delta_{i-\n",
       "[                                                                             \n",
       "[                                                                             \n",
       "[-----------------------------------------------------------------------------\n",
       "[            /                       2                                        \n",
       "[Delta_{i+2}*\\Delta_{i+1}*Delta_{i+2}  + Delta_{i+1}*Delta_{i+2}*Delta_{i-1} +\n",
       "\n",
       "            -2*Delta_{i+1}*Delta_{i+2} + 2*Delta_{i+1}*Delta_{i-1} + 2*Delta_{\n",
       "------------------------------------------------------------------------------\n",
       "                                                                         2    \n",
       "lta_{i-2} + Delta_{i+1}*Delta_{i-1}*Delta_{i-2} - Delta_{i+1}*Delta_{i-2}  + D\n",
       "                                                                              \n",
       "             2*(Delta_{i+1}*Delta_{i+2} - Delta_{i+1}*Delta_{i-2} - Delta_{i+2\n",
       "------------------------------------------------------------------------------\n",
       "                                   2                                          \n",
       "lta_{i-2} + Delta_{i+1}*Delta_{i-1}  - Delta_{i+1}*Delta_{i-1}*Delta_{i-2} + D\n",
       "                                                                              \n",
       "             2                         2                         2            \n",
       "- ----------------------- - ----------------------- - ----------------------- \n",
       "  Delta_{i+2}*Delta_{i-2}   Delta_{i+2}*Delta_{i-1}   Delta_{i+1}*Delta_{i-2} \n",
       "                                                                              \n",
       "            -2*Delta_{i+2}*Delta_{i-1} - 2*Delta_{i+2}*Delta_{i-2} + 2*Delta_{\n",
       "------------------------------------------------------------------------------\n",
       "                2                                                             \n",
       "1} + Delta_{i+1} *Delta_{i-2} - Delta_{i+1}*Delta_{i+2}*Delta_{i-1} - Delta_{i\n",
       "                                                                              \n",
       "             2*(Delta_{i+1}*Delta_{i-1} + Delta_{i+1}*Delta_{i-2} - Delta_{i-1\n",
       "------------------------------------------------------------------------------\n",
       "                                                                              \n",
       " Delta_{i+1}*Delta_{i+2}*Delta_{i-2} + Delta_{i+1}*Delta_{i-1}*Delta_{i-2} - D\n",
       "\n",
       "i+2}*Delta_{i-1}                                                              \n",
       "------------------------------------------------------------------------------\n",
       "                                                            2                 \n",
       "elta_{i+2}*Delta_{i-1}*Delta_{i-2} - Delta_{i+2}*Delta_{i-2}  + Delta_{i-1}*De\n",
       "                                                                              \n",
       "}*Delta_{i-2})                                                                \n",
       "------------------------------------------------------------------------------\n",
       "                      2                                                    3  \n",
       "elta_{i+2}*Delta_{i-1}  - Delta_{i+2}*Delta_{i-1}*Delta_{i-2} + Delta_{i-1}  -\n",
       "                                                                              \n",
       "             2                         2                                      \n",
       "- ----------------------- + -----------------------                           \n",
       "  Delta_{i+1}*Delta_{i-1}   Delta_{i+1}*Delta_{i+2}                           \n",
       "                                                                              \n",
       "i-1}*Delta_{i-2}                                                              \n",
       "------------------------------------------------------------------------------\n",
       "                                                                              \n",
       "+1}*Delta_{i+2}*Delta_{i-2} + Delta_{i+1}*Delta_{i-1}*Delta_{i-2} - Delta_{i+2\n",
       "                                                                              \n",
       "}*Delta_{i-2})                                                                \n",
       "------------------------------------------------------------------------------\n",
       "          3              2                          2                         \n",
       "elta_{i+2}  - Delta_{i+2} *Delta_{i-1} - Delta_{i+2} *Delta_{i-2} - Delta_{i+2\n",
       "\n",
       "                          ]\n",
       "--------------------------]\n",
       "         2              3\\]\n",
       "lta_{i-2}  - Delta_{i-2} /]\n",
       "                          ]\n",
       "                          ]\n",
       "--------------------------]\n",
       "            2            \\]\n",
       " Delta_{i-1} *Delta_{i-2}/]\n",
       "                          ]\n",
       "                          ]\n",
       "                          ]\n",
       "                          ]\n",
       "                          ]\n",
       "                          ]\n",
       "--------------------------]\n",
       "                         \\]\n",
       "}*Delta_{i-1}*Delta_{i-2}/]\n",
       "                          ]\n",
       "                          ]\n",
       "--------------------------]\n",
       "                         \\]\n",
       "}*Delta_{i-1}*Delta_{i-2}/]"
      ]
     },
     "execution_count": 10,
     "metadata": {},
     "output_type": "execute_result"
    }
   ],
   "source": [
    "alpha = map(a->simplify(a), temp)"
   ]
  },
  {
   "cell_type": "code",
   "execution_count": 11,
   "metadata": {
    "collapsed": true
   },
   "outputs": [],
   "source": [
    "xm2 = sympy.Symbol(\"x_{i-2}\", real=true);\n",
    "xm1 = sympy.Symbol(\"x_{i-1}\", real=true);\n",
    "x = sympy.Symbol(\"x_i\", real=true);\n",
    "xp1 = sympy.Symbol(\"x_{i+1}\", real=true);\n",
    "xp2 = sympy.Symbol(\"x_{i+2}\", real=true);"
   ]
  },
  {
   "cell_type": "code",
   "execution_count": 12,
   "metadata": {
    "collapsed": false
   },
   "outputs": [
    {
     "data": {
      "text/latex": [
       "$$- x_{i} \\left(- \\frac{2}{\\Delta_{{i-1}} \\Delta_{{i-2}}} + \\frac{2}{\\Delta_{{i+2}} \\Delta_{{i-2}}} + \\frac{2}{\\Delta_{{i+2}} \\Delta_{{i-1}}} + \\frac{2}{\\Delta_{{i+1}} \\Delta_{{i-2}}} + \\frac{2}{\\Delta_{{i+1}} \\Delta_{{i-1}}} - \\frac{2}{\\Delta_{{i+1}} \\Delta_{{i+2}}}\\right) + \\frac{x_{{i-2}} \\left(- 2 \\Delta_{{i+1}} \\Delta_{{i+2}} + 2 \\Delta_{{i+1}} \\Delta_{{i-1}} + 2 \\Delta_{{i+2}} \\Delta_{{i-1}}\\right)}{\\Delta_{{i-2}} \\left(\\Delta_{{i+1}} \\Delta_{{i+2}} \\Delta_{{i-1}} - \\Delta_{{i+1}} \\Delta_{{i+2}} \\Delta_{{i-2}} + \\Delta_{{i+1}} \\Delta_{{i-1}} \\Delta_{{i-2}} - \\Delta_{{i+1}} \\Delta_{{i-2}}^{2} + \\Delta_{{i+2}} \\Delta_{{i-1}} \\Delta_{{i-2}} - \\Delta_{{i+2}} \\Delta_{{i-2}}^{2} + \\Delta_{{i-1}} \\Delta_{{i-2}}^{2} - \\Delta_{{i-2}}^{3}\\right)} - \\frac{2 x_{{i-1}} \\left(- \\Delta_{{i+1}} \\Delta_{{i+2}} + \\Delta_{{i+1}} \\Delta_{{i-2}} + \\Delta_{{i+2}} \\Delta_{{i-2}}\\right)}{\\Delta_{{i-1}} \\left(\\Delta_{{i+1}} \\Delta_{{i+2}} \\Delta_{{i-1}} - \\Delta_{{i+1}} \\Delta_{{i+2}} \\Delta_{{i-2}} + \\Delta_{{i+1}} \\Delta_{{i-1}}^{2} - \\Delta_{{i+1}} \\Delta_{{i-1}} \\Delta_{{i-2}} + \\Delta_{{i+2}} \\Delta_{{i-1}}^{2} - \\Delta_{{i+2}} \\Delta_{{i-1}} \\Delta_{{i-2}} + \\Delta_{{i-1}}^{3} - \\Delta_{{i-1}}^{2} \\Delta_{{i-2}}\\right)} + \\frac{2 x_{{i+2}} \\left(\\Delta_{{i+1}} \\Delta_{{i-1}} + \\Delta_{{i+1}} \\Delta_{{i-2}} - \\Delta_{{i-1}} \\Delta_{{i-2}}\\right)}{\\Delta_{{i+2}} \\left(\\Delta_{{i+1}} \\Delta_{{i+2}}^{2} + \\Delta_{{i+1}} \\Delta_{{i+2}} \\Delta_{{i-1}} + \\Delta_{{i+1}} \\Delta_{{i+2}} \\Delta_{{i-2}} + \\Delta_{{i+1}} \\Delta_{{i-1}} \\Delta_{{i-2}} - \\Delta_{{i+2}}^{3} - \\Delta_{{i+2}}^{2} \\Delta_{{i-1}} - \\Delta_{{i+2}}^{2} \\Delta_{{i-2}} - \\Delta_{{i+2}} \\Delta_{{i-1}} \\Delta_{{i-2}}\\right)} - \\frac{x_{{i+1}} \\left(2 \\Delta_{{i+2}} \\Delta_{{i-1}} + 2 \\Delta_{{i+2}} \\Delta_{{i-2}} - 2 \\Delta_{{i-1}} \\Delta_{{i-2}}\\right)}{\\Delta_{{i+1}} \\left(\\Delta_{{i+1}}^{3} - \\Delta_{{i+1}}^{2} \\Delta_{{i+2}} + \\Delta_{{i+1}}^{2} \\Delta_{{i-1}} + \\Delta_{{i+1}}^{2} \\Delta_{{i-2}} - \\Delta_{{i+1}} \\Delta_{{i+2}} \\Delta_{{i-1}} - \\Delta_{{i+1}} \\Delta_{{i+2}} \\Delta_{{i-2}} + \\Delta_{{i+1}} \\Delta_{{i-1}} \\Delta_{{i-2}} - \\Delta_{{i+2}} \\Delta_{{i-1}} \\Delta_{{i-2}}\\right)}$$"
      ],
      "text/plain": [
       "      /             2                         2                         2     \n",
       "- x_i*|- ----------------------- + ----------------------- + -----------------\n",
       "      \\  Delta_{i-1}*Delta_{i-2}   Delta_{i+2}*Delta_{i-2}   Delta_{i+2}*Delta\n",
       "                                                                              \n",
       "\n",
       "                    2                         2                         2     \n",
       "------ + ----------------------- + ----------------------- - -----------------\n",
       "_{i-1}   Delta_{i+1}*Delta_{i-2}   Delta_{i+1}*Delta_{i-1}   Delta_{i+1}*Delta\n",
       "                                                                              \n",
       "\n",
       "      \\                                                                       \n",
       "------| + --------------------------------------------------------------------\n",
       "_{i+2}/               /                                                       \n",
       "          Delta_{i-2}*\\Delta_{i+1}*Delta_{i+2}*Delta_{i-1} - Delta_{i+1}*Delta\n",
       "\n",
       "                x_{i-2}*(-2*Delta_{i+1}*Delta_{i+2} + 2*Delta_{i+1}*Delta_{i-1\n",
       "------------------------------------------------------------------------------\n",
       "                                                                              \n",
       "_{i+2}*Delta_{i-2} + Delta_{i+1}*Delta_{i-1}*Delta_{i-2} - Delta_{i+1}*Delta_{\n",
       "\n",
       "} + 2*Delta_{i+2}*Delta_{i-1})                                                \n",
       "------------------------------------------------------------------------------\n",
       "    2                                                                2        \n",
       "i-2}  + Delta_{i+2}*Delta_{i-1}*Delta_{i-2} - Delta_{i+2}*Delta_{i-2}  + Delta\n",
       "\n",
       "                                                                              \n",
       "----------------------------------- - ----------------------------------------\n",
       "                  2              3\\               /                           \n",
       "_{i-1}*Delta_{i-2}  - Delta_{i-2} /   Delta_{i-1}*\\Delta_{i+1}*Delta_{i+2}*Del\n",
       "\n",
       "                                              2*x_{i-1}*(-Delta_{i+1}*Delta_{i\n",
       "------------------------------------------------------------------------------\n",
       "                                                                        2     \n",
       "ta_{i-1} - Delta_{i+1}*Delta_{i+2}*Delta_{i-2} + Delta_{i+1}*Delta_{i-1}  - De\n",
       "\n",
       "+2} + Delta_{i+1}*Delta_{i-2} + Delta_{i+2}*Delta_{i-2})                      \n",
       "------------------------------------------------------------------------------\n",
       "                                                           2                  \n",
       "lta_{i+1}*Delta_{i-1}*Delta_{i-2} + Delta_{i+2}*Delta_{i-1}  - Delta_{i+2}*Del\n",
       "\n",
       "                                                                              \n",
       "--------------------------------------------------------------- + ------------\n",
       "                                  3              2            \\               \n",
       "ta_{i-1}*Delta_{i-2} + Delta_{i-1}  - Delta_{i-1} *Delta_{i-2}/   Delta_{i+2}*\n",
       "\n",
       "                                                                          2*x_\n",
       "------------------------------------------------------------------------------\n",
       "/                       2                                                     \n",
       "\\Delta_{i+1}*Delta_{i+2}  + Delta_{i+1}*Delta_{i+2}*Delta_{i-1} + Delta_{i+1}*\n",
       "\n",
       "{i+2}*(Delta_{i+1}*Delta_{i-1} + Delta_{i+1}*Delta_{i-2} - Delta_{i-1}*Delta_{\n",
       "------------------------------------------------------------------------------\n",
       "                                                                           3  \n",
       "Delta_{i+2}*Delta_{i-2} + Delta_{i+1}*Delta_{i-1}*Delta_{i-2} - Delta_{i+2}  -\n",
       "\n",
       "i-2})                                                                         \n",
       "------------------------------------------------------------------------------\n",
       "            2                          2                                      \n",
       " Delta_{i+2} *Delta_{i-1} - Delta_{i+2} *Delta_{i-2} - Delta_{i+2}*Delta_{i-1}\n",
       "\n",
       "                                                                              \n",
       "------------- - --------------------------------------------------------------\n",
       "            \\               /           3              2                      \n",
       "*Delta_{i-2}/   Delta_{i+1}*\\Delta_{i+1}  - Delta_{i+1} *Delta_{i+2} + Delta_{\n",
       "\n",
       "                      x_{i+1}*(2*Delta_{i+2}*Delta_{i-1} + 2*Delta_{i+2}*Delta\n",
       "------------------------------------------------------------------------------\n",
       "    2                          2                                              \n",
       "i+1} *Delta_{i-1} + Delta_{i+1} *Delta_{i-2} - Delta_{i+1}*Delta_{i+2}*Delta_{\n",
       "\n",
       "_{i-2} - 2*Delta_{i-1}*Delta_{i-2})                                           \n",
       "------------------------------------------------------------------------------\n",
       "                                                                              \n",
       "i-1} - Delta_{i+1}*Delta_{i+2}*Delta_{i-2} + Delta_{i+1}*Delta_{i-1}*Delta_{i-\n",
       "\n",
       "                                         \n",
       "-----------------------------------------\n",
       "                                        \\\n",
       "2} - Delta_{i+2}*Delta_{i-1}*Delta_{i-2}/"
      ]
     },
     "execution_count": 12,
     "metadata": {},
     "output_type": "execute_result"
    }
   ],
   "source": [
    "x_diff2 = simplify(dot([xm2, xm1, x, xp1, xp2], alpha))"
   ]
  },
  {
   "cell_type": "markdown",
   "metadata": {},
   "source": [
    "$$ x\"(t_i) = a x(t_{i-1}) + b x(t_i) + c x(t_{i+1}) $$"
   ]
  },
  {
   "cell_type": "markdown",
   "metadata": {},
   "source": [
    "$$ x(t_{i-1}) = x(t_i) - \\Delta_{i-1} x'(t_i) + \\Delta^2_{i-1}/2 x''(t_i) + ... $$"
   ]
  },
  {
   "cell_type": "code",
   "execution_count": null,
   "metadata": {
    "collapsed": true
   },
   "outputs": [],
   "source": [
    "x''(t_i) = 2x_{i-1} / ( ... ) - 2x_i/ ( ... ) + 2x_{i+1} / ( ... )"
   ]
  }
 ],
 "metadata": {
  "kernelspec": {
   "display_name": "Julia 0.3.9",
   "language": "julia",
   "name": "julia-0.3"
  },
  "language_info": {
   "name": "julia",
   "version": "0.3.9"
  }
 },
 "nbformat": 4,
 "nbformat_minor": 0
}
