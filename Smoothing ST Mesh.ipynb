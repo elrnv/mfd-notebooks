{
 "cells": [
  {
   "cell_type": "code",
   "execution_count": 1,
   "metadata": {
    "collapsed": false,
    "scrolled": true
   },
   "outputs": [
    {
     "name": "stderr",
     "output_type": "stream",
     "text": [
      "INFO: Recompiling stale cache file /Users/egor/.julia/lib/v0.4/SymPy.ji for module SymPy.\n"
     ]
    }
   ],
   "source": [
    "using SymPy\n",
    "using LaTeXStrings"
   ]
  },
  {
   "cell_type": "code",
   "execution_count": 2,
   "metadata": {
    "collapsed": false
   },
   "outputs": [],
   "source": [
    "t = symbols(\"t_i\", real=true);\n",
    "tp1 = symbols(\"t_{i+1}\", real=true);\n",
    "tm1 = symbols(\"t_{i-1}\", real=true);\n",
    "P = symbols(\"p_i\", real=true);\n",
    "Pp1 = symbols(\"p_{i+1}\", real=true);\n",
    "Pm1 = symbols(\"p_{i-1}\", real=true);\n",
    "Pkp1 = symbols(\"p_{k_{i+1}}\", real=true);\n",
    "Pkm1 = symbols(\"p_{k_{i-1}}\", real=true);\n",
    "Pp2 = symbols(\"p_{i+2}\", real=true);\n",
    "Pm2 = symbols(\"p_{i-2}\", real=true);\n",
    "Pp3 = symbols(\"p_{i+3}\", real=true);\n",
    "Pm3 = symbols(\"p_{i-3}\", real=true);\n",
    "Pk = symbols(\"p_{k_i}\", real=true);\n",
    "a1,a2,a3,a4,a5,a6 = symbols(\"a_1,a_2,a_3,a_4,a_5,a_6\", real=true); # temporaries\n",
    "as=[a1,a2,a3,a4,a5,a6];"
   ]
  },
  {
   "cell_type": "markdown",
   "metadata": {},
   "source": [
    "Solution for when $k_i = i + 1$:"
   ]
  },
  {
   "cell_type": "code",
   "execution_count": 3,
   "metadata": {
    "collapsed": false
   },
   "outputs": [],
   "source": [
    "lhs = (t*P + (1-t)*Pp1 - Pm1)^2;\n",
    "rhs = (t*P - t*Pp1)^2;"
   ]
  },
  {
   "cell_type": "code",
   "execution_count": 4,
   "metadata": {
    "collapsed": false,
    "scrolled": true
   },
   "outputs": [
    {
     "data": {
      "text/latex": [
       "$$p_{{i+1}}^{2} - 2 p_{{i+1}} p_{{i-1}} + p_{{i-1}}^{2} + t_{i} \\left(2 p_{i} p_{{i+1}} - 2 p_{i} p_{{i-1}} - 2 p_{{i+1}}^{2} + 2 p_{{i+1}} p_{{i-1}}\\right)$$"
      ],
      "text/plain": [
       "       2                              2       /                               \n",
       "p_{i+1}  - 2*p_{i+1}*p_{i-1} + p_{i-1}  + t_i*\\2*p_i*p_{i+1} - 2*p_i*p_{i-1} -\n",
       "\n",
       "          2                    \\\n",
       " 2*p_{i+1}  + 2*p_{i+1}*p_{i-1}/"
      ]
     },
     "execution_count": 4,
     "metadata": {},
     "output_type": "execute_result"
    }
   ],
   "source": [
    "expr = collect(simplify(expand(lhs-rhs)),t)"
   ]
  },
  {
   "cell_type": "code",
   "execution_count": 5,
   "metadata": {
    "collapsed": false,
    "scrolled": true
   },
   "outputs": [
    {
     "data": {
      "text/latex": [
       "$$2 \\left(p_{i} - p_{{i+1}}\\right) \\left(p_{{i+1}} - p_{{i-1}}\\right)$$"
      ],
      "text/plain": [
       "2*(p_i - p_{i+1})*(p_{i+1} - p_{i-1})"
      ]
     },
     "execution_count": 5,
     "metadata": {},
     "output_type": "execute_result"
    }
   ],
   "source": [
    "den = factor(coeff(expr,t))"
   ]
  },
  {
   "cell_type": "code",
   "execution_count": 6,
   "metadata": {
    "collapsed": false,
    "scrolled": true
   },
   "outputs": [
    {
     "data": {
      "text/latex": [
       "$$p_{{i+1}}^{2} - 2 p_{{i+1}} p_{{i-1}} + p_{{i-1}}^{2}$$"
      ],
      "text/plain": [
       "       2                              2\n",
       "p_{i+1}  - 2*p_{i+1}*p_{i-1} + p_{i-1} "
      ]
     },
     "execution_count": 6,
     "metadata": {},
     "output_type": "execute_result"
    }
   ],
   "source": [
    "num = simplify(expand(lhs-rhs-t*(den)))"
   ]
  },
  {
   "cell_type": "code",
   "execution_count": 7,
   "metadata": {
    "collapsed": false,
    "scrolled": true
   },
   "outputs": [
    {
     "data": {
      "text/latex": [
       "$$0$$"
      ],
      "text/plain": [
       "0"
      ]
     },
     "execution_count": 7,
     "metadata": {},
     "output_type": "execute_result"
    }
   ],
   "source": [
    "simplify(subs(expr,t,-num/den)) #check solution: -num/den"
   ]
  },
  {
   "cell_type": "code",
   "execution_count": 29,
   "metadata": {
    "collapsed": false
   },
   "outputs": [
    {
     "data": {
      "text/latex": [
       "$$0.500186777450606$$"
      ],
      "text/plain": [
       "0.500186777450606"
      ]
     },
     "metadata": {},
     "output_type": "display_data"
    },
    {
     "data": {
      "text/latex": [
       "\\begin{bmatrix}-0.58812429958456\\\\-0.0020946969762754\\end{bmatrix}"
      ],
      "text/plain": [
       "2-element Array{SymPy.Sym,1}\n",
       "[ -0.58812429958456 ]\n",
       "[                   ]\n",
       "[-0.0020946969762754]"
      ]
     },
     "metadata": {},
     "output_type": "display_data"
    },
    {
     "data": {
      "image/png": "[encoded data removed]",
      "text/plain": [
       "PyPlot.Figure(PyObject <matplotlib.figure.Figure object at 0x31eb10490>)"
      ]
     },
     "metadata": {},
     "output_type": "display_data"
    }
   ],
   "source": [
    "using PyPlot\n",
    "plt = PyPlot;\n",
    "\n",
    "#check with an example\n",
    "x1 = -0.565313;\n",
    "y1 = -0.59;\n",
    "x2 = -0.58625;\n",
    "y2 = -0.59;\n",
    "x3 = -0.59;\n",
    "y3 = 0.58625;\n",
    "\n",
    "# solve for p2, expected sol'n: t = 1/(1+sqrt(2)) = 0.41, p2 = [1/sqrt(2), 1/sqrt(2)]\n",
    "res = solve(subs(subs(subs(expr,Pm1,x1),P,x2),Pp1,x3)\n",
    "+ subs(subs(subs(expr,Pm1,y1),P,y2),Pp1,y3),t)[1];\n",
    "display(res)\n",
    "newx = [res*x2+(1-res)*x3,res*y2 + (1-res)*y3];\n",
    "display(newx);\n",
    "\n",
    "plt.subplot(1, 2, 1)\n",
    "plt.plot([x1,x2,x3], [y1,y2,y3], \"or\")\n",
    "plt.subplot(1, 2, 2)\n",
    "plt.plot([x1,Float64(newx[1]),x3], [y1,Float64(newx[2]),y3], \"x\")\n",
    "plt.show()\n"
   ]
  },
  {
   "cell_type": "markdown",
   "metadata": {},
   "source": [
    "Solution for when $k_i = i - 1$:"
   ]
  },
  {
   "cell_type": "code",
   "execution_count": 324,
   "metadata": {
    "collapsed": true
   },
   "outputs": [],
   "source": [
    "lhs = (t*P + (1-t)*Pm1 - Pp1)^2;\n",
    "rhs = (t*P - t*Pm1)^2;"
   ]
  },
  {
   "cell_type": "code",
   "execution_count": 325,
   "metadata": {
    "collapsed": false
   },
   "outputs": [
    {
     "data": {
      "text/latex": [
       "$$p_{{i+1}}^{2} - 2 p_{{i+1}} p_{{i-1}} + p_{{i-1}}^{2} + t_{i} \\left(- 2 p_{i} p_{{i+1}} + 2 p_{i} p_{{i-1}} + 2 p_{{i+1}} p_{{i-1}} - 2 p_{{i-1}}^{2}\\right)$$"
      ],
      "text/plain": [
       "       2                              2       /                               \n",
       "p_{i+1}  - 2*p_{i+1}*p_{i-1} + p_{i-1}  + t_i*\\-2*p_i*p_{i+1} + 2*p_i*p_{i-1} \n",
       "\n",
       "                               2\\\n",
       "+ 2*p_{i+1}*p_{i-1} - 2*p_{i-1} /"
      ]
     },
     "execution_count": 325,
     "metadata": {},
     "output_type": "execute_result"
    }
   ],
   "source": [
    "expr = collect(simplify(expand(lhs-rhs)),t)"
   ]
  },
  {
   "cell_type": "code",
   "execution_count": 326,
   "metadata": {
    "collapsed": false
   },
   "outputs": [
    {
     "data": {
      "text/latex": [
       "$$- 2 \\left(p_{i} - p_{{i-1}}\\right) \\left(p_{{i+1}} - p_{{i-1}}\\right)$$"
      ],
      "text/plain": [
       "-2*(p_i - p_{i-1})*(p_{i+1} - p_{i-1})"
      ]
     },
     "execution_count": 326,
     "metadata": {},
     "output_type": "execute_result"
    }
   ],
   "source": [
    "den = factor(coeff(expr,t))"
   ]
  },
  {
   "cell_type": "code",
   "execution_count": 327,
   "metadata": {
    "collapsed": false,
    "scrolled": true
   },
   "outputs": [
    {
     "data": {
      "text/latex": [
       "$$p_{{i+1}}^{2} - 2 p_{{i+1}} p_{{i-1}} + p_{{i-1}}^{2}$$"
      ],
      "text/plain": [
       "       2                              2\n",
       "p_{i+1}  - 2*p_{i+1}*p_{i-1} + p_{i-1} "
      ]
     },
     "execution_count": 327,
     "metadata": {},
     "output_type": "execute_result"
    }
   ],
   "source": [
    "num = simplify(expand(lhs-rhs-t*(den)))"
   ]
  },
  {
   "cell_type": "code",
   "execution_count": 328,
   "metadata": {
    "collapsed": false
   },
   "outputs": [
    {
     "data": {
      "text/latex": [
       "$$0$$"
      ],
      "text/plain": [
       "0"
      ]
     },
     "execution_count": 328,
     "metadata": {},
     "output_type": "execute_result"
    }
   ],
   "source": [
    "simplify(subs(expr,t,-num/den)) #check solution: -num/den"
   ]
  },
  {
   "cell_type": "markdown",
   "metadata": {},
   "source": [
    "Harder constraints"
   ]
  },
  {
   "cell_type": "code",
   "execution_count": 227,
   "metadata": {
    "collapsed": false
   },
   "outputs": [],
   "source": [
    "x = t*P + (1-t)*Pk;\n",
    "xp1 = tp1*Pp1 + (1-tp1)*Pkp1;\n",
    "xm1 = tm1*Pm1 + (1-tm1)*Pkm1;"
   ]
  },
  {
   "cell_type": "code",
   "execution_count": 228,
   "metadata": {
    "collapsed": true
   },
   "outputs": [],
   "source": [
    "c = (x-xp1)^2 - (x-xm1)^2;"
   ]
  },
  {
   "cell_type": "code",
   "execution_count": 229,
   "metadata": {
    "collapsed": false
   },
   "outputs": [
    {
     "data": {
      "text/latex": [
       "$$- 2 p_{i} p_{{i+1}} t_{i} t_{{i+1}} + 2 p_{i} p_{{i-1}} t_{i} t_{{i-1}} + 2 p_{i} p_{{k {i+1}}} t_{i} t_{{i+1}} - 2 p_{i} p_{{k {i+1}}} t_{i} - 2 p_{i} p_{{k {i-1}}} t_{i} t_{{i-1}} + 2 p_{i} p_{{k {i-1}}} t_{i} + p_{{i+1}}^{2} t_{{i+1}}^{2} + 2 p_{{i+1}} p_{{k i}} t_{i} t_{{i+1}} - 2 p_{{i+1}} p_{{k i}} t_{{i+1}} - 2 p_{{i+1}} p_{{k {i+1}}} t_{{i+1}}^{2} + 2 p_{{i+1}} p_{{k {i+1}}} t_{{i+1}} - p_{{i-1}}^{2} t_{{i-1}}^{2} - 2 p_{{i-1}} p_{{k i}} t_{i} t_{{i-1}} + 2 p_{{i-1}} p_{{k i}} t_{{i-1}} + 2 p_{{i-1}} p_{{k {i-1}}} t_{{i-1}}^{2} - 2 p_{{i-1}} p_{{k {i-1}}} t_{{i-1}} - 2 p_{{k i}} p_{{k {i+1}}} t_{i} t_{{i+1}} + 2 p_{{k i}} p_{{k {i+1}}} t_{i} + 2 p_{{k i}} p_{{k {i+1}}} t_{{i+1}} - 2 p_{{k i}} p_{{k {i+1}}} + 2 p_{{k i}} p_{{k {i-1}}} t_{i} t_{{i-1}} - 2 p_{{k i}} p_{{k {i-1}}} t_{i} - 2 p_{{k i}} p_{{k {i-1}}} t_{{i-1}} + 2 p_{{k i}} p_{{k {i-1}}} + p_{{k {i+1}}}^{2} t_{{i+1}}^{2} - 2 p_{{k {i+1}}}^{2} t_{{i+1}} + p_{{k {i+1}}}^{2} - p_{{k {i-1}}}^{2} t_{{i-1}}^{2} + 2 p_{{k {i-1}}}^{2} t_{{i-1}} - p_{{k {i-1}}}^{2}$$"
      ],
      "text/plain": [
       "                                                                              \n",
       "-2*p_i*p_{i+1}*t_i*t_{i+1} + 2*p_i*p_{i-1}*t_i*t_{i-1} + 2*p_i*p_{k_{i+1}}*t_i\n",
       "\n",
       "                                                                              \n",
       "*t_{i+1} - 2*p_i*p_{k_{i+1}}*t_i - 2*p_i*p_{k_{i-1}}*t_i*t_{i-1} + 2*p_i*p_{k_\n",
       "\n",
       "                    2        2                                                \n",
       "{i-1}}*t_i + p_{i+1} *t_{i+1}  + 2*p_{i+1}*p_{k_i}*t_i*t_{i+1} - 2*p_{i+1}*p_{\n",
       "\n",
       "                                            2                                 \n",
       "k_i}*t_{i+1} - 2*p_{i+1}*p_{k_{i+1}}*t_{i+1}  + 2*p_{i+1}*p_{k_{i+1}}*t_{i+1} \n",
       "\n",
       "         2        2                                                           \n",
       "- p_{i-1} *t_{i-1}  - 2*p_{i-1}*p_{k_i}*t_i*t_{i-1} + 2*p_{i-1}*p_{k_i}*t_{i-1\n",
       "\n",
       "                                 2                                            \n",
       "} + 2*p_{i-1}*p_{k_{i-1}}*t_{i-1}  - 2*p_{i-1}*p_{k_{i-1}}*t_{i-1} - 2*p_{k_i}\n",
       "\n",
       "                                                                              \n",
       "*p_{k_{i+1}}*t_i*t_{i+1} + 2*p_{k_i}*p_{k_{i+1}}*t_i + 2*p_{k_i}*p_{k_{i+1}}*t\n",
       "\n",
       "                                                                              \n",
       "_{i+1} - 2*p_{k_i}*p_{k_{i+1}} + 2*p_{k_i}*p_{k_{i-1}}*t_i*t_{i-1} - 2*p_{k_i}\n",
       "\n",
       "                                                                              \n",
       "*p_{k_{i-1}}*t_i - 2*p_{k_i}*p_{k_{i-1}}*t_{i-1} + 2*p_{k_i}*p_{k_{i-1}} + p_{\n",
       "\n",
       "        2        2                2                      2              2     \n",
       "k_{i+1}} *t_{i+1}  - 2*p_{k_{i+1}} *t_{i+1} + p_{k_{i+1}}  - p_{k_{i-1}} *t_{i\n",
       "\n",
       "   2                2                      2\n",
       "-1}  + 2*p_{k_{i-1}} *t_{i-1} - p_{k_{i-1}} "
      ]
     },
     "execution_count": 229,
     "metadata": {},
     "output_type": "execute_result"
    }
   ],
   "source": [
    "expr = simplify(expand(c))"
   ]
  },
  {
   "cell_type": "markdown",
   "metadata": {},
   "source": [
    "Breaking it down into cases for $p_{k_i}$, $p_{k_{i+1}}$, and $p_{k_{i-1}}$: "
   ]
  },
  {
   "cell_type": "code",
   "execution_count": 238,
   "metadata": {
    "collapsed": false
   },
   "outputs": [],
   "source": [
    "pk_l = [Pp1, Pm1];\n",
    "pkp1_l = [P,Pp2];\n",
    "pkm1_l = [P,Pm2];\n",
    "allps = [Pm3,Pm2,Pm1,P,Pp1,Pp2,Pp3];"
   ]
  },
  {
   "cell_type": "code",
   "execution_count": 261,
   "metadata": {
    "collapsed": false,
    "scrolled": false
   },
   "outputs": [
    {
     "data": {
      "text/latex": [
       "$$2 p_{i}^{2} t_{i} t_{{i+1}} - 2 p_{i}^{2} t_{i} t_{{i-1}} + p_{i}^{2} t_{{i+1}}^{2} - 2 p_{i}^{2} t_{{i+1}} - p_{i}^{2} t_{{i-1}}^{2} + 2 p_{i}^{2} t_{{i-1}} - 4 p_{i} p_{{i+1}} t_{i} t_{{i+1}} + 2 p_{i} p_{{i+1}} t_{i} t_{{i-1}} - 2 p_{i} p_{{i+1}} t_{{i+1}}^{2} + 4 p_{i} p_{{i+1}} t_{{i+1}} - 2 p_{i} p_{{i+1}} t_{{i-1}} + 2 p_{i} p_{{i-1}} t_{i} t_{{i-1}} + 2 p_{i} p_{{i-1}} t_{{i-1}}^{2} - 2 p_{i} p_{{i-1}} t_{{i-1}} + 2 p_{{i+1}}^{2} t_{i} t_{{i+1}} + p_{{i+1}}^{2} t_{{i+1}}^{2} - 2 p_{{i+1}}^{2} t_{{i+1}} - 2 p_{{i+1}} p_{{i-1}} t_{i} t_{{i-1}} + 2 p_{{i+1}} p_{{i-1}} t_{{i-1}} - p_{{i-1}}^{2} t_{{i-1}}^{2}$$"
      ],
      "text/plain": [
       "     2                    2                  2        2        2              \n",
       "2*p_i *t_i*t_{i+1} - 2*p_i *t_i*t_{i-1} + p_i *t_{i+1}  - 2*p_i *t_{i+1} - p_i\n",
       "\n",
       "2        2        2                                                           \n",
       " *t_{i-1}  + 2*p_i *t_{i-1} - 4*p_i*p_{i+1}*t_i*t_{i+1} + 2*p_i*p_{i+1}*t_i*t_\n",
       "\n",
       "                             2                                                \n",
       "{i-1} - 2*p_i*p_{i+1}*t_{i+1}  + 4*p_i*p_{i+1}*t_{i+1} - 2*p_i*p_{i+1}*t_{i-1}\n",
       "\n",
       "                                                    2                         \n",
       " + 2*p_i*p_{i-1}*t_i*t_{i-1} + 2*p_i*p_{i-1}*t_{i-1}  - 2*p_i*p_{i-1}*t_{i-1} \n",
       "\n",
       "           2                      2        2            2                     \n",
       "+ 2*p_{i+1} *t_i*t_{i+1} + p_{i+1} *t_{i+1}  - 2*p_{i+1} *t_{i+1} - 2*p_{i+1}*\n",
       "\n",
       "                                                         2        2\n",
       "p_{i-1}*t_i*t_{i-1} + 2*p_{i+1}*p_{i-1}*t_{i-1} - p_{i-1} *t_{i-1} "
      ]
     },
     "metadata": {},
     "output_type": "display_data"
    },
    {
     "ename": "LoadError",
     "evalue": "LoadError: MethodError: `+` has no method matching +(::LaTeXStrings.LaTeXString, ::SymPy.Sym)\nClosest candidates are:\n  +(::Any, ::Any, !Matched::Any, !Matched::Any...)\n  +(!Matched::SymPy.SymbolicObject, ::SymPy.SymbolicObject)\n  +{T<:Number}(!Matched::T<:Number, ::T<:Number)\n  ...\nwhile loading In[261], in expression starting on line 11",
     "output_type": "error",
     "traceback": [
      "LoadError: MethodError: `+` has no method matching +(::LaTeXStrings.LaTeXString, ::SymPy.Sym)\nClosest candidates are:\n  +(::Any, ::Any, !Matched::Any, !Matched::Any...)\n  +(!Matched::SymPy.SymbolicObject, ::SymPy.SymbolicObject)\n  +{T<:Number}(!Matched::T<:Number, ::T<:Number)\n  ...\nwhile loading In[261], in expression starting on line 11",
      "",
      " [inlined code] from In[261]:27",
      " in anonymous at no file:0"
     ]
    }
   ],
   "source": [
    "Dii = symbols(\"D_{i,i}\", real=true);\n",
    "Dip1i = symbols(\"D_{i+1,i}\", real=true);\n",
    "Diim1 = symbols(\"D_{i,i-1}\", real=true);\n",
    "function prev_expr(expr)\n",
    "    ps = allps[2:end];\n",
    "    psm1 = allps[1:end-1];\n",
    "    subs(subs(expr,zip(ps,as)...),zip(as,psm1)...)\n",
    "end\n",
    "function next_expr(expr)\n",
    "    ps = allps[1:end-1];\n",
    "    psp1 = allps[2:end];\n",
    "    subs(subs(expr,zip(ps,as)...),zip(as,psp1)...)\n",
    "end\n",
    "for a in pk_l\n",
    "    x1 = subs(expr,Pk, a);\n",
    "    for b in pkp1_l\n",
    "        x2 = subs(x1,Pkp1, b);\n",
    "        for c in pkm1_l\n",
    "            x3 = subs(x2,Pkm1, c);\n",
    "            x4 = simplify(x3);\n",
    "            display(x4);\n",
    "            Dii1 = coeff(collect(x4,t^2),t^2);\n",
    "            Dim1im1 = coeff(collect(x4,tm1^2),tm1^2);\n",
    "            Dip1ip1 = coeff(collect(x4,tp1^2),tp1^2);\n",
    "            Dii2 = Dii1 + next_expr(Dim1im1) + prev_expr(Dip1ip1);\n",
    "            \n",
    "            Dip1i = coeff(collect(x4,t*tp1),t*tp1);\n",
    "            Dim1i = coeff(collect(x4,t*tm1),t*tm1);\n",
    "            Dip1inew = Dip1i + next_expr(Dim1i);\n",
    "            display(Dip1i);\n",
    "            display(Dim1i);\n",
    "            display(Dii);\n",
    "            println(\".\");\n",
    "        end\n",
    "    end\n",
    "end"
   ]
  },
  {
   "cell_type": "code",
   "execution_count": 183,
   "metadata": {
    "collapsed": false
   },
   "outputs": [
    {
     "data": {
      "text/latex": [
       "$$2 p_{i}^{2} t_{i} t_{{i+1}} - 2 p_{i}^{2} t_{i} t_{{i-1}} + p_{i}^{2} t_{{i+1}}^{2} - 2 p_{i}^{2} t_{{i+1}} - p_{i}^{2} t_{{i-1}}^{2} + 2 p_{i}^{2} t_{{i-1}} - 4 p_{i} p_{{i+1}} t_{i} t_{{i+1}} + 2 p_{i} p_{{i+1}} t_{i} t_{{i-1}} - 2 p_{i} p_{{i+1}} t_{{i+1}}^{2} + 4 p_{i} p_{{i+1}} t_{{i+1}} - 2 p_{i} p_{{i+1}} t_{{i-1}} + 2 p_{i} p_{{i-1}} t_{i} t_{{i-1}} + 2 p_{i} p_{{i-1}} t_{{i-1}}^{2} - 2 p_{i} p_{{i-1}} t_{{i-1}} + 2 p_{{i+1}}^{2} t_{i} t_{{i+1}} + p_{{i+1}}^{2} t_{{i+1}}^{2} - 2 p_{{i+1}}^{2} t_{{i+1}} - 2 p_{{i+1}} p_{{i-1}} t_{i} t_{{i-1}} + 2 p_{{i+1}} p_{{i-1}} t_{{i-1}} - p_{{i-1}}^{2} t_{{i-1}}^{2}$$"
      ],
      "text/plain": [
       "     2                    2                  2        2        2              \n",
       "2*p_i *t_i*t_{i+1} - 2*p_i *t_i*t_{i-1} + p_i *t_{i+1}  - 2*p_i *t_{i+1} - p_i\n",
       "\n",
       "2        2        2                                                           \n",
       " *t_{i-1}  + 2*p_i *t_{i-1} - 4*p_i*p_{i+1}*t_i*t_{i+1} + 2*p_i*p_{i+1}*t_i*t_\n",
       "\n",
       "                             2                                                \n",
       "{i-1} - 2*p_i*p_{i+1}*t_{i+1}  + 4*p_i*p_{i+1}*t_{i+1} - 2*p_i*p_{i+1}*t_{i-1}\n",
       "\n",
       "                                                    2                         \n",
       " + 2*p_i*p_{i-1}*t_i*t_{i-1} + 2*p_i*p_{i-1}*t_{i-1}  - 2*p_i*p_{i-1}*t_{i-1} \n",
       "\n",
       "           2                      2        2            2                     \n",
       "+ 2*p_{i+1} *t_i*t_{i+1} + p_{i+1} *t_{i+1}  - 2*p_{i+1} *t_{i+1} - 2*p_{i+1}*\n",
       "\n",
       "                                                         2        2\n",
       "p_{i-1}*t_i*t_{i-1} + 2*p_{i+1}*p_{i-1}*t_{i-1} - p_{i-1} *t_{i-1} "
      ]
     },
     "execution_count": 183,
     "metadata": {},
     "output_type": "execute_result"
    }
   ],
   "source": [
    "x1 = simplify(subs(subs(subs(expr,Pk, Pp1),Pkp1, P),Pkm1,P))"
   ]
  },
  {
   "cell_type": "code",
   "execution_count": 184,
   "metadata": {
    "collapsed": false
   },
   "outputs": [
    {
     "data": {
      "text/latex": [
       "$$p_{i}^{2} - 2 p_{i} p_{{i+1}} + p_{{i+1}}^{2}$$"
      ],
      "text/plain": [
       "   2                          2\n",
       "p_i  - 2*p_i*p_{i+1} + p_{i+1} "
      ]
     },
     "execution_count": 184,
     "metadata": {},
     "output_type": "execute_result"
    }
   ],
   "source": [
    "x2 = coeff(collect(x1, tp1^2), tp1^2)"
   ]
  },
  {
   "cell_type": "code",
   "execution_count": 185,
   "metadata": {
    "collapsed": false
   },
   "outputs": [
    {
     "data": {
      "text/latex": [
       "$$- p_{i}^{2} + 2 p_{i} p_{{i-1}} - p_{{i-1}}^{2}$$"
      ],
      "text/plain": [
       "     2                          2\n",
       "- p_i  + 2*p_i*p_{i-1} - p_{i-1} "
      ]
     },
     "execution_count": 185,
     "metadata": {},
     "output_type": "execute_result"
    }
   ],
   "source": [
    "x3 = coeff(collect(x1, tm1^2), tm1^2)"
   ]
  },
  {
   "cell_type": "code",
   "execution_count": 199,
   "metadata": {
    "collapsed": false
   },
   "outputs": [
    {
     "data": {
      "text/latex": [
       "$$p_{{i+1}}^{2} - 2 p_{{i+1}} p_{{i+2}} + p_{{i+2}}^{2}$$"
      ],
      "text/plain": [
       "       2                              2\n",
       "p_{i+1}  - 2*p_{i+1}*p_{i+2} + p_{i+2} "
      ]
     },
     "execution_count": 199,
     "metadata": {},
     "output_type": "execute_result"
    }
   ],
   "source": [
    "ps = [Pp1,P]\n",
    "as = [Pp2,Pp1]\n",
    "subs(x2,zip(ps,as)...)"
   ]
  },
  {
   "cell_type": "code",
   "execution_count": null,
   "metadata": {
    "collapsed": true
   },
   "outputs": [],
   "source": []
  }
 ],
 "metadata": {
  "kernelspec": {
   "display_name": "Julia 0.4.3",
   "language": "julia",
   "name": "julia-0.4"
  },
  "language_info": {
   "file_extension": ".jl",
   "mimetype": "application/julia",
   "name": "julia",
   "version": "0.4.3"
  }
 },
 "nbformat": 4,
 "nbformat_minor": 0
}
